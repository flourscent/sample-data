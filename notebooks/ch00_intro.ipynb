{
 "cells": [
  {
   "cell_type": "markdown",
   "metadata": {
    "id": "XngXq1SGWTKh"
   },
   "source": [
    "# 序章"
   ]
  },
  {
   "cell_type": "markdown",
   "metadata": {},
   "source": [
    "## ライブラリ・コマンドの準備"
   ]
  },
  {
   "cell_type": "code",
   "execution_count": null,
   "metadata": {
    "id": "mIh89F2d5OdR"
   },
   "outputs": [],
   "source": [
    "# 必要ライブラリ・コマンドの導入\n",
    "\n",
    "!pip install japanize_matplotlib | tail -n 1\n",
    "!pip install torchviz | tail -n 1\n",
    "w = !apt install tree\n",
    "print(w[-2])"
   ]
  },
  {
   "cell_type": "code",
   "execution_count": null,
   "metadata": {
    "id": "NxUum-JUWN-s"
   },
   "outputs": [],
   "source": [
    "# 必要ライブラリのインポート\n",
    "\n",
    "%matplotlib inline\n",
    "import numpy as np\n",
    "import matplotlib.pyplot as plt\n",
    "import japanize_matplotlib\n",
    "\n",
    "import torch\n",
    "import torch.nn as nn\n",
    "import torch.optim as optim\n",
    "import torchvision.datasets as datasets\n",
    "import torchvision.transforms as transforms\n",
    "from torch.utils.data import DataLoader"
   ]
  },
  {
   "cell_type": "markdown",
   "metadata": {},
   "source": [
    "## 初期設定"
   ]
  },
  {
   "cell_type": "code",
   "execution_count": null,
   "metadata": {
    "id": "Ky9ZRueUWiQr"
   },
   "outputs": [],
   "source": [
    "# 初期設定\n",
    "\n",
    "# デフォルトフォントサイズ変更\n",
    "plt.rcParams['font.size'] = 14"
   ]
  },
  {
   "cell_type": "code",
   "execution_count": null,
   "metadata": {
    "id": "GzMnr3qmWqgB"
   },
   "outputs": [],
   "source": [
    "# デバイスの割り当て (8章)\n",
    "\n",
    "device = torch.device(\"cuda\" if torch.cuda.is_available() else \"cpu\")\n",
    "print(device)"
   ]
  },
  {
   "cell_type": "code",
   "execution_count": null,
   "metadata": {
    "id": "0u2kbtvKWuGw"
   },
   "outputs": [],
   "source": [
    "# 共通関数の読み込み (9章)\n",
    "\n",
    "# 共通関数のダウンロード\n",
    "!git clone https://github.com/makaishi2/pythonlibs.git\n",
    "\n",
    "# 共通関数のロード\n",
    "from pythonlibs.torch_lib1 import *\n",
    "\n",
    "# 共通関数の存在チェック\n",
    "print(README)"
   ]
  },
  {
   "cell_type": "code",
   "execution_count": null,
   "metadata": {
    "id": "B5Zk7DmO1YL6"
   },
   "outputs": [],
   "source": [
    "# 乱数初期化　(結果を常に同じにするため)\n",
    "seed = 123\n",
    "torch.manual_seed(seed)\n",
    "torch.cuda.manual_seed_all(seed)"
   ]
  },
  {
   "cell_type": "markdown",
   "metadata": {},
   "source": [
    "## 学習データ読み込み"
   ]
  },
  {
   "cell_type": "code",
   "execution_count": null,
   "metadata": {
    "id": "mqgQOcSr8do-"
   },
   "outputs": [],
   "source": [
    "# 学習用データの取り込み (12章)\n",
    "\n",
    "# 学習用イメージのダウンロード\n",
    "w = !wget https://github.com/makaishi2/pythonlibs/raw/main/images/dog_wolf.zip\n",
    "print(w[-2])\n",
    "\n",
    "# 学習用イメージの展開\n",
    "w = !unzip dog_wolf.zip\n",
    "print(w[-1])\n",
    " # ディレクトリ名の設定\n",
    "data_dir = 'dog_wolf'\n",
    "\n",
    "# ディレクトリ名設定\n",
    "import os\n",
    "train_dir = os.path.join(data_dir, 'train')\n",
    "test_dir = os.path.join(data_dir, 'test')\n",
    "\n",
    "# 分類先クラス名設定\n",
    "classes = ['dog', 'wolf']\n",
    "\n",
    "# Treeコマンド導入\n",
    "\n",
    "\n",
    "# 解凍結果のツリー表示\n",
    "!tree dog_wolf"
   ]
  },
  {
   "cell_type": "code",
   "execution_count": null,
   "metadata": {
    "id": "hCf-dM21XQrs"
   },
   "outputs": [],
   "source": [
    "# 学習用データの準備 (8章、10章、12章)\n",
    "\n",
    "# transformの定義\n",
    "# 検証データ用 : 正規化のみ実施\n",
    "test_transform = transforms.Compose([\n",
    "    transforms.Resize(224),\n",
    "    transforms.CenterCrop(224),\n",
    "    transforms.ToTensor(),\n",
    "    transforms.Normalize(0.5, 0.5)\n",
    "])\n",
    "\n",
    "# 訓練データ用: 正規化に追加で反転とRandomErasingを実施\n",
    "train_transform = transforms.Compose([\n",
    "    transforms.RandomHorizontalFlip(p=0.5), \n",
    "    transforms.Resize(224),\n",
    "    transforms.CenterCrop(224),\n",
    "    transforms.RandomHorizontalFlip(),\n",
    "    transforms.ToTensor(),\n",
    "    transforms.Normalize(0.5, 0.5),\n",
    "    transforms.RandomErasing(p=0.5, scale=(0.02, 0.33), ratio=(0.3, 3.3), value=0, inplace=False)   \n",
    "])\n",
    "\n",
    "# datasetの定義\n",
    "train_data = datasets.ImageFolder(train_dir, transform=train_transform)\n",
    "test_data = datasets.ImageFolder(test_dir, transform=test_transform)\n",
    "\n",
    "# dataloaderの定義\n",
    "batch_size = 5\n",
    "train_loader = DataLoader(train_data, batch_size=batch_size, shuffle=True)\n",
    "test_loader = DataLoader(test_data, batch_size=batch_size, shuffle=False)\n",
    "test_loader2 = DataLoader(test_data, batch_size=10, shuffle=False)\n"
   ]
  },
  {
   "cell_type": "markdown",
   "metadata": {},
   "source": [
    "## 学習データのイメージ表示"
   ]
  },
  {
   "cell_type": "code",
   "execution_count": null,
   "metadata": {
    "id": "I5gNwN8bXdEK"
   },
   "outputs": [],
   "source": [
    "# 学習用データのイメージ表示 (9章)\n",
    "\n",
    "# 訓練データを取得\n",
    "for images, labels in test_loader2:\n",
    "    break\n",
    "\n",
    "print(labels)\n",
    "\n",
    "# 最初の10個の表示\n",
    "\n",
    "plt.figure(figsize=(15, 20))\n",
    "for i in range(10):\n",
    "    ax = plt.subplot(1, 10, i + 1)\n",
    "    image = images[i].numpy()\n",
    "    label_name = classes[labels[i]]\n",
    "    img = np.transpose(image, (1, 2, 0))\n",
    "    img2 = (img + 1)/2 \n",
    "    plt.imshow(img2)\n",
    "    ax.set_title(label_name)\n",
    "    ax.get_xaxis().set_visible(False)\n",
    "    ax.get_yaxis().set_visible(False)\n",
    "plt.show()"
   ]
  },
  {
   "cell_type": "markdown",
   "metadata": {},
   "source": [
    "## モデル構築"
   ]
  },
  {
   "cell_type": "code",
   "execution_count": null,
   "metadata": {
    "id": "-_ObltLYXi-C"
   },
   "outputs": [],
   "source": [
    "# 学習済みモデルを利用したモデル構築 (11章)\n",
    "\n",
    "# 学習済みモデルの読み込み\n",
    "from torchvision import models\n",
    "net = models.vgg19_bn(pretrained = True)\n",
    "\n",
    "for param in net.parameters():\n",
    "    param.requires_grad = False\n",
    "\n",
    "# 最終ノードの出力を2に変更する\n",
    "net.classifier[6] = nn.Linear(4096, 2)\n",
    "\n",
    "# GPUの利用\n",
    "net = net.to(device)\n",
    "\n",
    "# 損失関数に交差エントロピーを利用\n",
    "criterion = nn.CrossEntropyLoss()\n",
    "\n",
    "# 最適化関数の定義\n",
    "\n",
    "# 学習率\n",
    "lr = 0.001\n",
    "\n",
    "# 重み修正の対象を最終ノードに限定\n",
    "optimizer = optim.SGD(net.classifier[6].parameters(),lr=lr,momentum=0.9)\n",
    "\n",
    "# historyファイルも同時に初期化する\n",
    "history = np.zeros((0, 5))"
   ]
  },
  {
   "cell_type": "markdown",
   "metadata": {},
   "source": [
    "## 学習"
   ]
  },
  {
   "cell_type": "code",
   "execution_count": null,
   "metadata": {
    "id": "s1q2e_4X9xPV"
   },
   "outputs": [],
   "source": [
    "# 学習の実行 (9章)\n",
    "\n",
    "# 繰り返し回数\n",
    "num_epochs = 5\n",
    "\n",
    "# 学習\n",
    "history = fit(net, optimizer, criterion, num_epochs, train_loader, test_loader, device, history)"
   ]
  },
  {
   "cell_type": "markdown",
   "metadata": {},
   "source": [
    "## 結果確認"
   ]
  },
  {
   "cell_type": "code",
   "execution_count": null,
   "metadata": {},
   "outputs": [],
   "source": [
    "# 検証データを対象とした結果確認 (9章)\n",
    "show_predict_result(net, test_loader2, classes, device)"
   ]
  },
  {
   "cell_type": "markdown",
   "metadata": {
    "id": "gAV40i3HDhWj"
   },
   "source": [
    "## (参考)　共通関数の中身"
   ]
  },
  {
   "cell_type": "code",
   "execution_count": null,
   "metadata": {
    "id": "RoXnqlUHBk0a"
   },
   "outputs": [],
   "source": [
    "from tqdm.notebook import tqdm\n",
    "\n",
    "# 学習用関数\n",
    "def fit(net, optimizer, criterion, num_epochs, train_loader, test_loader, device, history):\n",
    "\n",
    "    base_epochs = len(history)\n",
    "  \n",
    "    for epoch in range(base_epochs, num_epochs+base_epochs):\n",
    "        train_loss = 0\n",
    "        train_acc = 0\n",
    "        val_loss = 0\n",
    "        val_acc = 0\n",
    "\n",
    "        #訓練フェーズ\n",
    "        net.train()\n",
    "        count = 0\n",
    "\n",
    "        for inputs, labels in tqdm(train_loader):\n",
    "            count += len(labels)\n",
    "            inputs = inputs.to(device)\n",
    "            labels = labels.to(device)\n",
    "\n",
    "            # 勾配の初期化\n",
    "            optimizer.zero_grad()\n",
    "\n",
    "            # 順伝搬計算\n",
    "            outputs = net(inputs)\n",
    "\n",
    "            # 誤差計算\n",
    "            loss = criterion(outputs, labels)\n",
    "            train_loss += loss.item()\n",
    "\n",
    "            # 勾配計算\n",
    "            loss.backward()\n",
    "\n",
    "            # 重み変更\n",
    "            optimizer.step()\n",
    "\n",
    "            #予測値算出\n",
    "            predicted = torch.max(outputs, 1)[1]\n",
    "\n",
    "            #正解件数算出\n",
    "            train_acc += (predicted == labels).sum()\n",
    "\n",
    "            # 訓練データに対する損失と精度の計算\n",
    "            avg_train_loss = train_loss / count\n",
    "            avg_train_acc = train_acc / count\n",
    "\n",
    "        #予測フェーズ\n",
    "        net.eval()\n",
    "        count = 0\n",
    "\n",
    "        for inputs, labels in test_loader:\n",
    "            count += len(labels)\n",
    "\n",
    "            inputs = inputs.to(device)\n",
    "            labels = labels.to(device)\n",
    "\n",
    "            # 順伝搬計算\n",
    "            outputs = net(inputs)\n",
    "\n",
    "            # 誤差計算\n",
    "            loss = criterion(outputs, labels)\n",
    "            val_loss += loss.item()\n",
    "\n",
    "            #予測値算出\n",
    "            predicted = torch.max(outputs, 1)[1]\n",
    "\n",
    "            #正解件数算出\n",
    "            val_acc += (predicted == labels).sum()\n",
    "\n",
    "            # 検証データに対する損失と精度の計算\n",
    "            avg_val_loss = val_loss / count\n",
    "            avg_val_acc = val_acc / count\n",
    "    \n",
    "        print (f'Epoch [{(epoch+1)}/{num_epochs+base_epochs}], loss: {avg_train_loss:.5f} acc: {avg_train_acc:.5f} val_loss: {avg_val_loss:.5f}, val_acc: {avg_val_acc:.5f}')\n",
    "        item = np.array([epoch+1, avg_train_loss, avg_train_acc, avg_val_loss, avg_val_acc])\n",
    "        history = np.vstack((history, item))\n",
    "    return history\n"
   ]
  },
  {
   "cell_type": "code",
   "execution_count": null,
   "metadata": {
    "id": "1PgwGyv7Bl7c"
   },
   "outputs": [],
   "source": [
    "# 予測結果表示\n",
    "def show_predict_result(net, loader, classes, device):\n",
    "\n",
    "    # DataLoaderから最初の1セットを取得する\n",
    "    for images, labels in loader:\n",
    "        break\n",
    "    n_size = min(len(images), 100)\n",
    "\n",
    "    # デバイスの割り当て\n",
    "    inputs = images.to(device)\n",
    "    labels = labels.to(device)\n",
    "\n",
    "    # 予測値の計算\n",
    "    outputs = net(inputs)\n",
    "    predicted = torch.max(outputs,1)[1]\n",
    "    images = images.to('cpu')\n",
    "\n",
    "    plt.figure(figsize=(15, 20))\n",
    "    for i in range(n_size):\n",
    "        ax = plt.subplot(10, 10, i + 1)\n",
    "        image = images[i].numpy()\n",
    "        label_name = classes[labels[i]]\n",
    "        predicted_name = classes[predicted[i]]\n",
    "        img = np.transpose(image, (1, 2, 0))\n",
    "        img2 = (img + 1)/2 \n",
    "        plt.imshow(img2)\n",
    "        if label_name == predicted_name:\n",
    "            c = 'k'\n",
    "        else:\n",
    "            c = 'b'\n",
    "        ax.set_title(label_name + ':' + predicted_name, c=c)\n",
    "        ax.get_xaxis().set_visible(False)\n",
    "        ax.get_yaxis().set_visible(False)\n",
    "    plt.show()\n"
   ]
  },
  {
   "cell_type": "code",
   "execution_count": null,
   "metadata": {
    "id": "23a-FUrlBl_s"
   },
   "outputs": [],
   "source": []
  },
  {
   "cell_type": "code",
   "execution_count": null,
   "metadata": {
    "id": "ZmSEaS-jBmDf"
   },
   "outputs": [],
   "source": []
  },
  {
   "cell_type": "code",
   "execution_count": null,
   "metadata": {
    "id": "lWSm14Bm4FRd"
   },
   "outputs": [],
   "source": [
    "# 学習の実行\n",
    "# 2021-03-20 08:55 gpu\n",
    "# torch.manual_seed(123)\n",
    "# torch.cuda.manual_seed_all(123)\n",
    "\n",
    "num_epochs = 5\n",
    "history = fit(net, optimizer, criterion, num_epochs, train_loader, test_loader, device, history)"
   ]
  },
  {
   "cell_type": "code",
   "execution_count": null,
   "metadata": {
    "id": "4I5s9pfM4FUz"
   },
   "outputs": [],
   "source": [
    "# 学習の実行\n",
    "# 2021-03-20 08:53 gpu\n",
    "# torch.manual_seed(123)\n",
    "# torch.cuda.manual_seed_all(123)\n",
    "\n",
    "num_epochs = 5\n",
    "history = fit(net, optimizer, criterion, num_epochs, train_loader, test_loader, device, history)"
   ]
  },
  {
   "cell_type": "code",
   "execution_count": null,
   "metadata": {
    "id": "x5x6DHx5iDVh"
   },
   "outputs": [],
   "source": []
  }
 ],
 "metadata": {
  "accelerator": "GPU",
  "colab": {
   "collapsed_sections": [],
   "name": "ch00_intro.ipynb",
   "provenance": []
  },
  "kernelspec": {
   "display_name": "Python 3",
   "language": "python",
   "name": "python3"
  },
  "language_info": {
   "codemirror_mode": {
    "name": "ipython",
    "version": 3
   },
   "file_extension": ".py",
   "mimetype": "text/x-python",
   "name": "python",
   "nbconvert_exporter": "python",
   "pygments_lexer": "ipython3",
   "version": "3.8.5"
  }
 },
 "nbformat": 4,
 "nbformat_minor": 1
}
