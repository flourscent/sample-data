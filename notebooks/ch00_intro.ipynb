{
  "nbformat": 4,
  "nbformat_minor": 0,
  "metadata": {
    "accelerator": "GPU",
    "colab": {
      "name": "ch00_intro.ipynb のコピー",
      "provenance": [],
      "collapsed_sections": [],
      "toc_visible": true
    },
    "kernelspec": {
      "display_name": "Python 3",
      "language": "python",
      "name": "python3"
    },
    "language_info": {
      "codemirror_mode": {
        "name": "ipython",
        "version": 3
      },
      "file_extension": ".py",
      "mimetype": "text/x-python",
      "name": "python",
      "nbconvert_exporter": "python",
      "pygments_lexer": "ipython3",
      "version": "3.8.5"
    }
  },
  "cells": [
    {
      "cell_type": "code",
      "metadata": {
        "id": "MNw9Kq0KVBJX"
      },
      "source": [
        "# PDF印刷用\n",
        "from IPython.display import set_matplotlib_formats\n",
        "set_matplotlib_formats('png', 'pdf')\n",
        "\n",
        "try:\n",
        "    from google.colab import files\n",
        "except:\n",
        "    pass\n",
        "\n",
        "pdf_ind = 1\n",
        "pdf_base = 'pdf-00-'\n",
        "\n",
        "def create_pdf(plt):\n",
        "    global pdf_ind, pdf_base\n",
        "    fn = f'{pdf_base}{pdf_ind:02d}.pdf'\n",
        "    print(fn)\n",
        "    plt.savefig(fn)\n",
        "    try:\n",
        "        files.download(fn)\n",
        "    except:\n",
        "        pass\n",
        "    pdf_ind = pdf_ind + 1"
      ],
      "execution_count": null,
      "outputs": []
    },
    {
      "cell_type": "markdown",
      "metadata": {
        "id": "XngXq1SGWTKh"
      },
      "source": [
        "# 序章"
      ]
    },
    {
      "cell_type": "markdown",
      "metadata": {
        "id": "C3Veo_gOEX6r"
      },
      "source": [
        "## ライブラリ・コマンドの準備"
      ]
    },
    {
      "cell_type": "code",
      "metadata": {
        "id": "mIh89F2d5OdR"
      },
      "source": [
        "# 必要ライブラリ・コマンドの導入\n",
        "!pip install japanize_matplotlib | tail -n 1\n",
        "!pip install torchviz | tail -n 1\n",
        "w = !apt install tree\n",
        "print(w[-2])"
      ],
      "execution_count": null,
      "outputs": []
    },
    {
      "cell_type": "code",
      "metadata": {
        "id": "NxUum-JUWN-s"
      },
      "source": [
        "# 必要ライブラリのインポート\n",
        "\n",
        "%matplotlib inline\n",
        "import numpy as np\n",
        "import matplotlib.pyplot as plt\n",
        "\n",
        "import torch\n",
        "import torch.nn as nn\n",
        "import torch.optim as optim\n",
        "import torchvision.datasets as datasets\n",
        "import torchvision.transforms as transforms\n",
        "from torch.utils.data import DataLoader"
      ],
      "execution_count": null,
      "outputs": []
    },
    {
      "cell_type": "markdown",
      "metadata": {
        "id": "2J_3IJXGEX6s"
      },
      "source": [
        "## 初期設定"
      ]
    },
    {
      "cell_type": "code",
      "metadata": {
        "id": "Ky9ZRueUWiQr"
      },
      "source": [
        "# 初期設定\n",
        "\n",
        "# デフォルトフォントサイズ変更\n",
        "plt.rcParams['font.size'] = 14"
      ],
      "execution_count": null,
      "outputs": []
    },
    {
      "cell_type": "code",
      "metadata": {
        "id": "GzMnr3qmWqgB"
      },
      "source": [
        "# デバイスの割り当て (8章)\n",
        "\n",
        "device = torch.device(\"cuda:0\" if torch.cuda.is_available() else \"cpu\")\n",
        "print(device)"
      ],
      "execution_count": null,
      "outputs": []
    },
    {
      "cell_type": "code",
      "metadata": {
        "id": "0u2kbtvKWuGw"
      },
      "source": [
        "# 共通関数の読み込み (9章)\n",
        "\n",
        "# 共通関数のダウンロード\n",
        "!git clone https://github.com/makaishi2/pythonlibs.git\n",
        "\n",
        "# 共通関数のロード\n",
        "from pythonlibs.torch_lib1 import *\n",
        "\n",
        "# 共通関数の存在チェック\n",
        "print(README)"
      ],
      "execution_count": null,
      "outputs": []
    },
    {
      "cell_type": "markdown",
      "metadata": {
        "id": "r45T9pLkEX6t"
      },
      "source": [
        "## 学習データ読み込み"
      ]
    },
    {
      "cell_type": "code",
      "metadata": {
        "id": "mqgQOcSr8do-"
      },
      "source": [
        "# 学習用データの取り込み (12章)\n",
        "\n",
        "# 学習用イメージのダウンロード\n",
        "w = !wget https://github.com/makaishi2/pythonlibs/raw/main/images/dog_wolf.zip\n",
        "print(w[-2])\n",
        "\n",
        "# 学習用イメージの展開\n",
        "w = !unzip dog_wolf.zip\n",
        "print(w[-1])\n",
        " # ディレクトリ名の設定\n",
        "data_dir = 'dog_wolf'\n",
        "\n",
        "# ディレクトリ名設定\n",
        "import os\n",
        "train_dir = os.path.join(data_dir, 'train')\n",
        "test_dir = os.path.join(data_dir, 'test')\n",
        "\n",
        "# 分類先クラス名設定\n",
        "classes = ['dog', 'wolf']\n",
        "\n",
        "# 解凍結果のツリー表示\n",
        "!tree dog_wolf"
      ],
      "execution_count": null,
      "outputs": []
    },
    {
      "cell_type": "code",
      "metadata": {
        "id": "hCf-dM21XQrs"
      },
      "source": [
        "# 学習用データの準備 (8章、10章、12章)\n",
        "\n",
        "# transformの定義\n",
        "# 検証データ用 : 正規化のみ実施\n",
        "test_transform = transforms.Compose([\n",
        "    transforms.Resize(224),\n",
        "    transforms.CenterCrop(224),\n",
        "    transforms.ToTensor(),\n",
        "    transforms.Normalize(0.5, 0.5)\n",
        "])\n",
        "\n",
        "# 訓練データ用: 正規化に追加で反転とRandomErasingを実施\n",
        "train_transform = transforms.Compose([\n",
        "    transforms.RandomHorizontalFlip(p=0.5), \n",
        "    transforms.Resize(224),\n",
        "    transforms.CenterCrop(224),\n",
        "    transforms.ToTensor(),\n",
        "    transforms.Normalize(0.5, 0.5),\n",
        "    transforms.RandomErasing(p=0.5, scale=(0.02, 0.33), ratio=(0.3, 3.3), value=0, inplace=False)   \n",
        "])\n",
        "\n",
        "# datasetの定義\n",
        "train_data = datasets.ImageFolder(train_dir, transform=train_transform)\n",
        "train_data2 = datasets.ImageFolder(train_dir, transform=test_transform)\n",
        "test_data = datasets.ImageFolder(test_dir, transform=test_transform)\n",
        "\n",
        "# dataloaderの定義\n",
        "batch_size = 5\n",
        "#train_loader = DataLoader(train_data, batch_size=batch_size, shuffle=True)\n",
        "train_loader = DataLoader(train_data, batch_size=5, shuffle=True)\n",
        "train_loader2 = DataLoader(train_data2, batch_size=40, shuffle=False)\n",
        "test_loader = DataLoader(test_data, batch_size=5, shuffle=False)\n",
        "test_loader2 = DataLoader(test_data, batch_size=10, shuffle=True)\n"
      ],
      "execution_count": null,
      "outputs": []
    },
    {
      "cell_type": "markdown",
      "metadata": {
        "id": "2Asmir2yEX6u"
      },
      "source": [
        "## 学習データのイメージ表示"
      ]
    },
    {
      "cell_type": "code",
      "metadata": {
        "id": "hgdFKDDWHjjR"
      },
      "source": [
        "# 学習用データ(４0件)\n",
        "show_images_labels(train_loader2, classes, None, device)"
      ],
      "execution_count": null,
      "outputs": []
    },
    {
      "cell_type": "code",
      "metadata": {
        "id": "l3eUMamIHaon"
      },
      "source": [
        "# 検証用データ(10件)\n",
        "torch_seed()\n",
        "show_images_labels(test_loader2, classes, None, device)"
      ],
      "execution_count": null,
      "outputs": []
    },
    {
      "cell_type": "markdown",
      "metadata": {
        "id": "NZ6GmOBbEX6u"
      },
      "source": [
        "## モデル構築"
      ]
    },
    {
      "cell_type": "code",
      "metadata": {
        "id": "-_ObltLYXi-C"
      },
      "source": [
        "# 学習済みモデルを利用したモデル構築 (11章)\n",
        "\n",
        "# 乱数初期化(共通関数)\n",
        "torch_seed()\n",
        "\n",
        "# 学習済みモデルの読み込み\n",
        "from torchvision import models\n",
        "net = models.vgg19_bn(pretrained = True)\n",
        "\n",
        "# 転移学習のためrequired_gradフラグをFalseにする\n",
        "for param in net.parameters():\n",
        "    param.requires_grad = False\n",
        "\n",
        "# 最終ノードの出力を2に変更する\n",
        "net.classifier[6] = nn.Linear(4096, 2)\n",
        "\n",
        "# GPUの利用\n",
        "net = net.to(device)\n",
        "\n",
        "# 損失関数に交差エントロピーを利用\n",
        "criterion = nn.CrossEntropyLoss()\n",
        "\n",
        "# 最適化関数の定義\n",
        "\n",
        "# 学習率\n",
        "lr = 0.001\n",
        "\n",
        "# 重み修正の対象を最終ノードに限定\n",
        "optimizer = optim.SGD(net.classifier[6].parameters(),lr=lr,momentum=0.9)\n",
        "\n",
        "# historyファイルも同時に初期化する\n",
        "history = np.zeros((0, 5))\n",
        "# 学習の実行 (9章)\n",
        "\n",
        "# 繰り返し回数\n",
        "num_epochs = 3\n",
        "\n",
        "# 学習(共通関数)\n",
        "history = fit(net, optimizer, criterion, num_epochs, train_loader, test_loader, device, history)"
      ],
      "execution_count": null,
      "outputs": []
    },
    {
      "cell_type": "markdown",
      "metadata": {
        "id": "6UO-4V1vEX6v"
      },
      "source": [
        "## 結果確認"
      ]
    },
    {
      "cell_type": "code",
      "metadata": {
        "id": "GFsTd7YHEX6v"
      },
      "source": [
        "# 検証データを対象とした結果確認 (9章　共通関数)\n",
        "show_images_labels(test_loader2, classes, net, device)"
      ],
      "execution_count": null,
      "outputs": []
    },
    {
      "cell_type": "markdown",
      "metadata": {
        "id": "gAV40i3HDhWj"
      },
      "source": [
        "## (参考)　共通関数の中身"
      ]
    },
    {
      "cell_type": "code",
      "metadata": {
        "id": "RoXnqlUHBk0a"
      },
      "source": [
        "\n",
        "# 学習用関数\n",
        "def fit(net, optimizer, criterion, num_epochs, train_loader, test_loader, device, history):\n",
        "\n",
        "    base_epochs = len(history)\n",
        "  \n",
        "    for epoch in range(base_epochs, num_epochs+base_epochs):\n",
        "        train_loss = 0\n",
        "        train_acc = 0\n",
        "        val_loss = 0\n",
        "        val_acc = 0\n",
        "\n",
        "        #訓練フェーズ\n",
        "        net.train()\n",
        "        count = 0\n",
        "        from tqdm.notebook import tqdm\n",
        "\n",
        "        for inputs, labels in tqdm(train_loader):\n",
        "            count += len(labels)\n",
        "            inputs = inputs.to(device)\n",
        "            labels = labels.to(device)\n",
        "\n",
        "            # 勾配の初期化\n",
        "            optimizer.zero_grad()\n",
        "\n",
        "            # 順伝搬計算\n",
        "            outputs = net(inputs)\n",
        "\n",
        "            # 誤差計算\n",
        "            loss = criterion(outputs, labels)\n",
        "            train_loss += loss.item()\n",
        "\n",
        "            # 勾配計算\n",
        "            loss.backward()\n",
        "\n",
        "            # 重み変更\n",
        "            optimizer.step()\n",
        "\n",
        "            #予測値算出\n",
        "            predicted = torch.max(outputs, 1)[1]\n",
        "\n",
        "            #正解件数算出\n",
        "            train_acc += (predicted == labels).sum()\n",
        "\n",
        "            # 訓練データに対する損失と精度の計算\n",
        "            avg_train_loss = train_loss / count\n",
        "            avg_train_acc = train_acc / count\n",
        "\n",
        "        #予測フェーズ\n",
        "        net.eval()\n",
        "        count = 0\n",
        "\n",
        "        for inputs, labels in test_loader:\n",
        "            count += len(labels)\n",
        "\n",
        "            inputs = inputs.to(device)\n",
        "            labels = labels.to(device)\n",
        "\n",
        "            # 順伝搬計算\n",
        "            outputs = net(inputs)\n",
        "\n",
        "            # 誤差計算\n",
        "            loss = criterion(outputs, labels)\n",
        "            val_loss += loss.item()\n",
        "\n",
        "            #予測値算出\n",
        "            predicted = torch.max(outputs, 1)[1]\n",
        "\n",
        "            #正解件数算出\n",
        "            val_acc += (predicted == labels).sum()\n",
        "\n",
        "            # 検証データに対する損失と精度の計算\n",
        "            avg_val_loss = val_loss / count\n",
        "            avg_val_acc = val_acc / count\n",
        "    \n",
        "        print (f'Epoch [{(epoch+1)}/{num_epochs+base_epochs}], loss: {avg_train_loss:.5f} acc: {avg_train_acc:.5f} val_loss: {avg_val_loss:.5f}, val_acc: {avg_val_acc:.5f}')\n",
        "        item = np.array([epoch+1, avg_train_loss, avg_train_acc, avg_val_loss, avg_val_acc])\n",
        "        history = np.vstack((history, item))\n",
        "    return history\n"
      ],
      "execution_count": null,
      "outputs": []
    },
    {
      "cell_type": "code",
      "metadata": {
        "id": "1PgwGyv7Bl7c"
      },
      "source": [
        "# イメージとラベル表示\n",
        "def show_images_labels(loader, classes, net, device):\n",
        "\n",
        "    # DataLoaderから最初の1セットを取得する\n",
        "    for images, labels in loader:\n",
        "        break\n",
        "    n_size = min(len(images), 50)\n",
        "\n",
        "    if net is not None:\n",
        "      # デバイスの割り当て\n",
        "      inputs = images.to(device)\n",
        "      labels = labels.to(device)\n",
        "\n",
        "      # 予測値の計算\n",
        "      outputs = net(inputs)\n",
        "      predicted = torch.max(outputs,1)[1]\n",
        "      #images = images.to('cpu')\n",
        "\n",
        "    # 最初の50個の表示\n",
        "    plt.figure(figsize=(20, 15))\n",
        "    for i in range(n_size):\n",
        "        ax = plt.subplot(5, 10, i + 1)\n",
        "        label_name = classes[labels[i]]\n",
        "        if net is not None:\n",
        "          predicted_name = classes[predicted[i]]\n",
        "          if label_name == predicted_name:\n",
        "            c = 'k'\n",
        "          else:\n",
        "            c = 'b'\n",
        "          ax.set_title(label_name + ':' + predicted_name, c=c, fontsize=20)\n",
        "        else:\n",
        "          ax.set_title(label_name, fontsize=20)\n",
        "        img = np.transpose(images[i].numpy(), (1, 2, 0))\n",
        "        plt.imshow((img + 1)/2)\n",
        "        ax.set_axis_off()\n",
        "    plt.show()\n"
      ],
      "execution_count": null,
      "outputs": []
    },
    {
      "cell_type": "code",
      "metadata": {
        "id": "M53TqEGz4NSt"
      },
      "source": [
        "# 乱数初期化\n",
        "\n",
        "def torch_seed(seed=123):\n",
        "    torch.manual_seed(seed)\n",
        "    torch.cuda.manual_seed(seed)\n",
        "    torch.backends.cudnn.deterministic = True\n"
      ],
      "execution_count": null,
      "outputs": []
    },
    {
      "cell_type": "code",
      "metadata": {
        "id": "23a-FUrlBl_s"
      },
      "source": [
        ""
      ],
      "execution_count": null,
      "outputs": []
    },
    {
      "cell_type": "code",
      "metadata": {
        "id": "ZmSEaS-jBmDf"
      },
      "source": [
        ""
      ],
      "execution_count": null,
      "outputs": []
    },
    {
      "cell_type": "code",
      "metadata": {
        "id": "x5x6DHx5iDVh"
      },
      "source": [
        ""
      ],
      "execution_count": null,
      "outputs": []
    }
  ]
}