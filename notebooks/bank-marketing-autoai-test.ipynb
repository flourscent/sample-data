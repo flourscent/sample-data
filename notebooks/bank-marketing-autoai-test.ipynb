{
 "cells": [
  {
   "cell_type": "markdown",
   "metadata": {
    "collapsed": true
   },
   "source": [
    "# Bank Marketing AutoAI Model Test\n",
    "\n",
    "以下のガイドに従って、**Watson Machine Laring認証情報**と、**Scoring URL**を調べて、結果を該当セルにコピーしてください。"
   ]
  },
  {
   "cell_type": "markdown",
   "metadata": {},
   "source": [
    "### Watson Machine Learning認証情報の設定"
   ]
  },
  {
   "cell_type": "markdown",
   "metadata": {},
   "source": [
    "##### 認証情報の調べ方  \n",
    "\n",
    "(1) Watson Studioの**Settings**タブの**Associated services**の欄を見て、Machine Learningサービスの名称を調べます。  \n",
    "![](https://github.com/makaishi2/sample-data/raw/master/images/waston-ml-01.png)\n",
    "画面例の場合は、`pm-20-ht`。\n",
    "\n",
    "(2) IBM Cloud管理画面 https://cloud.ibm.com/resources で、サービス名で検索をして、Machine Learningサービスを表示させます。\n",
    " ![](https://github.com/makaishi2/sample-data/raw/master/images/watson-ml-02.png)\n",
    "    \n",
    "(3) サービスのリンクをクリックします。\n",
    "\n",
    "(4) **サービス資格情報** -> **資格情報の表示** をクリックして、資格情報をクリップボードにコピーします。\n",
    " ![](https://github.com/makaishi2/sample-data/raw/master/images/watson-ml-03.png)\n",
    "    \n",
    "(5) コピーした結果を下のセルに張り付けます。  \n",
    "(必要なのは`instance_id`,`password`,`url`,`username`のみですが、他の項目が残っていても構いません。)"
   ]
  },
  {
   "cell_type": "code",
   "execution_count": 1,
   "metadata": {},
   "outputs": [],
   "source": [
    "wml_credentials = {\n",
    "  \"instance_id\": \"xxxx\",\n",
    "  \"password\": \"xxxx\",\n",
    "  \"url\": \"https://us-south.ml.cloud.ibm.com\",\n",
    "  \"username\": \"xxxx\"\n",
    "}    "
   ]
  },
  {
   "cell_type": "markdown",
   "metadata": {},
   "source": [
    "### APIのScoring URL設定"
   ]
  },
  {
   "cell_type": "markdown",
   "metadata": {},
   "source": [
    "#### Scoring URLの調べ方\n",
    "\n",
    "(1) Watson Studioのプロジェクト管理画面から**Deployments**タブを選択  \n",
    "リストの中から**Bank Marketing Deployment**のリンクをクリック\n",
    "\n",
    " ![](https://github.com/makaishi2/sample-data/raw/master/images/watson-ml-04.png)\n",
    "\n",
    "(2) Deploymentの詳細画面で**Deployment**タブをクリックし、**Scoring End-point**をコピーします。\n",
    "    \n",
    " ![](https://github.com/makaishi2/sample-data/raw/master/images/watson-ml-05.png)    "
   ]
  },
  {
   "cell_type": "code",
   "execution_count": 2,
   "metadata": {},
   "outputs": [],
   "source": [
    "# scoring URLの設定\n",
    "scoring_url = \"xxxx\""
   ]
  },
  {
   "cell_type": "markdown",
   "metadata": {},
   "source": [
    "### 必要ライブラリのimport"
   ]
  },
  {
   "cell_type": "code",
   "execution_count": 27,
   "metadata": {},
   "outputs": [],
   "source": [
    "%matplotlib inline\n",
    "import urllib3, requests, json\n",
    "import urllib.request\n",
    "import numpy as np\n",
    "import pandas as pd\n",
    "from IPython.display import display\n",
    "import matplotlib.pyplot as plt"
   ]
  },
  {
   "cell_type": "markdown",
   "metadata": {},
   "source": [
    "### Watson ML呼出し準備"
   ]
  },
  {
   "cell_type": "code",
   "execution_count": 6,
   "metadata": {},
   "outputs": [],
   "source": [
    "# Basic認証用ヘッダの生成\n",
    "auth = '{username}:{password}'.format(username=wml_credentials['username'], password=wml_credentials['password'])\n",
    "header_basic_auth = urllib3.util.make_headers(basic_auth=auth)\n",
    "url = '{}/v3/identity/token'.format(wml_credentials['url'])\n",
    "\n",
    "# Tokenの取得\n",
    "mltoken =  json.loads( requests.get(url, headers=header_basic_auth).text )['token']\n",
    "#print(mltoken)"
   ]
  },
  {
   "cell_type": "code",
   "execution_count": 7,
   "metadata": {},
   "outputs": [],
   "source": [
    "# Header の組立て\n",
    "header_token = {'Content-Type': 'application/json', 'Authorization': 'Bearer ' + mltoken}\n",
    "ml_instance_id = wml_credentials[\"instance_id\"]\n",
    "header = {'Content-Type': 'application/json', 'Authorization': 'Bearer ' + mltoken, 'ML-Instance-ID': ml_instance_id}"
   ]
  },
  {
   "cell_type": "markdown",
   "metadata": {},
   "source": [
    "### テスト用CSV読み込み\n",
    "学習に利用していない 521件のデータをまとめて読み込みます。"
   ]
  },
  {
   "cell_type": "code",
   "execution_count": 8,
   "metadata": {},
   "outputs": [
    {
     "data": {
      "text/plain": [
       "('bank-4000-rest.csv', <http.client.HTTPMessage at 0x112bdedd8>)"
      ]
     },
     "execution_count": 8,
     "metadata": {},
     "output_type": "execute_result"
    }
   ],
   "source": [
    "# ファイルをカレントディレクトリにダウンロード\n",
    "csv_url = 'https://raw.githubusercontent.com/makaishi2/sample-data/master/data/bank-4000-rest.csv'\n",
    "csv_filename = 'bank-4000-rest.csv'\n",
    "urllib.request.urlretrieve(csv_url, csv_filename)"
   ]
  },
  {
   "cell_type": "code",
   "execution_count": 9,
   "metadata": {},
   "outputs": [],
   "source": [
    "# データフレームに読み込み\n",
    "df_bank_test = pd.read_csv('bank-4000-rest.csv', names=[\"age\",\"job\",\"marital\",\"education\",\"default\",\"balance\",\n",
    "    \"housing\",\"loan\",\"contact\",\"day\",\"month\",\"duration\",\"campaign\",\"pdays\",\"previous\",\"poutcome\",\"Y\"])"
   ]
  },
  {
   "cell_type": "code",
   "execution_count": 10,
   "metadata": {},
   "outputs": [
    {
     "data": {
      "text/html": [
       "<div>\n",
       "<style scoped>\n",
       "    .dataframe tbody tr th:only-of-type {\n",
       "        vertical-align: middle;\n",
       "    }\n",
       "\n",
       "    .dataframe tbody tr th {\n",
       "        vertical-align: top;\n",
       "    }\n",
       "\n",
       "    .dataframe thead th {\n",
       "        text-align: right;\n",
       "    }\n",
       "</style>\n",
       "<table border=\"1\" class=\"dataframe\">\n",
       "  <thead>\n",
       "    <tr style=\"text-align: right;\">\n",
       "      <th></th>\n",
       "      <th>age</th>\n",
       "      <th>job</th>\n",
       "      <th>marital</th>\n",
       "      <th>education</th>\n",
       "      <th>default</th>\n",
       "      <th>balance</th>\n",
       "      <th>housing</th>\n",
       "      <th>loan</th>\n",
       "      <th>contact</th>\n",
       "      <th>day</th>\n",
       "      <th>month</th>\n",
       "      <th>duration</th>\n",
       "      <th>campaign</th>\n",
       "      <th>pdays</th>\n",
       "      <th>previous</th>\n",
       "      <th>poutcome</th>\n",
       "      <th>Y</th>\n",
       "    </tr>\n",
       "  </thead>\n",
       "  <tbody>\n",
       "    <tr>\n",
       "      <th>0</th>\n",
       "      <td>53</td>\n",
       "      <td>admin.</td>\n",
       "      <td>divorced</td>\n",
       "      <td>secondary</td>\n",
       "      <td>no</td>\n",
       "      <td>26</td>\n",
       "      <td>yes</td>\n",
       "      <td>no</td>\n",
       "      <td>cellular</td>\n",
       "      <td>7</td>\n",
       "      <td>may</td>\n",
       "      <td>56</td>\n",
       "      <td>1</td>\n",
       "      <td>359</td>\n",
       "      <td>1</td>\n",
       "      <td>failure</td>\n",
       "      <td>no</td>\n",
       "    </tr>\n",
       "    <tr>\n",
       "      <th>1</th>\n",
       "      <td>36</td>\n",
       "      <td>technician</td>\n",
       "      <td>married</td>\n",
       "      <td>secondary</td>\n",
       "      <td>no</td>\n",
       "      <td>191</td>\n",
       "      <td>no</td>\n",
       "      <td>no</td>\n",
       "      <td>cellular</td>\n",
       "      <td>31</td>\n",
       "      <td>aug</td>\n",
       "      <td>69</td>\n",
       "      <td>1</td>\n",
       "      <td>-1</td>\n",
       "      <td>0</td>\n",
       "      <td>unknown</td>\n",
       "      <td>no</td>\n",
       "    </tr>\n",
       "    <tr>\n",
       "      <th>2</th>\n",
       "      <td>58</td>\n",
       "      <td>technician</td>\n",
       "      <td>divorced</td>\n",
       "      <td>secondary</td>\n",
       "      <td>no</td>\n",
       "      <td>-123</td>\n",
       "      <td>no</td>\n",
       "      <td>no</td>\n",
       "      <td>cellular</td>\n",
       "      <td>5</td>\n",
       "      <td>aug</td>\n",
       "      <td>131</td>\n",
       "      <td>2</td>\n",
       "      <td>-1</td>\n",
       "      <td>0</td>\n",
       "      <td>unknown</td>\n",
       "      <td>no</td>\n",
       "    </tr>\n",
       "    <tr>\n",
       "      <th>3</th>\n",
       "      <td>26</td>\n",
       "      <td>student</td>\n",
       "      <td>single</td>\n",
       "      <td>secondary</td>\n",
       "      <td>no</td>\n",
       "      <td>-147</td>\n",
       "      <td>no</td>\n",
       "      <td>no</td>\n",
       "      <td>unknown</td>\n",
       "      <td>4</td>\n",
       "      <td>jun</td>\n",
       "      <td>95</td>\n",
       "      <td>2</td>\n",
       "      <td>-1</td>\n",
       "      <td>0</td>\n",
       "      <td>unknown</td>\n",
       "      <td>no</td>\n",
       "    </tr>\n",
       "    <tr>\n",
       "      <th>4</th>\n",
       "      <td>34</td>\n",
       "      <td>technician</td>\n",
       "      <td>single</td>\n",
       "      <td>secondary</td>\n",
       "      <td>no</td>\n",
       "      <td>179</td>\n",
       "      <td>no</td>\n",
       "      <td>no</td>\n",
       "      <td>cellular</td>\n",
       "      <td>19</td>\n",
       "      <td>aug</td>\n",
       "      <td>294</td>\n",
       "      <td>3</td>\n",
       "      <td>-1</td>\n",
       "      <td>0</td>\n",
       "      <td>unknown</td>\n",
       "      <td>no</td>\n",
       "    </tr>\n",
       "  </tbody>\n",
       "</table>\n",
       "</div>"
      ],
      "text/plain": [
       "   age         job   marital  education default  balance housing loan  \\\n",
       "0   53      admin.  divorced  secondary      no       26     yes   no   \n",
       "1   36  technician   married  secondary      no      191      no   no   \n",
       "2   58  technician  divorced  secondary      no     -123      no   no   \n",
       "3   26     student    single  secondary      no     -147      no   no   \n",
       "4   34  technician    single  secondary      no      179      no   no   \n",
       "\n",
       "    contact  day month  duration  campaign  pdays  previous poutcome   Y  \n",
       "0  cellular    7   may        56         1    359         1  failure  no  \n",
       "1  cellular   31   aug        69         1     -1         0  unknown  no  \n",
       "2  cellular    5   aug       131         2     -1         0  unknown  no  \n",
       "3   unknown    4   jun        95         2     -1         0  unknown  no  \n",
       "4  cellular   19   aug       294         3     -1         0  unknown  no  "
      ]
     },
     "metadata": {},
     "output_type": "display_data"
    }
   ],
   "source": [
    "display(df_bank_test.head())"
   ]
  },
  {
   "cell_type": "markdown",
   "metadata": {},
   "source": [
    "### 正解データ correctの抽出"
   ]
  },
  {
   "cell_type": "code",
   "execution_count": 11,
   "metadata": {},
   "outputs": [
    {
     "name": "stdout",
     "output_type": "stream",
     "text": [
      "['no' 'no' 'no' 'no' 'no' 'no' 'no' 'no' 'no' 'yes' 'no' 'no' 'no' 'no'\n",
      " 'no' 'no' 'no' 'no' 'no' 'no' 'no' 'yes' 'no' 'no' 'no' 'no' 'no' 'no'\n",
      " 'yes' 'no' 'no' 'no' 'no' 'no' 'no' 'no' 'no' 'no' 'no' 'no' 'yes' 'no'\n",
      " 'no' 'no' 'no' 'no' 'no' 'no' 'no' 'no']\n"
     ]
    }
   ],
   "source": [
    "correct = df_bank_test['Y'].values\n",
    "print(correct[:50])"
   ]
  },
  {
   "cell_type": "markdown",
   "metadata": {},
   "source": [
    "### API呼出し用入力データ配列の作成"
   ]
  },
  {
   "cell_type": "code",
   "execution_count": 12,
   "metadata": {},
   "outputs": [],
   "source": [
    "df_sub = df_bank_test.copy()\n",
    "\n",
    "# 目的変数列の削除\n",
    "df_sub = df_sub.drop('Y', axis=1)\n",
    "\n",
    "# np.nan値をNoneに置き換え\n",
    "df_sub = df_sub.where((pd.notnull(df_sub)), None)"
   ]
  },
  {
   "cell_type": "code",
   "execution_count": 13,
   "metadata": {},
   "outputs": [
    {
     "data": {
      "text/html": [
       "<div>\n",
       "<style scoped>\n",
       "    .dataframe tbody tr th:only-of-type {\n",
       "        vertical-align: middle;\n",
       "    }\n",
       "\n",
       "    .dataframe tbody tr th {\n",
       "        vertical-align: top;\n",
       "    }\n",
       "\n",
       "    .dataframe thead th {\n",
       "        text-align: right;\n",
       "    }\n",
       "</style>\n",
       "<table border=\"1\" class=\"dataframe\">\n",
       "  <thead>\n",
       "    <tr style=\"text-align: right;\">\n",
       "      <th></th>\n",
       "      <th>age</th>\n",
       "      <th>job</th>\n",
       "      <th>marital</th>\n",
       "      <th>education</th>\n",
       "      <th>default</th>\n",
       "      <th>balance</th>\n",
       "      <th>housing</th>\n",
       "      <th>loan</th>\n",
       "      <th>contact</th>\n",
       "      <th>day</th>\n",
       "      <th>month</th>\n",
       "      <th>duration</th>\n",
       "      <th>campaign</th>\n",
       "      <th>pdays</th>\n",
       "      <th>previous</th>\n",
       "      <th>poutcome</th>\n",
       "    </tr>\n",
       "  </thead>\n",
       "  <tbody>\n",
       "    <tr>\n",
       "      <th>0</th>\n",
       "      <td>53</td>\n",
       "      <td>admin.</td>\n",
       "      <td>divorced</td>\n",
       "      <td>secondary</td>\n",
       "      <td>no</td>\n",
       "      <td>26</td>\n",
       "      <td>yes</td>\n",
       "      <td>no</td>\n",
       "      <td>cellular</td>\n",
       "      <td>7</td>\n",
       "      <td>may</td>\n",
       "      <td>56</td>\n",
       "      <td>1</td>\n",
       "      <td>359</td>\n",
       "      <td>1</td>\n",
       "      <td>failure</td>\n",
       "    </tr>\n",
       "    <tr>\n",
       "      <th>1</th>\n",
       "      <td>36</td>\n",
       "      <td>technician</td>\n",
       "      <td>married</td>\n",
       "      <td>secondary</td>\n",
       "      <td>no</td>\n",
       "      <td>191</td>\n",
       "      <td>no</td>\n",
       "      <td>no</td>\n",
       "      <td>cellular</td>\n",
       "      <td>31</td>\n",
       "      <td>aug</td>\n",
       "      <td>69</td>\n",
       "      <td>1</td>\n",
       "      <td>-1</td>\n",
       "      <td>0</td>\n",
       "      <td>unknown</td>\n",
       "    </tr>\n",
       "    <tr>\n",
       "      <th>2</th>\n",
       "      <td>58</td>\n",
       "      <td>technician</td>\n",
       "      <td>divorced</td>\n",
       "      <td>secondary</td>\n",
       "      <td>no</td>\n",
       "      <td>-123</td>\n",
       "      <td>no</td>\n",
       "      <td>no</td>\n",
       "      <td>cellular</td>\n",
       "      <td>5</td>\n",
       "      <td>aug</td>\n",
       "      <td>131</td>\n",
       "      <td>2</td>\n",
       "      <td>-1</td>\n",
       "      <td>0</td>\n",
       "      <td>unknown</td>\n",
       "    </tr>\n",
       "    <tr>\n",
       "      <th>3</th>\n",
       "      <td>26</td>\n",
       "      <td>student</td>\n",
       "      <td>single</td>\n",
       "      <td>secondary</td>\n",
       "      <td>no</td>\n",
       "      <td>-147</td>\n",
       "      <td>no</td>\n",
       "      <td>no</td>\n",
       "      <td>unknown</td>\n",
       "      <td>4</td>\n",
       "      <td>jun</td>\n",
       "      <td>95</td>\n",
       "      <td>2</td>\n",
       "      <td>-1</td>\n",
       "      <td>0</td>\n",
       "      <td>unknown</td>\n",
       "    </tr>\n",
       "    <tr>\n",
       "      <th>4</th>\n",
       "      <td>34</td>\n",
       "      <td>technician</td>\n",
       "      <td>single</td>\n",
       "      <td>secondary</td>\n",
       "      <td>no</td>\n",
       "      <td>179</td>\n",
       "      <td>no</td>\n",
       "      <td>no</td>\n",
       "      <td>cellular</td>\n",
       "      <td>19</td>\n",
       "      <td>aug</td>\n",
       "      <td>294</td>\n",
       "      <td>3</td>\n",
       "      <td>-1</td>\n",
       "      <td>0</td>\n",
       "      <td>unknown</td>\n",
       "    </tr>\n",
       "  </tbody>\n",
       "</table>\n",
       "</div>"
      ],
      "text/plain": [
       "   age         job   marital  education default  balance housing loan  \\\n",
       "0   53      admin.  divorced  secondary      no       26     yes   no   \n",
       "1   36  technician   married  secondary      no      191      no   no   \n",
       "2   58  technician  divorced  secondary      no     -123      no   no   \n",
       "3   26     student    single  secondary      no     -147      no   no   \n",
       "4   34  technician    single  secondary      no      179      no   no   \n",
       "\n",
       "    contact  day month  duration  campaign  pdays  previous poutcome  \n",
       "0  cellular    7   may        56         1    359         1  failure  \n",
       "1  cellular   31   aug        69         1     -1         0  unknown  \n",
       "2  cellular    5   aug       131         2     -1         0  unknown  \n",
       "3   unknown    4   jun        95         2     -1         0  unknown  \n",
       "4  cellular   19   aug       294         3     -1         0  unknown  "
      ]
     },
     "metadata": {},
     "output_type": "display_data"
    }
   ],
   "source": [
    "display(df_sub.head())"
   ]
  },
  {
   "cell_type": "code",
   "execution_count": 14,
   "metadata": {},
   "outputs": [
    {
     "name": "stdout",
     "output_type": "stream",
     "text": [
      "['age', 'job', 'marital', 'education', 'default', 'balance', 'housing', 'loan', 'contact', 'day', 'month', 'duration', 'campaign', 'pdays', 'previous', 'poutcome']\n"
     ]
    }
   ],
   "source": [
    "# DataFrameから項目名Listの生成\n",
    "fields = df_sub.columns.tolist()\n",
    "print(fields)"
   ]
  },
  {
   "cell_type": "code",
   "execution_count": 15,
   "metadata": {
    "scrolled": true
   },
   "outputs": [
    {
     "name": "stdout",
     "output_type": "stream",
     "text": [
      "[[53, 'admin.', 'divorced', 'secondary', 'no', 26, 'yes', 'no', 'cellular', 7, 'may', 56, 1, 359, 1, 'failure'], [36, 'technician', 'married', 'secondary', 'no', 191, 'no', 'no', 'cellular', 31, 'aug', 69, 1, -1, 0, 'unknown']]\n"
     ]
    }
   ],
   "source": [
    "# DataFrameから入力用Listの生成\n",
    "values = df_sub.values.tolist()\n",
    "# テスト用\n",
    "#values = df_sub.head(2).values.tolist()\n",
    "print(values[:2])"
   ]
  },
  {
   "cell_type": "code",
   "execution_count": 16,
   "metadata": {},
   "outputs": [],
   "source": [
    "# payload変数の組立て\n",
    "payload_scoring = {\"input_data\": [{\n",
    "    \"fields\": fields, \n",
    "    \"values\": values\n",
    "}]}"
   ]
  },
  {
   "cell_type": "markdown",
   "metadata": {},
   "source": [
    "### APIの呼出し"
   ]
  },
  {
   "cell_type": "code",
   "execution_count": 17,
   "metadata": {},
   "outputs": [],
   "source": [
    "# APIの呼出し\n",
    "response_scoring = requests.post(scoring_url,  json=payload_scoring, headers=header)"
   ]
  },
  {
   "cell_type": "markdown",
   "metadata": {},
   "source": [
    "### 戻り値のparese"
   ]
  },
  {
   "cell_type": "code",
   "execution_count": 18,
   "metadata": {},
   "outputs": [],
   "source": [
    "# 戻り値のparse\n",
    "res = json.loads(response_scoring.text)\n",
    "\n",
    "pred = res['predictions'][0]\n",
    "pred_values = pred['values']\n",
    "pred_fields = pred['fields']\n",
    "df_res = pd.DataFrame(pred_values, columns = pred_fields)"
   ]
  },
  {
   "cell_type": "code",
   "execution_count": 19,
   "metadata": {},
   "outputs": [
    {
     "data": {
      "text/html": [
       "<div>\n",
       "<style scoped>\n",
       "    .dataframe tbody tr th:only-of-type {\n",
       "        vertical-align: middle;\n",
       "    }\n",
       "\n",
       "    .dataframe tbody tr th {\n",
       "        vertical-align: top;\n",
       "    }\n",
       "\n",
       "    .dataframe thead th {\n",
       "        text-align: right;\n",
       "    }\n",
       "</style>\n",
       "<table border=\"1\" class=\"dataframe\">\n",
       "  <thead>\n",
       "    <tr style=\"text-align: right;\">\n",
       "      <th></th>\n",
       "      <th>prediction</th>\n",
       "      <th>probability</th>\n",
       "    </tr>\n",
       "  </thead>\n",
       "  <tbody>\n",
       "    <tr>\n",
       "      <th>0</th>\n",
       "      <td>no</td>\n",
       "      <td>[0.9413460860089278, 0.05865391399107223]</td>\n",
       "    </tr>\n",
       "    <tr>\n",
       "      <th>1</th>\n",
       "      <td>no</td>\n",
       "      <td>[0.9839439849098387, 0.016056015090161264]</td>\n",
       "    </tr>\n",
       "    <tr>\n",
       "      <th>2</th>\n",
       "      <td>no</td>\n",
       "      <td>[0.9689762848893887, 0.0310237151106113]</td>\n",
       "    </tr>\n",
       "    <tr>\n",
       "      <th>3</th>\n",
       "      <td>no</td>\n",
       "      <td>[0.983296011477629, 0.016703988522371004]</td>\n",
       "    </tr>\n",
       "    <tr>\n",
       "      <th>4</th>\n",
       "      <td>no</td>\n",
       "      <td>[0.9097652531664269, 0.09023474683357308]</td>\n",
       "    </tr>\n",
       "  </tbody>\n",
       "</table>\n",
       "</div>"
      ],
      "text/plain": [
       "  prediction                                 probability\n",
       "0         no   [0.9413460860089278, 0.05865391399107223]\n",
       "1         no  [0.9839439849098387, 0.016056015090161264]\n",
       "2         no    [0.9689762848893887, 0.0310237151106113]\n",
       "3         no   [0.983296011477629, 0.016703988522371004]\n",
       "4         no   [0.9097652531664269, 0.09023474683357308]"
      ]
     },
     "metadata": {},
     "output_type": "display_data"
    }
   ],
   "source": [
    "display(df_res.head())"
   ]
  },
  {
   "cell_type": "markdown",
   "metadata": {},
   "source": [
    "### 精度評価"
   ]
  },
  {
   "cell_type": "code",
   "execution_count": 20,
   "metadata": {},
   "outputs": [],
   "source": [
    "# 予測値の抽出\n",
    "prediction = df_res['prediction'].values\n",
    "\n",
    "# 確率値のリスト取得\n",
    "w1 = df_res['probability'].values.tolist()\n",
    "probas = [item[1] for item in w1]"
   ]
  },
  {
   "cell_type": "code",
   "execution_count": 21,
   "metadata": {},
   "outputs": [],
   "source": [
    "# Accuracyの計算\n",
    "from sklearn.metrics import accuracy_score\n",
    "accuracy = accuracy_score(correct, prediction)"
   ]
  },
  {
   "cell_type": "code",
   "execution_count": 22,
   "metadata": {},
   "outputs": [],
   "source": [
    "# ROC AUCの計算\n",
    "from sklearn.metrics import auc\n",
    "from sklearn.metrics import roc_curve\n",
    "\n",
    "# fpr, tpr値の取得\n",
    "fpr, tpr, thresholds = roc_curve(correct, probas, pos_label='yes')\n",
    "\n",
    "# ROC AUCの計算\n",
    "roc_auc = auc(fpr, tpr)"
   ]
  },
  {
   "cell_type": "code",
   "execution_count": 23,
   "metadata": {},
   "outputs": [],
   "source": [
    "# 混同行列の計算\n",
    "from sklearn.metrics import confusion_matrix\n",
    "matrix = confusion_matrix(correct, prediction)\n",
    "df_matrix = pd.DataFrame(matrix, columns=['no', 'yes'], index=['no', 'yes'])"
   ]
  },
  {
   "cell_type": "markdown",
   "metadata": {},
   "source": [
    "### 精度評価結果表示"
   ]
  },
  {
   "cell_type": "code",
   "execution_count": 24,
   "metadata": {},
   "outputs": [
    {
     "data": {
      "text/html": [
       "<div>\n",
       "<style scoped>\n",
       "    .dataframe tbody tr th:only-of-type {\n",
       "        vertical-align: middle;\n",
       "    }\n",
       "\n",
       "    .dataframe tbody tr th {\n",
       "        vertical-align: top;\n",
       "    }\n",
       "\n",
       "    .dataframe thead th {\n",
       "        text-align: right;\n",
       "    }\n",
       "</style>\n",
       "<table border=\"1\" class=\"dataframe\">\n",
       "  <thead>\n",
       "    <tr style=\"text-align: right;\">\n",
       "      <th></th>\n",
       "      <th>no</th>\n",
       "      <th>yes</th>\n",
       "    </tr>\n",
       "  </thead>\n",
       "  <tbody>\n",
       "    <tr>\n",
       "      <th>no</th>\n",
       "      <td>447</td>\n",
       "      <td>11</td>\n",
       "    </tr>\n",
       "    <tr>\n",
       "      <th>yes</th>\n",
       "      <td>41</td>\n",
       "      <td>22</td>\n",
       "    </tr>\n",
       "  </tbody>\n",
       "</table>\n",
       "</div>"
      ],
      "text/plain": [
       "      no  yes\n",
       "no   447   11\n",
       "yes   41   22"
      ]
     },
     "metadata": {},
     "output_type": "display_data"
    }
   ],
   "source": [
    "### 混同行列表示\n",
    "display(df_matrix)"
   ]
  },
  {
   "cell_type": "markdown",
   "metadata": {},
   "source": [
    "#### 上記の意味\n",
    "\n",
    "元々は10件に1件しか成約がなかったのが、  \n",
    "モデルで予測することにより63件中22件成約できることになります。"
   ]
  },
  {
   "cell_type": "code",
   "execution_count": 25,
   "metadata": {},
   "outputs": [
    {
     "name": "stdout",
     "output_type": "stream",
     "text": [
      "Accuracy: 0.900\n",
      "ROC AUC : 0.887\n"
     ]
    }
   ],
   "source": [
    "# AccuracyとROC AUCの表示\n",
    "\n",
    "print(\"Accuracy: %0.3f\" % accuracy)\n",
    "print(\"ROC AUC : %0.3f\" % roc_auc)"
   ]
  },
  {
   "cell_type": "code",
   "execution_count": 52,
   "metadata": {},
   "outputs": [
    {
     "data": {
      "image/png": "[encoded data removed]",
      "text/plain": [
       "<Figure size 432x432 with 1 Axes>"
      ]
     },
     "metadata": {
      "needs_background": "light"
     },
     "output_type": "display_data"
    }
   ],
   "source": [
    "# ROC曲線の描画\n",
    "\n",
    "%matplotlib inline \n",
    "import matplotlib.pyplot as plt\n",
    "\n",
    "plt.figure(figsize=(6,6))\n",
    "plt.clf()\n",
    "plt.plot([0, 1], [0, 1], 'k--')\n",
    "plt.plot(fpr, tpr, label='ROC Curve')\n",
    "plt.xlim([0.0, 1.0])\n",
    "plt.ylim([0.0, 1.0])\n",
    "plt.title(\"ROC AUC : %0.3f\" % roc_auc)\n",
    "plt.show()"
   ]
  },
  {
   "cell_type": "code",
   "execution_count": 53,
   "metadata": {},
   "outputs": [
    {
     "name": "stdout",
     "output_type": "stream",
     "text": [
      "63 458\n",
      "22 41\n"
     ]
    }
   ],
   "source": [
    "# 正解データの yesとnoの数の計算\n",
    "y_count = np.count_nonzero(correct == 'yes')\n",
    "n_count = np.count_nonzero(correct == 'no')\n",
    "print(y_count, n_count)\n",
    "\n",
    "# 予測値がyesだったもののうち、正解データのyesとnoの数\n",
    "yy_count = df_matrix['yes']['yes']\n",
    "yn_count = df_matrix['no']['yes']\n",
    "print(yy_count, yn_count)"
   ]
  },
  {
   "cell_type": "code",
   "execution_count": 51,
   "metadata": {},
   "outputs": [
    {
     "data": {
      "image/png": "[encoded data removed]",
      "text/plain": [
       "<Figure size 432x288 with 2 Axes>"
      ]
     },
     "metadata": {},
     "output_type": "display_data"
    }
   ],
   "source": [
    "# モデルを使わない場合と使った場合の成約率の比較\n",
    "\n",
    "plt.subplot(1, 2, 1)\n",
    "label = ['yes', 'no']\n",
    "colors = [\"lightpink\", \"lightblue\"]\n",
    "x = np.array([y_count, n_count])\n",
    "plt.pie(x, labels=label, colors=colors,\n",
    "       autopct=\"%1.1f%%\", pctdistance=0.7)\n",
    "plt.title('No model case', fontsize=14)\n",
    "plt.axis('equal')\n",
    " \n",
    "plt.subplot(1, 2, 2)\n",
    "label = ['yes', 'no']\n",
    "colors = [\"lightpink\", \"lightblue\"]\n",
    "x = np.array([yy_count, yn_count])\n",
    "plt.pie(x, labels=label, colors=colors,\n",
    "       autopct=\"%1.1f%%\", pctdistance=0.7)\n",
    "plt.title('Model case', fontsize=14)\n",
    "plt.axis('equal')\n",
    "\n",
    "plt.show()"
   ]
  },
  {
   "cell_type": "code",
   "execution_count": null,
   "metadata": {},
   "outputs": [],
   "source": []
  }
 ],
 "metadata": {
  "kernelspec": {
   "display_name": "Python 3",
   "language": "python",
   "name": "python3"
  },
  "language_info": {
   "codemirror_mode": {
    "name": "ipython",
    "version": 3
   },
   "file_extension": ".py",
   "mimetype": "text/x-python",
   "name": "python",
   "nbconvert_exporter": "python",
   "pygments_lexer": "ipython3",
   "version": "3.7.3"
  }
 },
 "nbformat": 4,
 "nbformat_minor": 1
}
