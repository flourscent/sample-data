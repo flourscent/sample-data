{
 "cells": [
  {
   "cell_type": "code",
   "execution_count": null,
   "metadata": {},
   "outputs": [],
   "source": [
    "# 必要ライブラリの導入\n",
    "!pip install japanize-matplotlib | tail -n 1\n",
    "\n",
    "# 必要ライブラリのimport\n",
    "import pandas as pd\n",
    "import numpy as np\n",
    "import matplotlib.pyplot as plt\n",
    "\n",
    "# 日本語化対応\n",
    "import japanize_matplotlib #日本語化matplotlib"
   ]
  },
  {
   "cell_type": "markdown",
   "metadata": {
    "collapsed": true
   },
   "source": [
    "# 営業成約予測モデル\n",
    "\n",
    "以下のガイドに従って、**Watson Machine Laring認証情報**と、**Scoring URL**を調べて、結果を該当セルにコピーしてください。"
   ]
  },
  {
   "cell_type": "markdown",
   "metadata": {},
   "source": [
    "### Watson Machine Learning認証情報の設定"
   ]
  },
  {
   "cell_type": "markdown",
   "metadata": {},
   "source": [
    "##### 認証情報の調べ方  \n",
    "\n",
    "(1) Watson Studioの**Settings**タブの**Associated services**の欄を見て、Machine Learningサービスの名称を調べます。  \n",
    "![](https://github.com/makaishi2/sample-data/raw/master/images/waston-ml-01.png)\n",
    "画面例の場合は、`pm-20-ht`。\n",
    "\n",
    "(2) IBM Cloud管理画面 https://cloud.ibm.com/resources で、サービス名で検索をして、Machine Learningサービスを表示させます。\n",
    " ![](https://github.com/makaishi2/sample-data/raw/master/images/watson-ml-02.png)\n",
    "    \n",
    "(3) サービスのリンクをクリックします。\n",
    "\n",
    "(4) **サービス資格情報** -> **資格情報の表示** をクリックして、資格情報をクリップボードにコピーします。\n",
    " ![](https://github.com/makaishi2/sample-data/raw/master/images/watson-ml-03.png)\n",
    "    \n",
    "(5) コピーした結果を下のセルに張り付けます。  \n",
    "(必要なのは`instance_id`,`apikey`,`url`のみですが、他の項目が残っていても構いません。)"
   ]
  },
  {
   "cell_type": "code",
   "execution_count": null,
   "metadata": {},
   "outputs": [],
   "source": [
    "wml_credentials = {\n",
    "                   \"url\": \"https://us-south.ml.cloud.ibm.com\",\n",
    "                   \"apikey\":\"xxxx\",\n",
    "                   \"instance_id\": \"xxxx\"\n",
    "                  }\n"
   ]
  },
  {
   "cell_type": "markdown",
   "metadata": {},
   "source": [
    "### APIのScoring URL設定"
   ]
  },
  {
   "cell_type": "markdown",
   "metadata": {},
   "source": [
    "#### Scoring URLの調べ方\n",
    "\n",
    "(1) Watson Studioのプロジェクト管理画面から**デプロイメント**タブを選択  \n",
    "リストの中から**営業成約予測WEB**のリンクをクリック\n",
    "\n",
    " ![](https://github.com/makaishi2/sample-data/raw/master/images/watson-ml-04.png)\n",
    "\n",
    "(2) デプロイメントの詳細画面で**実装**タブをクリックし、**エンドポイントのスコアリング**をコピーします。\n",
    "    \n",
    " ![](https://github.com/makaishi2/sample-data/raw/master/images/watson-ml-05.png)    "
   ]
  },
  {
   "cell_type": "code",
   "execution_count": null,
   "metadata": {},
   "outputs": [],
   "source": [
    "# scoring URLの設定\n",
    "scoring_url = \"xxxx\""
   ]
  },
  {
   "cell_type": "markdown",
   "metadata": {},
   "source": [
    "### 必要ライブラリのimport"
   ]
  },
  {
   "cell_type": "code",
   "execution_count": null,
   "metadata": {},
   "outputs": [],
   "source": [
    "import urllib3, requests, json\n",
    "import urllib.request"
   ]
  },
  {
   "cell_type": "markdown",
   "metadata": {},
   "source": [
    "### Watson ML呼出し準備"
   ]
  },
  {
   "cell_type": "code",
   "execution_count": null,
   "metadata": {},
   "outputs": [],
   "source": [
    "# トークン取得\n",
    "apikey = wml_credentials[\"apikey\"]\n",
    "\n",
    "# Get an IAM token from IBM Cloud\n",
    "url     = \"https://iam.bluemix.net/oidc/token\"\n",
    "headers = { \"Content-Type\" : \"application/x-www-form-urlencoded\" }\n",
    "data    = \"apikey=\" + apikey + \"&grant_type=urn:ibm:params:oauth:grant-type:apikey\"\n",
    "IBM_cloud_IAM_uid = \"bx\"\n",
    "IBM_cloud_IAM_pwd = \"bx\"\n",
    "response  = requests.post( url, headers=headers, data=data, \n",
    "        auth=( IBM_cloud_IAM_uid, IBM_cloud_IAM_pwd ) )\n",
    "iam_token = response.json()[\"access_token\"]\n",
    "\n",
    "print('iam_token = ', iam_token)"
   ]
  },
  {
   "cell_type": "code",
   "execution_count": null,
   "metadata": {},
   "outputs": [],
   "source": [
    "# Header の組立て\n",
    "header_token = {'Content-Type': 'application/json', 'Authorization': 'Bearer ' + iam_token}\n",
    "ml_instance_id = wml_credentials[\"instance_id\"]\n",
    "header = {'Content-Type': 'application/json', 'Authorization': 'Bearer ' + iam_token, 'ML-Instance-ID': ml_instance_id}"
   ]
  },
  {
   "cell_type": "markdown",
   "metadata": {},
   "source": [
    "### テスト用CSV読み込み\n",
    "学習に利用していない 18085件のデータをまとめて読み込みます。"
   ]
  },
  {
   "cell_type": "code",
   "execution_count": null,
   "metadata": {},
   "outputs": [],
   "source": [
    "# ファイルをカレントディレクトリにダウンロード\n",
    "csv_url = 'https://raw.githubusercontent.com/makaishi2/sample-data/master/data/bank-test-autoai.csv'"
   ]
  },
  {
   "cell_type": "code",
   "execution_count": null,
   "metadata": {},
   "outputs": [],
   "source": [
    "# データフレームに読み込み\n",
    "df_bank_test = pd.read_csv(csv_url)"
   ]
  },
  {
   "cell_type": "code",
   "execution_count": null,
   "metadata": {},
   "outputs": [],
   "source": [
    "display(df_bank_test.head())\n",
    "print(df_bank_test.shape)"
   ]
  },
  {
   "cell_type": "markdown",
   "metadata": {},
   "source": [
    "### 正解データ correctの抽出"
   ]
  },
  {
   "cell_type": "code",
   "execution_count": null,
   "metadata": {},
   "outputs": [],
   "source": [
    "correct = df_bank_test['今回販促結果'].values\n",
    "correct_b = (correct == 'yes').astype(np.int)\n",
    "print(correct_b[:50])"
   ]
  },
  {
   "cell_type": "code",
   "execution_count": null,
   "metadata": {},
   "outputs": [],
   "source": [
    "display(df_bank_test['今回販促結果'].value_counts())"
   ]
  },
  {
   "cell_type": "code",
   "execution_count": null,
   "metadata": {},
   "outputs": [],
   "source": [
    "org_rate = df_bank_test['今回販促結果'].value_counts().yes/ len(df_bank_test)\n",
    "print('%.4f' % org_rate)"
   ]
  },
  {
   "cell_type": "markdown",
   "metadata": {},
   "source": [
    "### API呼出し用入力データ配列の作成"
   ]
  },
  {
   "cell_type": "code",
   "execution_count": null,
   "metadata": {},
   "outputs": [],
   "source": [
    "df_sub = df_bank_test.copy()\n",
    "\n",
    "# 目的変数列の削除\n",
    "df_sub = df_sub.drop('今回販促結果', axis=1)\n",
    "\n",
    "# np.nan値をNoneに置き換え\n",
    "df_sub = df_sub.where((pd.notnull(df_sub)), None)"
   ]
  },
  {
   "cell_type": "code",
   "execution_count": null,
   "metadata": {},
   "outputs": [],
   "source": [
    "display(df_sub.head())"
   ]
  },
  {
   "cell_type": "code",
   "execution_count": null,
   "metadata": {},
   "outputs": [],
   "source": [
    "# DataFrameから項目名Listの生成\n",
    "fields = df_sub.columns.tolist()\n",
    "print(fields)"
   ]
  },
  {
   "cell_type": "code",
   "execution_count": null,
   "metadata": {
    "scrolled": true
   },
   "outputs": [],
   "source": [
    "# DataFrameから入力用Listの生成\n",
    "values = df_sub.values.tolist()\n",
    "# テスト用\n",
    "#values = df_sub.head(2).values.tolist()\n",
    "print(values[:2])"
   ]
  },
  {
   "cell_type": "code",
   "execution_count": null,
   "metadata": {},
   "outputs": [],
   "source": [
    "# payload変数の組立て\n",
    "payload_scoring = {\"input_data\": [{\n",
    "    \"fields\": fields, \n",
    "    \"values\": values\n",
    "}]}"
   ]
  },
  {
   "cell_type": "markdown",
   "metadata": {},
   "source": [
    "### APIの呼出し"
   ]
  },
  {
   "cell_type": "code",
   "execution_count": null,
   "metadata": {},
   "outputs": [],
   "source": [
    "# APIの呼出し\n",
    "response_scoring = requests.post(scoring_url,  json=payload_scoring, headers=header)"
   ]
  },
  {
   "cell_type": "markdown",
   "metadata": {},
   "source": [
    "### 戻り値のparese"
   ]
  },
  {
   "cell_type": "code",
   "execution_count": null,
   "metadata": {},
   "outputs": [],
   "source": [
    "# 戻り値のparse\n",
    "res = json.loads(response_scoring.text)\n",
    "\n",
    "pred = res['predictions'][0]\n",
    "pred_values = pred['values']\n",
    "pred_fields = pred['fields']\n",
    "df_res = pd.DataFrame(pred_values, columns = pred_fields)"
   ]
  },
  {
   "cell_type": "code",
   "execution_count": null,
   "metadata": {},
   "outputs": [],
   "source": [
    "display(df_res.head())"
   ]
  },
  {
   "cell_type": "markdown",
   "metadata": {},
   "source": [
    "### 精度評価"
   ]
  },
  {
   "cell_type": "code",
   "execution_count": null,
   "metadata": {},
   "outputs": [],
   "source": [
    "# 予測値の抽出\n",
    "prediction = df_res['prediction'].values\n",
    "\n",
    "# 確率値のリスト取得\n",
    "w1 = df_res['probability'].values.tolist()\n",
    "probas = [item[1] for item in w1]"
   ]
  },
  {
   "cell_type": "code",
   "execution_count": null,
   "metadata": {},
   "outputs": [],
   "source": [
    "# Accuracyの計算\n",
    "from sklearn.metrics import accuracy_score\n",
    "accuracy = accuracy_score(correct, prediction)"
   ]
  },
  {
   "cell_type": "code",
   "execution_count": null,
   "metadata": {},
   "outputs": [],
   "source": [
    "# ROC AUCの計算\n",
    "from sklearn.metrics import auc\n",
    "from sklearn.metrics import roc_curve\n",
    "\n",
    "# fpr, tpr値の取得\n",
    "fpr, tpr, thresholds = roc_curve(correct, probas, pos_label='yes')\n",
    "\n",
    "# ROC AUCの計算\n",
    "roc_auc = auc(fpr, tpr)"
   ]
  },
  {
   "cell_type": "code",
   "execution_count": null,
   "metadata": {},
   "outputs": [],
   "source": [
    "# 混同行列表示用関数\n",
    "\n",
    "def make_cm(matrix, columns):\n",
    "    # matrix numpy配列\n",
    "    \n",
    "    # columns 項目名リスト\n",
    "    n = len(columns)\n",
    "    \n",
    "    # '正解データ'をn回繰り返すリスト生成\n",
    "    act = ['正解データ'] * n\n",
    "    pred = ['予測結果'] * n\n",
    "    \n",
    "    #データフレーム生成\n",
    "    cm = pd.DataFrame(matrix, \n",
    "        columns=[pred, columns], index=[act, columns])\n",
    "    return cm"
   ]
  },
  {
   "cell_type": "code",
   "execution_count": null,
   "metadata": {},
   "outputs": [],
   "source": [
    "# 混同行列の計算\n",
    "from sklearn.metrics import confusion_matrix\n",
    "matrix = confusion_matrix(correct, prediction)\n",
    "df_matrix = make_cm(matrix, ['失敗', '成功'])"
   ]
  },
  {
   "cell_type": "markdown",
   "metadata": {},
   "source": [
    "### 精度評価結果表示"
   ]
  },
  {
   "cell_type": "code",
   "execution_count": null,
   "metadata": {},
   "outputs": [],
   "source": [
    "### 混同行列表示\n",
    "display(df_matrix)"
   ]
  },
  {
   "cell_type": "code",
   "execution_count": null,
   "metadata": {},
   "outputs": [],
   "source": [
    "# precision / recall\n",
    "from sklearn.metrics import classification_report\n",
    "print(classification_report(correct, prediction))"
   ]
  },
  {
   "cell_type": "markdown",
   "metadata": {},
   "source": [
    "#### 上記の意味\n",
    "\n",
    "元々は11.7%しか成約がなかったのが、  \n",
    "モデルで予測することにより**43%成約できる**ことになります。  \n",
    "また、**成約できそうな顧客の88%はこのモデルで洗い出しができる**ことになります。"
   ]
  },
  {
   "cell_type": "code",
   "execution_count": null,
   "metadata": {},
   "outputs": [],
   "source": [
    "# AccuracyとROC AUCの表示\n",
    "\n",
    "print(\"Accuracy: %0.4f\" % accuracy)\n",
    "print(\"ROC AUC : %0.4f\" % roc_auc)"
   ]
  },
  {
   "cell_type": "code",
   "execution_count": null,
   "metadata": {},
   "outputs": [],
   "source": [
    "# ROC曲線の描画\n",
    "\n",
    "%matplotlib inline \n",
    "import matplotlib.pyplot as plt\n",
    "\n",
    "plt.figure(figsize=(6,6))\n",
    "plt.clf()\n",
    "plt.plot([0, 1], [0, 1], 'k--')\n",
    "plt.fill_between(fpr, tpr, label='ROC Curve')\n",
    "plt.xlim([0.0, 1.0])\n",
    "plt.ylim([0.0, 1.0])\n",
    "plt.title(\"ROC曲線 AUC値 : %0.3f\" % roc_auc)\n",
    "plt.show()"
   ]
  },
  {
   "cell_type": "code",
   "execution_count": null,
   "metadata": {},
   "outputs": [],
   "source": [
    "# 正解データの yesとnoの数の計算\n",
    "y_count = np.count_nonzero(correct == 'yes')\n",
    "n_count = np.count_nonzero(correct == 'no')\n",
    "print(y_count, n_count)\n",
    "\n",
    "# 予測値がyesだったもののうち、正解データのyesとnoの数\n",
    "yy_count = df_matrix.yes.yes\n",
    "yn_count = df_matrix.yes.no\n",
    "print(yy_count, yn_count)"
   ]
  },
  {
   "cell_type": "code",
   "execution_count": null,
   "metadata": {},
   "outputs": [],
   "source": [
    "# モデルを使わない場合と使った場合の成約率の比較\n",
    "\n",
    "plt.subplot(1, 2, 1)\n",
    "label = ['yes', 'no']\n",
    "colors = [\"lightpink\", \"lightblue\"]\n",
    "x = np.array([y_count, n_count])\n",
    "plt.pie(x, labels=label, colors=colors,\n",
    "       autopct=\"%1.1f%%\", pctdistance=0.7)\n",
    "plt.title('モデル未導入時', fontsize=14)\n",
    "plt.axis('equal')\n",
    " \n",
    "plt.subplot(1, 2, 2)\n",
    "label = ['yes', 'no']\n",
    "colors = [\"lightpink\", \"lightblue\"]\n",
    "x = np.array([yy_count, yn_count])\n",
    "plt.pie(x, labels=label, colors=colors,\n",
    "       autopct=\"%1.1f%%\", pctdistance=0.7)\n",
    "plt.title('モデル導入後', fontsize=14)\n",
    "plt.axis('equal')\n",
    "\n",
    "plt.show()"
   ]
  },
  {
   "cell_type": "code",
   "execution_count": null,
   "metadata": {},
   "outputs": [],
   "source": []
  }
 ],
 "metadata": {
  "kernelspec": {
   "display_name": "Python 3",
   "language": "python",
   "name": "python3"
  },
  "language_info": {
   "codemirror_mode": {
    "name": "ipython",
    "version": 3
   },
   "file_extension": ".py",
   "mimetype": "text/x-python",
   "name": "python",
   "nbconvert_exporter": "python",
   "pygments_lexer": "ipython3",
   "version": "3.7.6"
  }
 },
 "nbformat": 4,
 "nbformat_minor": 1
}
