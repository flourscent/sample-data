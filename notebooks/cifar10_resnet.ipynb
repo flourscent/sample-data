{
 "cells": [
  {
   "cell_type": "markdown",
   "metadata": {
    "id": "uXdaqJreWttS"
   },
   "source": [
    "# CIFAR10 Resnet版"
   ]
  },
  {
   "cell_type": "markdown",
   "metadata": {},
   "source": [
    "## ライブラリインポート"
   ]
  },
  {
   "cell_type": "code",
   "execution_count": null,
   "metadata": {
    "id": "9G_3srMAWpxW"
   },
   "outputs": [],
   "source": [
    "# PyTooch関連ライブラリインポート\n",
    "\n",
    "import torch\n",
    "import torchvision\n",
    "import torch.nn as nn\n",
    "from torch import optim\n",
    "import torch.nn.init as init\n",
    "import torchvision.transforms as transforms\n",
    "from torchvision import models\n",
    "from torch.utils.data import Dataset, DataLoader\n",
    "import torchvision.datasets as datasets"
   ]
  },
  {
   "cell_type": "code",
   "execution_count": 2,
   "metadata": {
    "colab": {
     "base_uri": "https://localhost:8080/"
    },
    "id": "5lBZ2Kh4Wxzy",
    "outputId": "aefffc8a-ab41-4e07-e9a0-ee7db9325229"
   },
   "outputs": [
    {
     "name": "stdout",
     "output_type": "stream",
     "text": [
      "1.7.0+cu101\n",
      "0.8.1+cu101\n"
     ]
    }
   ],
   "source": [
    "# バージョン確認\n",
    "\n",
    "print(torch.__version__)\n",
    "print(torchvision.__version__)"
   ]
  },
  {
   "cell_type": "code",
   "execution_count": null,
   "metadata": {
    "colab": {
     "base_uri": "https://localhost:8080/"
    },
    "id": "KQ23YiIBW7ib",
    "outputId": "9546102c-50ed-4708-d9ac-644ed9790899"
   },
   "outputs": [],
   "source": [
    "# それ以外のライブラリインポート\n",
    "\n",
    "%matplotlib inline\n",
    "import numpy as np\n",
    "!pip install japanize_matplotlib | tail -n 1\n",
    "import matplotlib.pyplot as plt\n",
    "import japanize_matplotlib"
   ]
  },
  {
   "cell_type": "markdown",
   "metadata": {},
   "source": [
    "## データ読み込み"
   ]
  },
  {
   "cell_type": "code",
   "execution_count": null,
   "metadata": {
    "id": "CldWJNOl2BoY"
   },
   "outputs": [],
   "source": [
    "# transformの定義\n",
    "\n",
    "# 検証データ用 : 正規化のみ実施\n",
    "transform = transforms.Compose([\n",
    "  transforms.ToTensor(),\n",
    "  transforms.Normalize((0.5, 0.5, 0.5), (0.5, 0.5, 0.5))\n",
    "])\n",
    "\n",
    "# 訓練データ用: 正規化に追加で反転とRandomErasingを実施\n",
    "transform_train = transforms.Compose([\n",
    "  transforms.RandomHorizontalFlip(p=0.5), \n",
    "  transforms.ToTensor(),\n",
    "  transforms.Normalize([0.5, 0.5, 0.5], [0.5, 0.5, 0.5]), \n",
    "  transforms.RandomErasing(p=0.5, scale=(0.02, 0.33), ratio=(0.3, 3.3), value=0, inplace=False)\n",
    "])\n"
   ]
  },
  {
   "cell_type": "code",
   "execution_count": null,
   "metadata": {
    "colab": {
     "base_uri": "https://localhost:8080/"
    },
    "id": "EoTXYR_yW_AM",
    "outputId": "eb7a4e70-fbda-4597-c3eb-6a483e283b19"
   },
   "outputs": [],
   "source": [
    "# データディレクトリ\n",
    "data_dir = './cifar10'\n",
    "\n",
    "# 学習データ読み込み\n",
    "batch_size = 100\n",
    "\n",
    "# DatasetとDataLoaderの定義\n",
    "\n",
    "# 訓練用\n",
    "train_data = datasets.CIFAR10(root = data_dir, train = True, download = True, \n",
    "  transform=transform_train)\n",
    "train_loader = DataLoader(train_data, batch_size=batch_size, shuffle=True)\n",
    "\n",
    "# 検証用\n",
    "test_data = datasets.CIFAR10(root=data_dir, train = False, download = False, \n",
    "  transform=transform)\n",
    "test_loader = DataLoader(test_data, batch_size=batch_size, shuffle=False)\n"
   ]
  },
  {
   "cell_type": "markdown",
   "metadata": {},
   "source": [
    "## GPUのチェック"
   ]
  },
  {
   "cell_type": "code",
   "execution_count": 111,
   "metadata": {
    "colab": {
     "base_uri": "https://localhost:8080/"
    },
    "id": "RFff3IjVXGLe",
    "outputId": "e1653ecb-854f-4705-d1ef-7bbb1b60d87f"
   },
   "outputs": [
    {
     "name": "stdout",
     "output_type": "stream",
     "text": [
      "cuda\n"
     ]
    }
   ],
   "source": [
    "device = torch.device(\"cuda\" if torch.cuda.is_available() else \"cpu\")\n",
    "print(device)"
   ]
  },
  {
   "cell_type": "markdown",
   "metadata": {},
   "source": [
    "## 学習済みモデルの読み込み"
   ]
  },
  {
   "cell_type": "code",
   "execution_count": null,
   "metadata": {
    "id": "Wg2hheHga9sh"
   },
   "outputs": [],
   "source": [
    "model_ft = models.resnet50(pretrained = True)\n",
    "# model_ft = models.resnet18(pretrained = True)\n",
    "# model_ft = models.resnet152(pretrained = True)\n",
    "# model_ft = models.vgg19_bn(pretrained = True)\n",
    "\n",
    "# 最終ノードの出力を10に変更する\n",
    "model_ft.fc = nn.Linear(model_ft.fc.in_features, 10)\n",
    "\n",
    "# resnetの時は下に修正しないとエラーになる\n",
    "#model_ft.fc = nn.Linear(4096, 10)\n",
    "\n",
    "# GPUの利用\n",
    "net = model_ft.to(device)\n",
    "\n",
    "# 損失関数に交差エントロピーを利用\n",
    "criterion = nn.CrossEntropyLoss()\n",
    "\n",
    "# 最適化に関しては、いくつかのパターンを調べた結果、下記が一番結果がよかった\n",
    "optimizer = optim.SGD(net.parameters(),lr=0.001,momentum=0.9)"
   ]
  },
  {
   "cell_type": "code",
   "execution_count": null,
   "metadata": {
    "id": "-ofPl2kbbNbQ"
   },
   "outputs": [],
   "source": [
    "# モデルの概要表示をしたい場合\n",
    "\n",
    "# net"
   ]
  },
  {
   "cell_type": "code",
   "execution_count": null,
   "metadata": {
    "id": "Qm41JNiMbNg9"
   },
   "outputs": [],
   "source": [
    "# モデルのサマリー表示をしたい場合\n",
    "\n",
    "#from torchsummary import summary\n",
    "#summary(net,(3,32,32))"
   ]
  },
  {
   "cell_type": "markdown",
   "metadata": {},
   "source": [
    "## 学習"
   ]
  },
  {
   "cell_type": "code",
   "execution_count": null,
   "metadata": {
    "id": "zN6k6ZGxfILa"
   },
   "outputs": [],
   "source": [
    "# 記録用リストの初期化\n",
    "\n",
    "train_loss_list = []\n",
    "train_acc_list = []\n",
    "val_loss_list = []\n",
    "val_acc_list = []\n",
    "\n",
    "nb_epoch = 20\n",
    "#nb_epoch = 10"
   ]
  },
  {
   "cell_type": "markdown",
   "metadata": {},
   "source": [
    "## 学習メインループ"
   ]
  },
  {
   "cell_type": "code",
   "execution_count": 117,
   "metadata": {
    "colab": {
     "base_uri": "https://localhost:8080/"
    },
    "id": "7SvfUojueRn_",
    "outputId": "54f0ee17-0455-45ca-8195-4cbcd392bb86"
   },
   "outputs": [
    {
     "name": "stdout",
     "output_type": "stream",
     "text": [
      "Epoch [1/20], loss: 0.01219 acc: 0.57030 val_loss: 0.00720, val_acc: 0.74880\n",
      "Epoch [2/20], loss: 0.00765 acc: 0.73106 val_loss: 0.00588, val_acc: 0.79330\n",
      "Epoch [3/20], loss: 0.00641 acc: 0.77696 val_loss: 0.00527, val_acc: 0.81850\n",
      "Epoch [4/20], loss: 0.00557 acc: 0.80516 val_loss: 0.00486, val_acc: 0.83420\n",
      "Epoch [5/20], loss: 0.00496 acc: 0.82710 val_loss: 0.00472, val_acc: 0.84200\n",
      "Epoch [6/20], loss: 0.00448 acc: 0.84486 val_loss: 0.00453, val_acc: 0.84300\n",
      "Epoch [7/20], loss: 0.00415 acc: 0.85530 val_loss: 0.00446, val_acc: 0.84880\n",
      "Epoch [8/20], loss: 0.00377 acc: 0.86842 val_loss: 0.00446, val_acc: 0.85550\n",
      "Epoch [9/20], loss: 0.00349 acc: 0.87958 val_loss: 0.00447, val_acc: 0.85280\n",
      "Epoch [10/20], loss: 0.00320 acc: 0.89036 val_loss: 0.00458, val_acc: 0.85230\n",
      "Epoch [11/20], loss: 0.00295 acc: 0.89884 val_loss: 0.00459, val_acc: 0.85860\n",
      "Epoch [12/20], loss: 0.00277 acc: 0.90416 val_loss: 0.00463, val_acc: 0.85810\n",
      "Epoch [13/20], loss: 0.00263 acc: 0.90986 val_loss: 0.00453, val_acc: 0.85910\n",
      "Epoch [14/20], loss: 0.00243 acc: 0.91648 val_loss: 0.00462, val_acc: 0.86150\n",
      "Epoch [15/20], loss: 0.00231 acc: 0.92126 val_loss: 0.00463, val_acc: 0.85920\n",
      "Epoch [16/20], loss: 0.00218 acc: 0.92566 val_loss: 0.00467, val_acc: 0.86300\n",
      "Epoch [17/20], loss: 0.00205 acc: 0.92948 val_loss: 0.00468, val_acc: 0.86290\n",
      "Epoch [18/20], loss: 0.00198 acc: 0.93202 val_loss: 0.00470, val_acc: 0.86480\n",
      "Epoch [19/20], loss: 0.00196 acc: 0.93318 val_loss: 0.00480, val_acc: 0.86420\n",
      "Epoch [20/20], loss: 0.00183 acc: 0.93852 val_loss: 0.00487, val_acc: 0.85990\n"
     ]
    }
   ],
   "source": [
    "for i in range(nb_epoch):\n",
    "  train_loss = 0\n",
    "  train_acc = 0\n",
    "  val_loss = 0\n",
    "  val_acc = 0\n",
    "\n",
    "  #学習\n",
    "  net.train()\n",
    "\n",
    "  for images, labels in train_loader:\n",
    "\n",
    "    #勾配の初期化(ループの頭でやる必要あり)\n",
    "    optimizer.zero_grad()\n",
    "\n",
    "    # 訓練データの準備\n",
    "    images = images.to(device)\n",
    "    labels = labels.to(device)\n",
    "\n",
    "    # 順伝搬計算\n",
    "    outputs = net(images)\n",
    "\n",
    "    # 誤差計算\n",
    "    loss = criterion(outputs, labels)\n",
    "    train_loss += loss.item()\n",
    "\n",
    "    # 学習\n",
    "    loss.backward()\n",
    "    optimizer.step()\n",
    "\n",
    "    #予測値算出\n",
    "    predicted = outputs.max(1)[1]\n",
    "\n",
    "    #正解件数算出\n",
    "    train_acc += (predicted == labels).sum()\n",
    "\n",
    "  # 訓練データに対する損失と精度の計算\n",
    "  avg_train_loss = train_loss / len(train_loader.dataset)\n",
    "  avg_train_acc = train_acc / len(train_loader.dataset)\n",
    "\n",
    "  #評価\n",
    "  net.eval()\n",
    "  with torch.no_grad():\n",
    "\n",
    "    for images, labels in test_loader:\n",
    "\n",
    "      # テストデータの準備\n",
    "      images = images.to(device)\n",
    "      labels = labels.to(device)\n",
    "\n",
    "      # 順伝搬計算\n",
    "      outputs = net(images)\n",
    "\n",
    "      # 誤差計算\n",
    "      loss = criterion(outputs, labels)\n",
    "      val_loss += loss.item()\n",
    "\n",
    "      #予測値算出\n",
    "      predicted = outputs.max(1)[1]\n",
    "\n",
    "      #正解件数算出\n",
    "      val_acc += (predicted == labels).sum()\n",
    "\n",
    "    # 検証データに対する損失と精度の計算\n",
    "    avg_val_loss = val_loss / len(test_loader.dataset)\n",
    "    avg_val_acc = val_acc / len(test_loader.dataset)\n",
    "\n",
    "  print (f'Epoch [{(i+1)}/{nb_epoch}], loss: {avg_train_loss:.5f} acc: {avg_train_acc:.5f} val_loss: {avg_val_loss:.5f}, val_acc: {avg_val_acc:.5f}')\n",
    "  train_loss_list.append(avg_train_loss)\n",
    "  train_acc_list.append(avg_train_acc)\n",
    "  val_loss_list.append(avg_val_loss)\n",
    "  val_acc_list.append(avg_val_acc)\n"
   ]
  },
  {
   "cell_type": "code",
   "execution_count": null,
   "metadata": {
    "id": "QIdw0V4D8GR0"
   },
   "outputs": [],
   "source": [
    "#val_loss_lists = {}\n",
    "#val_acc_lists = {}"
   ]
  },
  {
   "cell_type": "code",
   "execution_count": null,
   "metadata": {
    "id": "updG0nct8OxK"
   },
   "outputs": [],
   "source": [
    "ind = 'resnet50'\n",
    "val_loss_lists[ind] = val_loss_list\n",
    "val_acc_lists[ind] = val_acc_list"
   ]
  },
  {
   "cell_type": "code",
   "execution_count": null,
   "metadata": {
    "id": "9ViBqrFwJf2P"
   },
   "outputs": [],
   "source": [
    "# print(val_loss_lists.keys())"
   ]
  },
  {
   "cell_type": "code",
   "execution_count": null,
   "metadata": {
    "id": "NNlR2-TeRWdP"
   },
   "outputs": [],
   "source": [
    "#ind = 'resnet50'\n",
    "#val_loss_lists[ind] = val_loss_lists['hf_re']\n",
    "#val_acc_lists[ind] = val_acc_lists['hf_re']"
   ]
  },
  {
   "cell_type": "code",
   "execution_count": 122,
   "metadata": {
    "colab": {
     "base_uri": "https://localhost:8080/",
     "height": 393
    },
    "id": "dHkXcEnFRx4w",
    "outputId": "03f7d18b-cc26-4f0c-ec59-5c941c6606ca"
   },
   "outputs": [
    {
     "data": {
      "image/png": "[encoded data removed]",
      "text/plain": [
       "<Figure size 576x432 with 1 Axes>"
      ]
     },
     "metadata": {
      "needs_background": "light",
      "tags": []
     },
     "output_type": "display_data"
    }
   ],
   "source": [
    "# 学習曲線 (損失関数値)\n",
    "plt.figure(figsize=(8,6))\n",
    "plt.plot(val_loss_list,label=ind, lw=2, c='b')\n",
    "plt.title('学習曲線 (損失関数値)')\n",
    "plt.xticks(size=14)\n",
    "plt.yticks(size=14)\n",
    "plt.grid(lw=2)\n",
    "plt.legend(fontsize=14)\n",
    "plt.xticks(np.arange(0, 21, 2))\n",
    "plt.show()"
   ]
  },
  {
   "cell_type": "code",
   "execution_count": 123,
   "metadata": {
    "colab": {
     "base_uri": "https://localhost:8080/",
     "height": 393
    },
    "id": "fu8cfL_QR6pN",
    "outputId": "029854d1-2f38-4e37-da56-6806e7101cae"
   },
   "outputs": [
    {
     "data": {
      "image/png": "[encoded data removed]",
      "text/plain": [
       "<Figure size 576x432 with 1 Axes>"
      ]
     },
     "metadata": {
      "needs_background": "light",
      "tags": []
     },
     "output_type": "display_data"
    }
   ],
   "source": [
    "# 学習曲線 (精度)\n",
    "plt.figure(figsize=(8,6))\n",
    "plt.plot(val_acc_list,label=ind, lw=2, c='b')\n",
    "plt.title('学習曲線 (精度)')\n",
    "plt.xticks(size=14)\n",
    "plt.yticks(size=14)\n",
    "plt.grid(lw=2)\n",
    "plt.legend(fontsize=14)\n",
    "plt.xticks(np.arange(0, 21, 2))\n",
    "plt.show()"
   ]
  },
  {
   "cell_type": "code",
   "execution_count": 120,
   "metadata": {
    "colab": {
     "base_uri": "https://localhost:8080/",
     "height": 393
    },
    "id": "_ssmqB48b_3q",
    "outputId": "5e041c7d-65cc-4ca7-bc0e-5432d8e2fc67"
   },
   "outputs": [
    {
     "data": {
      "image/png": "[encoded data removed]",
      "text/plain": [
       "<Figure size 576x432 with 1 Axes>"
      ]
     },
     "metadata": {
      "needs_background": "light",
      "tags": []
     },
     "output_type": "display_data"
    }
   ],
   "source": [
    "# 学習曲線 (損失関数値)\n",
    "plt.figure(figsize=(8,6))\n",
    "plt.plot(val_loss_lists['resnet18'],label='resnet18', lw=2, c='b')\n",
    "plt.plot(val_loss_lists['resnet50'],label='resnet50', lw=2, c='k')\n",
    "plt.plot(val_loss_lists['resnet152'],label='resnet152', lw=2, c='b', linestyle = \"-.\")\n",
    "plt.plot(val_loss_lists['vgg19_bn'],label='vgg19_bn', lw=2, c='k', linestyle = \"-.\")\n",
    "plt.title('学習曲線 (損失関数値)')\n",
    "plt.xticks(size=14)\n",
    "plt.yticks(size=14)\n",
    "plt.grid(lw=2)\n",
    "plt.legend(fontsize=14)\n",
    "plt.xticks(np.arange(0, 21, 2))\n",
    "plt.show()"
   ]
  },
  {
   "cell_type": "code",
   "execution_count": 124,
   "metadata": {
    "colab": {
     "base_uri": "https://localhost:8080/",
     "height": 393
    },
    "id": "3AxBcxgEgtcn",
    "outputId": "5393e5e6-eb13-48cc-b4f5-6b0ee1f79ebc",
    "scrolled": true
   },
   "outputs": [
    {
     "data": {
      "image/png": "[encoded data removed]",
      "text/plain": [
       "<Figure size 576x432 with 1 Axes>"
      ]
     },
     "metadata": {
      "needs_background": "light",
      "tags": []
     },
     "output_type": "display_data"
    }
   ],
   "source": [
    "# 学習曲線 (精度)\n",
    "plt.figure(figsize=(8,6))\n",
    "plt.plot(val_acc_lists['resnet18'],label='resnet18', lw=2, c='b')\n",
    "plt.plot(val_acc_lists['resnet50'],label='resnet50', lw=2, c='k')\n",
    "plt.plot(val_acc_lists['resnet152'],label='resnet152', lw=2, c='b', linestyle = \"-.\")\n",
    "plt.plot(val_acc_lists['vgg19_bn'],label='vgg19_bn', lw=2, c='k', linestyle = \"-.\")\n",
    "plt.title('学習曲線 (精度)')\n",
    "plt.xticks(size=14)\n",
    "plt.yticks(size=14)\n",
    "plt.grid(lw=2)\n",
    "plt.legend(fontsize=14)\n",
    "plt.xticks(np.arange(0, 21, 2))\n",
    "plt.show()"
   ]
  },
  {
   "cell_type": "markdown",
   "metadata": {},
   "source": [
    "## モデルのエクスポート (Watson ML用)"
   ]
  },
  {
   "cell_type": "code",
   "execution_count": 125,
   "metadata": {
    "colab": {
     "base_uri": "https://localhost:8080/"
    },
    "id": "-D5yMuGpcACk",
    "outputId": "bad765fc-64c6-4c4e-bb06-6fd43e836032"
   },
   "outputs": [
    {
     "name": "stdout",
     "output_type": "stream",
     "text": [
      "cifar10-pytorch-resnet50.onnx\n",
      "total 177184\n",
      "drwxr-xr-x 3 root root     4096 Jan 13 03:48 cifar10\n",
      "-rw-r--r-- 1 root root 87401988 Jan 13 07:19 cifar10-pytorch-resnet50.gz\n",
      "-rw-r--r-- 1 root root 94022117 Jan 13 07:19 cifar10-pytorch-resnet50.onnx\n",
      "drwxr-xr-x 1 root root     4096 Jan  6 18:10 sample_data\n"
     ]
    }
   ],
   "source": [
    "model_fn = 'cifar10-pytorch-resnet50.onnx'\n",
    "model_gz = 'cifar10-pytorch-resnet50.gz'\n",
    "\n",
    "# モデルのエクスポート\n",
    "dummy_input = torch.randn((1, 3, 32, 32)).to(device)\n",
    "torch.onnx.export(net, dummy_input, model_fn, keep_initializers_as_inputs=True, verbose=False)\n",
    "\n",
    "# ｇｚに圧縮\n",
    "!tar czvf $model_gz $model_fn\n",
    "!ls -l"
   ]
  },
  {
   "cell_type": "code",
   "execution_count": 126,
   "metadata": {
    "colab": {
     "base_uri": "https://localhost:8080/",
     "height": 17
    },
    "id": "uHlDd_A4cAG8",
    "outputId": "b212b8a3-5ab0-4598-c0f5-b5c10e308c47"
   },
   "outputs": [
    {
     "data": {
      "application/javascript": [
       "\n",
       "    async function download(id, filename, size) {\n",
       "      if (!google.colab.kernel.accessAllowed) {\n",
       "        return;\n",
       "      }\n",
       "      const div = document.createElement('div');\n",
       "      const label = document.createElement('label');\n",
       "      label.textContent = `Downloading \"${filename}\": `;\n",
       "      div.appendChild(label);\n",
       "      const progress = document.createElement('progress');\n",
       "      progress.max = size;\n",
       "      div.appendChild(progress);\n",
       "      document.body.appendChild(div);\n",
       "\n",
       "      const buffers = [];\n",
       "      let downloaded = 0;\n",
       "\n",
       "      const channel = await google.colab.kernel.comms.open(id);\n",
       "      // Send a message to notify the kernel that we're ready.\n",
       "      channel.send({})\n",
       "\n",
       "      for await (const message of channel.messages) {\n",
       "        // Send a message to notify the kernel that we're ready.\n",
       "        channel.send({})\n",
       "        if (message.buffers) {\n",
       "          for (const buffer of message.buffers) {\n",
       "            buffers.push(buffer);\n",
       "            downloaded += buffer.byteLength;\n",
       "            progress.value = downloaded;\n",
       "          }\n",
       "        }\n",
       "      }\n",
       "      const blob = new Blob(buffers, {type: 'application/binary'});\n",
       "      const a = document.createElement('a');\n",
       "      a.href = window.URL.createObjectURL(blob);\n",
       "      a.download = filename;\n",
       "      div.appendChild(a);\n",
       "      a.click();\n",
       "      div.remove();\n",
       "    }\n",
       "  "
      ],
      "text/plain": [
       "<IPython.core.display.Javascript object>"
      ]
     },
     "metadata": {
      "tags": []
     },
     "output_type": "display_data"
    },
    {
     "data": {
      "application/javascript": [
       "download(\"download_998da42b-736d-42a0-9982-247c0ea8536a\", \"cifar10-pytorch-resnet50.gz\", 87401988)"
      ],
      "text/plain": [
       "<IPython.core.display.Javascript object>"
      ]
     },
     "metadata": {
      "tags": []
     },
     "output_type": "display_data"
    }
   ],
   "source": [
    "# gzファイルをPCにダウンロード\n",
    "\n",
    "from google.colab import files\n",
    "files.download(model_gz) "
   ]
  },
  {
   "cell_type": "code",
   "execution_count": null,
   "metadata": {
    "id": "9msJdKPybNp1"
   },
   "outputs": [],
   "source": []
  }
 ],
 "metadata": {
  "accelerator": "GPU",
  "colab": {
   "collapsed_sections": [],
   "name": "restnet-cifar10.ipynb",
   "provenance": []
  },
  "kernelspec": {
   "display_name": "Python 3",
   "language": "python",
   "name": "python3"
  },
  "language_info": {
   "codemirror_mode": {
    "name": "ipython",
    "version": 3
   },
   "file_extension": ".py",
   "mimetype": "text/x-python",
   "name": "python",
   "nbconvert_exporter": "python",
   "pygments_lexer": "ipython3",
   "version": "3.7.6"
  }
 },
 "nbformat": 4,
 "nbformat_minor": 1
}
