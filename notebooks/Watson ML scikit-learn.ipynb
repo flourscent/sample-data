{
 "cells": [
  {
   "cell_type": "markdown",
   "metadata": {},
   "source": [
    "# Watson Studioでscikit-learn機械学習モデルをWebサービス化する"
   ]
  },
  {
   "cell_type": "markdown",
   "metadata": {},
   "source": [
    "### 目次\n",
    "\n",
    "[2. データロードと学習](#ch_2)  \n",
    "  [2.1 データのロード](#sec_2_1)  \n",
    "  [2.2 学習](#sec_2_2)  \n",
    "\n",
    "[3. モデルの保存](#ch_3)  \n",
    "  [3.1 必要ライブラリの導入](#sec_3_1)  \n",
    "  [3.2 APIClient インスタンスの生成とデプロイメントスペースの関連付け](#sec_3_2)  \n",
    "  [3.3 Software Specification ID の取得](#sec_3_3)  \n",
    "  [3.4 モデルの保存](#sec_3_4)  \n",
    "  [3.5 モデルの詳細確認](#sec_3_5)  \n",
    "\n",
    "[4. モデルのデプロイ](#ch_4)  \n",
    "  [4.1 モデルのデプロイ](#sec_4_1)  \n",
    "  [4.2 デプロイメントの詳細確認](#sec_4_2)  \n",
    "\n",
    "[5. 予測(Watsonライブラリを利用する方法)](#ch_5)   \n",
    "  [5.1 入力用変数の組み立て](#sec_5_1)  \n",
    "  [5.2 予測実施](#sec_5_2)  \n",
    "  [5.3 結果確認](#sec_5_3)  \n",
    "\n",
    "[6. 予測(Watsonライブラリを使わない方法](#ch_6)  \n",
    "  [6.1 Token取得](#sec_6_1)  \n",
    "  [6.2 Header組み立て](#sec_6_2)  \n",
    "  [6.3 URL取得](#sec_6_3)  \n",
    "  [6.4 入力用変数組み立て](#sec_6_4)  \n",
    "  [6.5 予測実施](#sec_6_5)  \n",
    "  [6.6 結果確認](#sec_6_6)\n"
   ]
  },
  {
   "cell_type": "markdown",
   "metadata": {},
   "source": [
    "## バージョン確認\n",
    "Pythonが3.8以上、scikit-learnが0.24以上になった場合、下の手順は見直す必要があります。"
   ]
  },
  {
   "cell_type": "code",
   "execution_count": null,
   "metadata": {},
   "outputs": [],
   "source": [
    "import sys\n",
    "print('Python: ', sys.version)\n",
    "\n",
    "import sklearn\n",
    "print('scikit-learn: ', sklearn.__version__)"
   ]
  },
  {
   "cell_type": "markdown",
   "metadata": {},
   "source": [
    "<a id='ch_2'></a>\n",
    "## 2. データロードと学習"
   ]
  },
  {
   "cell_type": "markdown",
   "metadata": {},
   "source": [
    "<a id='sec_2_1'></a>\n",
    "## 2.1 データのロード"
   ]
  },
  {
   "cell_type": "code",
   "execution_count": null,
   "metadata": {},
   "outputs": [],
   "source": [
    "# IRIS Dataset を利用する\n",
    "\n",
    "from sklearn.datasets import load_iris\n",
    "from sklearn.model_selection import train_test_split\n",
    "iris = load_iris()\n",
    "X = iris.data\n",
    "Y = iris.target\n",
    "X_train, X_test, Y_train, Y_test = train_test_split(X, Y,train_size=0.7, random_state=99)\n"
   ]
  },
  {
   "cell_type": "code",
   "execution_count": null,
   "metadata": {},
   "outputs": [],
   "source": [
    "# 学習データの先頭10行\n",
    "\n",
    "print(X_test[:10])\n",
    "print(Y_test[:10])"
   ]
  },
  {
   "cell_type": "markdown",
   "metadata": {},
   "source": [
    "<a id='sec_2_2'></a>\n",
    "## 2.2 学習"
   ]
  },
  {
   "cell_type": "code",
   "execution_count": null,
   "metadata": {},
   "outputs": [],
   "source": [
    "# アルゴリズムはRandom Forestを利用\n",
    "# 作成後のモデルインスタンス変数名はmodel\n",
    "\n",
    "from sklearn.ensemble import RandomForestClassifier\n",
    "clf = RandomForestClassifier()\n",
    "model = clf.fit(X_train, Y_train)"
   ]
  },
  {
   "cell_type": "markdown",
   "metadata": {},
   "source": [
    "<a id='ch_3'></a>\n",
    "# 3. モデルの保存"
   ]
  },
  {
   "cell_type": "markdown",
   "metadata": {},
   "source": [
    "<a id='sec_3_1'></a>\n",
    "## 3.1 必要ライブラリの導入"
   ]
  },
  {
   "cell_type": "code",
   "execution_count": null,
   "metadata": {},
   "outputs": [],
   "source": [
    "# 必要ライブラリの導入\n",
    "!pip install -U ibm-watson-machine-learning | tail -n 1"
   ]
  },
  {
   "cell_type": "markdown",
   "metadata": {},
   "source": [
    "<a id='sec_3_2'></a>\n",
    "## 3.2 APIClient インスタンスの生成とデプロイメントスペースの関連付け"
   ]
  },
  {
   "cell_type": "code",
   "execution_count": null,
   "metadata": {},
   "outputs": [],
   "source": [
    "# ロケーションの指定\n",
    "# ロケーションは下記のコマンドの結果得られたものを使う\n",
    "#\n",
    "# $ ibmcloud resource service-instance\n",
    "\n",
    "location = 'us-south'  # Dallas\n",
    "#location = 'jp-tok'    # Tokyo\n",
    "#location = 'au-syd'  # Sydney\n",
    "\n",
    "# APIKeyの指定\n",
    "# API key は次のリンク先から生成する\n",
    "#\n",
    "# https://cloud.ibm.com/iam/apikeys\n",
    "\n",
    "apikey = \"xxxx\"\n",
    "\n",
    "wml_credentials = {\n",
    "    \"apikey\": apikey,\n",
    "    \"url\": 'https://' + location + '.ml.cloud.ibm.com'\n",
    "}"
   ]
  },
  {
   "cell_type": "code",
   "execution_count": null,
   "metadata": {},
   "outputs": [],
   "source": [
    "# API Clientインスタンスの生成\n",
    "\n",
    "from ibm_watson_machine_learning import APIClient\n",
    "client = APIClient(wml_credentials)"
   ]
  },
  {
   "cell_type": "code",
   "execution_count": null,
   "metadata": {},
   "outputs": [],
   "source": [
    "# space_idの取得\n",
    "client.spaces.list()"
   ]
  },
  {
   "cell_type": "code",
   "execution_count": null,
   "metadata": {},
   "outputs": [],
   "source": [
    "# 上の結果を基に手で設定する\n",
    "space_id = 'xxxx'"
   ]
  },
  {
   "cell_type": "code",
   "execution_count": null,
   "metadata": {},
   "outputs": [],
   "source": [
    "# デプロイメントスペースIDの設定\n",
    "client.set.default_space(space_id)"
   ]
  },
  {
   "cell_type": "markdown",
   "metadata": {},
   "source": [
    "<a id='sec_3_3'></a>\n",
    "## 3.3 Software Specification ID の取得\n",
    "\n",
    "参考リンク:   \n",
    " https://www.ibm.com/support/producthub/icpdata/docs/content/SSQNUZ_latest/wsj/wmls/wmls-deploy-python-types.html\n",
    "    \n",
    "Scikit-Learn 0.23 は``default_py3.7``となっているので、これを利用する。"
   ]
  },
  {
   "cell_type": "code",
   "execution_count": null,
   "metadata": {},
   "outputs": [],
   "source": [
    "sofware_spec_uid = client.software_specifications.get_id_by_name(\"default_py3.7\")\n",
    "print(sofware_spec_uid)"
   ]
  },
  {
   "cell_type": "markdown",
   "metadata": {},
   "source": [
    "<a id='sec_3_4'></a>\n",
    "## 3.4 モデルの保存\n",
    "\n",
    "モデルの保存はDeployment Spaceに対して行われる"
   ]
  },
  {
   "cell_type": "code",
   "execution_count": null,
   "metadata": {},
   "outputs": [],
   "source": [
    "metadata = {\n",
    "            client.repository.ModelMetaNames.NAME: 'Scikit IRIS random forest',                # モデル名称\n",
    "            client.repository.ModelMetaNames.TYPE: 'scikit-learn_0.23',                              # モデル種別 scikit-learn 0.23\n",
    "            client.repository.ModelMetaNames.SOFTWARE_SPEC_UID: sofware_spec_uid # 上で取得したsofware_spec_uidを指定\n",
    "}\n",
    "\n",
    "published_model = client.repository.store_model(\n",
    "    model=model,\n",
    "    meta_props=metadata,\n",
    "    training_data=X_train,\n",
    "    training_target=Y_train)"
   ]
  },
  {
   "cell_type": "markdown",
   "metadata": {},
   "source": [
    "<a id='sec_3_5'></a>\n",
    "## 3.5 モデルの詳細確認"
   ]
  },
  {
   "cell_type": "code",
   "execution_count": null,
   "metadata": {
    "scrolled": false
   },
   "outputs": [],
   "source": [
    "import json\n",
    "\n",
    "published_model_uid = client.repository.get_model_uid(published_model)\n",
    "model_details = client.repository.get_details(published_model_uid)\n",
    "print(json.dumps(model_details, indent=2))"
   ]
  },
  {
   "cell_type": "code",
   "execution_count": null,
   "metadata": {},
   "outputs": [],
   "source": [
    "client.repository.list_models()"
   ]
  },
  {
   "cell_type": "markdown",
   "metadata": {},
   "source": [
    "<a id='ch_4'></a>\n",
    "# 4. モデルのデプロイ"
   ]
  },
  {
   "cell_type": "markdown",
   "metadata": {},
   "source": [
    "<a id='sec_4_1'></a>\n",
    "## 4.1 モデルのデプロイ\n",
    "この例ではAPIを利用してモデルのデプロイを行っています。同じことはUIでも可能です。"
   ]
  },
  {
   "cell_type": "code",
   "execution_count": null,
   "metadata": {},
   "outputs": [],
   "source": [
    "metadata = {\n",
    "    client.deployments.ConfigurationMetaNames.NAME: \"Scikit-Learn Iris Model online\",\n",
    "    client.deployments.ConfigurationMetaNames.ONLINE: {}\n",
    "}\n",
    "\n",
    "created_deployment = client.deployments.create(published_model_uid, meta_props=metadata)"
   ]
  },
  {
   "cell_type": "code",
   "execution_count": null,
   "metadata": {},
   "outputs": [],
   "source": [
    "# デプロイメントの一覧表示\n",
    "\n",
    "client.deployments.list()"
   ]
  },
  {
   "cell_type": "code",
   "execution_count": null,
   "metadata": {},
   "outputs": [],
   "source": [
    "# depolyment_uid 取得\n",
    "\n",
    "deployment_uid = client.deployments.get_uid(created_deployment)\n",
    "print(deployment_uid)"
   ]
  },
  {
   "cell_type": "markdown",
   "metadata": {},
   "source": [
    "<a id='sec_4_2'></a>\n",
    "## 4.2 デプロイメントの詳細確認\n",
    "``get_details``関数を使って、今新規に作ったデプロイメントの詳細を確認します。"
   ]
  },
  {
   "cell_type": "code",
   "execution_count": null,
   "metadata": {
    "scrolled": true
   },
   "outputs": [],
   "source": [
    "client.deployments.get_details(deployment_uid)"
   ]
  },
  {
   "cell_type": "markdown",
   "metadata": {},
   "source": [
    "<a id='ch_5'></a>\n",
    "# 5. 予測(Watsonライブラリを利用する方法)\n",
    "予測に関してはWatsonライブラリを利用する方法と利用しない方法の2つを紹介します。  \n",
    "5章で紹介するのは、Watsonライブラリを利用するパターンです。"
   ]
  },
  {
   "cell_type": "markdown",
   "metadata": {},
   "source": [
    "<a id='sec_5_1'></a>\n",
    "## 5.1 入力用変数の組み立て"
   ]
  },
  {
   "cell_type": "code",
   "execution_count": null,
   "metadata": {},
   "outputs": [],
   "source": [
    "# 検証データの先頭N個で予測する\n",
    "N = 20\n",
    "\n",
    "# 予測用入力変数 scoring_payload の組み立て\n",
    "\n",
    "# 先頭のN個を抽出し、リスト化する\n",
    "values = X_test[:N].tolist()\n",
    "\n",
    "# valuesを元にscoring_payload変数を設定\n",
    "scoring_payload = {\"input_data\": [{\"values\": values}]}"
   ]
  },
  {
   "cell_type": "markdown",
   "metadata": {},
   "source": [
    "<a id='sec_5_2'></a>\n",
    "## 5.2 予測実施\n",
    "depolymentと同時に予測をする場合は、変数deployment_uidがすでに設定されています。  \n",
    "予測のみ別途行う場合は、deployment_uidの設定を手動で行います。  \n",
    "deployment_uidは、デプロイメントの管理画面から取得可能です。  \n",
    "あるいは、下記``client.deployments.list()``の結果を利用します(GUIDの値)。\n"
   ]
  },
  {
   "cell_type": "code",
   "execution_count": null,
   "metadata": {},
   "outputs": [],
   "source": [
    "client.deployments.list()"
   ]
  },
  {
   "cell_type": "code",
   "execution_count": null,
   "metadata": {},
   "outputs": [],
   "source": [
    "# 手動設定が必要な場合は、コメントをはずして下の行を有効にする\n",
    "#  deployment_uid = 'xxxx'\n",
    "\n",
    "# deployment_uidの確認\n",
    "print(deployment_uid)"
   ]
  },
  {
   "cell_type": "code",
   "execution_count": null,
   "metadata": {},
   "outputs": [],
   "source": [
    "# 予測の実施\n",
    "predictions = client.deployments.score(deployment_uid, scoring_payload)"
   ]
  },
  {
   "cell_type": "markdown",
   "metadata": {},
   "source": [
    "<a id='sec_5_3'></a>\n",
    "## 5.3 結果確認"
   ]
  },
  {
   "cell_type": "code",
   "execution_count": null,
   "metadata": {},
   "outputs": [],
   "source": [
    "print(predictions)"
   ]
  },
  {
   "cell_type": "code",
   "execution_count": null,
   "metadata": {},
   "outputs": [],
   "source": [
    "# 予測値のみを抽出\n",
    "\n",
    "import numpy as np\n",
    "w1 = predictions['predictions'][0]['values']\n",
    "w2 = np.array([x[0] for x in w1])\n",
    "\n",
    "print(w2)"
   ]
  },
  {
   "cell_type": "code",
   "execution_count": null,
   "metadata": {},
   "outputs": [],
   "source": [
    "# 正解値\n",
    "\n",
    "print(Y_test[:N])"
   ]
  },
  {
   "cell_type": "markdown",
   "metadata": {},
   "source": [
    "####  混同行列の表示"
   ]
  },
  {
   "cell_type": "code",
   "execution_count": null,
   "metadata": {},
   "outputs": [],
   "source": [
    "import pandas as pd\n",
    "from IPython.display import display\n",
    "\n",
    "# 混同行列表示用関数\n",
    "\n",
    "def make_cm(matrix, columns):\n",
    "    # matrix numpy配列\n",
    "    \n",
    "    # columns 項目名リスト\n",
    "    n = len(columns)\n",
    "    \n",
    "    # '正解データ'をn回繰り返すリスト生成\n",
    "    act = ['正解データ'] * n\n",
    "    pred = ['予測結果'] * n\n",
    "    \n",
    "    #データフレーム生成\n",
    "    cm = pd.DataFrame(matrix, \n",
    "        columns=[pred, columns], index=[act, columns])\n",
    "    return cm"
   ]
  },
  {
   "cell_type": "code",
   "execution_count": null,
   "metadata": {},
   "outputs": [],
   "source": [
    "# 混同行列表示\n",
    "\n",
    "from sklearn.metrics import confusion_matrix\n",
    "matrix = confusion_matrix(Y_test[:N], w2)\n",
    "\n",
    "# make_cmを使った混同行列標示\n",
    "cm = make_cm(matrix, iris.target_names)\n",
    "display(cm)"
   ]
  },
  {
   "cell_type": "markdown",
   "metadata": {},
   "source": [
    "<a id='ch_6'></a>\n",
    "#  6. 予測(Watsonライブラリを使わない方法\n",
    "6章では、Watsonライブラリを使わずに予測を行う方法を説明します。  \n",
    "5章と比較すると多少手順は長くなりますが、基本的なライブラリしか使っていないため、汎用的な環境で予測できることが特徴です。"
   ]
  },
  {
   "cell_type": "markdown",
   "metadata": {},
   "source": [
    "<a id='sec_6_1'></a>\n",
    "## 6.1 Token取得"
   ]
  },
  {
   "cell_type": "code",
   "execution_count": null,
   "metadata": {},
   "outputs": [],
   "source": [
    "import urllib3, requests, json\n",
    "\n",
    "# トークン取得\n",
    "# apikeyは3.2で使ったのと同じものを利用\n",
    "url = \"https://iam.cloud.ibm.com/identity/token\"\n",
    "\n",
    "headers = { \"Content-Type\" : \"application/x-www-form-urlencoded\",\n",
    "          \"Accept\" : \"application/json\" }\n",
    "\n",
    "data    = \"apikey=\" + apikey + \"&grant_type=urn:ibm:params:oauth:grant-type:apikey\"\n",
    "\n",
    "response  = requests.post( url, headers=headers, data=data)\n",
    "iam_token = response.json()[\"access_token\"]\n",
    "print('iam_token = ', iam_token)"
   ]
  },
  {
   "cell_type": "markdown",
   "metadata": {},
   "source": [
    "<a id='sec_6_2'></a>\n",
    "## 6.2 Header組み立て"
   ]
  },
  {
   "cell_type": "code",
   "execution_count": null,
   "metadata": {},
   "outputs": [],
   "source": [
    "# headerの組み立て\n",
    "header = {'Content-Type': 'application/json', 'Authorization': 'Bearer ' + iam_token}"
   ]
  },
  {
   "cell_type": "markdown",
   "metadata": {},
   "source": [
    "<a id='sec_6_3'></a>\n",
    "## 6.3 URL取得"
   ]
  },
  {
   "cell_type": "code",
   "execution_count": null,
   "metadata": {},
   "outputs": [],
   "source": [
    "# URLの取得\n",
    "scoring_url = client.deployments.get_scoring_href(created_deployment)\n",
    "\n",
    "# scoring_urlはデプロイメント管理画面からも取得可能です。その場合は、下記のコメントをはずして直接指定します。\n",
    "# scoring_url = \"xxxx\"\n",
    "\n",
    "print(scoring_url)"
   ]
  },
  {
   "cell_type": "code",
   "execution_count": null,
   "metadata": {},
   "outputs": [],
   "source": [
    "# バージョンの付加\n",
    "# Watson ML v2の場合、バージョンをURLパラメータで追加することが必須です。\n",
    "\n",
    "scoring_url2 = scoring_url + '?version=2020-09-01'"
   ]
  },
  {
   "cell_type": "markdown",
   "metadata": {},
   "source": [
    "<a id='sec_6_4'></a>\n",
    "## 6.4 入力用変数組み立て\n",
    "このコードは5.1とまったく同じです。"
   ]
  },
  {
   "cell_type": "code",
   "execution_count": null,
   "metadata": {},
   "outputs": [],
   "source": [
    "# scoring_payloadの組み立て\n",
    "\n",
    "# 検証データの先頭N個で予測する\n",
    "N = 20\n",
    "\n",
    "# 予測用入力変数 scoring_payload の組み立て\n",
    "\n",
    "# 先頭のN個を抽出し、リスト化する\n",
    "values = X_test[:N].tolist()\n",
    "\n",
    "# valuesを元にscoring_payload変数を設定\n",
    "scoring_payload = {\"input_data\": [{\"values\": values}]}\n"
   ]
  },
  {
   "cell_type": "markdown",
   "metadata": {},
   "source": [
    "<a id='ch_6_5'></a>\n",
    "## 6.5 予測実施\n",
    "Watson APIを使わず、標準的なライブラリ``requests``の``post``関数を利用しています。"
   ]
  },
  {
   "cell_type": "code",
   "execution_count": null,
   "metadata": {},
   "outputs": [],
   "source": [
    "# 予測の実施\n",
    "direct_scoring = requests.post(scoring_url2, json=scoring_payload, headers=header)"
   ]
  },
  {
   "cell_type": "markdown",
   "metadata": {},
   "source": [
    "<a id='sec_6_6'></a>\n",
    "## 6.6 結果確認"
   ]
  },
  {
   "cell_type": "code",
   "execution_count": null,
   "metadata": {},
   "outputs": [],
   "source": [
    "# 結果確認 (リターンコード表示)\n",
    "\n",
    "print(direct_scoring)"
   ]
  },
  {
   "cell_type": "code",
   "execution_count": null,
   "metadata": {},
   "outputs": [],
   "source": [
    "# 結果確認　(戻り値表示)\n",
    "\n",
    "print(direct_scoring.text)"
   ]
  },
  {
   "cell_type": "code",
   "execution_count": null,
   "metadata": {},
   "outputs": [],
   "source": [
    "# 予測値のみを抽出\n",
    "\n",
    "w0 = json.loads(direct_scoring.text)\n",
    "w1 =w0 ['predictions'][0]['values']\n",
    "w2 = np.array([x[0] for x in w1])\n",
    "\n",
    "print(w2)"
   ]
  },
  {
   "cell_type": "code",
   "execution_count": null,
   "metadata": {},
   "outputs": [],
   "source": []
  }
 ],
 "metadata": {
  "kernelspec": {
   "display_name": "Python 3",
   "language": "python",
   "name": "python3"
  },
  "language_info": {
   "codemirror_mode": {
    "name": "ipython",
    "version": 3
   },
   "file_extension": ".py",
   "mimetype": "text/x-python",
   "name": "python",
   "nbconvert_exporter": "python",
   "pygments_lexer": "ipython3",
   "version": "3.7.6"
  }
 },
 "nbformat": 4,
 "nbformat_minor": 1
}
