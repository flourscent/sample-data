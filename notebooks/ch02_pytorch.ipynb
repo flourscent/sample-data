{
 "cells": [
  {
   "cell_type": "markdown",
   "metadata": {
    "id": "y-enheccNr_a"
   },
   "source": [
    "# 2章 PyTorch入門"
   ]
  },
  {
   "cell_type": "code",
   "execution_count": 1,
   "metadata": {
    "id": "OICfujU-Nr_c"
   },
   "outputs": [],
   "source": [
    "# PDF印刷用\n",
    "from IPython.display import set_matplotlib_formats\n",
    "set_matplotlib_formats('png', 'pdf')\n",
    "\n",
    "try:\n",
    "    from google.colab import files\n",
    "except:\n",
    "    pass\n",
    "\n",
    "pdf_ind = 1\n",
    "pdf_base = 'pdf-02-'\n",
    "\n",
    "def create_pdf(plt):\n",
    "    global pdf_ind, pdf_base\n",
    "    fn = f'{pdf_base}{pdf_ind:02d}.pdf'\n",
    "    print(fn)\n",
    "    plt.savefig(fn)\n",
    "    try:\n",
    "        files.download(fn)\n",
    "    except:\n",
    "        pass\n",
    "    pdf_ind = pdf_ind + 1\n",
    "\n",
    "def graph_pdf(g):\n",
    "    global pdf_ind, pdf_base\n",
    "    fnbase = f'{pdf_base}{pdf_ind:02d}'\n",
    "    fn = f'{pdf_base}{pdf_ind:02d}.pdf'\n",
    "    print(fnbase)\n",
    "    g.render(fnbase, view=False)\n",
    "    try:\n",
    "        files.download(fn)\n",
    "    except:\n",
    "        pass\n",
    "    pdf_ind = pdf_ind + 1\n"
   ]
  },
  {
   "cell_type": "code",
   "execution_count": 2,
   "metadata": {
    "colab": {
     "base_uri": "https://localhost:8080/"
    },
    "id": "vViOXOAVNr_d",
    "outputId": "586a1cf9-0c2d-406d-843b-7bf4a32fb9cc"
   },
   "outputs": [
    {
     "name": "stdout",
     "output_type": "stream",
     "text": [
      "Successfully installed japanize-matplotlib-1.1.3\n",
      "Successfully installed torchviz-0.0.2\n"
     ]
    }
   ],
   "source": [
    "# 必要ライブラリの導入\n",
    "\n",
    "!pip install japanize_matplotlib | tail -n 1\n",
    "!pip install torchviz | tail -n 1"
   ]
  },
  {
   "cell_type": "code",
   "execution_count": 31,
   "metadata": {
    "id": "jfMls7nCNr_e"
   },
   "outputs": [],
   "source": [
    "# 必要ライブラリのインポート\n",
    "\n",
    "%matplotlib inline\n",
    "import numpy as np\n",
    "import matplotlib.pyplot as plt\n",
    "import japanize_matplotlib\n",
    "from IPython.display import display"
   ]
  },
  {
   "cell_type": "code",
   "execution_count": 37,
   "metadata": {
    "id": "pU48DdrNNr_e"
   },
   "outputs": [],
   "source": [
    "# デフォルトフォントサイズ変更\n",
    "plt.rcParams['font.size'] = 14\n",
    "\n",
    "# デフォルトグラフサイズ変更\n",
    "plt.rcParams['figure.figsize'] = (6,6)\n",
    "\n",
    "# デフォルトで方眼表示ON\n",
    "plt.rcParams['axes.grid'] = True"
   ]
  },
  {
   "cell_type": "markdown",
   "metadata": {
    "id": "9rmD_Xk2Nr_f"
   },
   "source": [
    "## 2.2 テンソル"
   ]
  },
  {
   "cell_type": "markdown",
   "metadata": {
    "id": "IB73VStvNr_f"
   },
   "source": [
    "### ライブラリインポート"
   ]
  },
  {
   "cell_type": "code",
   "execution_count": 5,
   "metadata": {
    "id": "VO_-PyPRNr_f",
    "scrolled": true
   },
   "outputs": [],
   "source": [
    "# PyTorchライブラリ\n",
    "\n",
    "import torch"
   ]
  },
  {
   "cell_type": "markdown",
   "metadata": {
    "id": "vc5dvrZgNr_f"
   },
   "source": [
    "### いろいろな階数のTensorを作る"
   ]
  },
  {
   "cell_type": "code",
   "execution_count": 6,
   "metadata": {
    "colab": {
     "base_uri": "https://localhost:8080/"
    },
    "id": "4I1RggAmNr_g",
    "outputId": "64fc8e91-db85-43a5-ad8e-8ad8b4b9dbb7"
   },
   "outputs": [
    {
     "name": "stdout",
     "output_type": "stream",
     "text": [
      "<class 'torch.Tensor'>\n",
      "torch.float32\n"
     ]
    }
   ],
   "source": [
    "# 0階テンソル (スカラー)\n",
    "\n",
    "r0 = torch.tensor(1.0).float()\n",
    "\n",
    "# typeを調べる\n",
    "print(type(r0))\n",
    "\n",
    "# dtypeを調べる\n",
    "print(r0.dtype)"
   ]
  },
  {
   "cell_type": "code",
   "execution_count": 7,
   "metadata": {
    "colab": {
     "base_uri": "https://localhost:8080/"
    },
    "id": "-VgfrubLNr_g",
    "outputId": "8ff7127b-d2da-416c-a179-559af99e9393"
   },
   "outputs": [
    {
     "name": "stdout",
     "output_type": "stream",
     "text": [
      "torch.Size([])\n",
      "tensor(1.)\n"
     ]
    }
   ],
   "source": [
    "# shapeを調べる\n",
    "print(r0.shape)\n",
    "\n",
    "# データを調べる\n",
    "print(r0.data)"
   ]
  },
  {
   "cell_type": "code",
   "execution_count": 8,
   "metadata": {
    "colab": {
     "base_uri": "https://localhost:8080/"
    },
    "id": "X0D_1LNKNr_g",
    "outputId": "48ccf7a1-52bd-41a0-886c-9bdfff3d1b1e"
   },
   "outputs": [
    {
     "name": "stdout",
     "output_type": "stream",
     "text": [
      "(5,)\n",
      "torch.float32\n",
      "torch.Size([5])\n",
      "tensor([1., 2., 3., 4., 5.])\n"
     ]
    }
   ],
   "source": [
    "# 1階テンソル (ベクトル)\n",
    "\n",
    "# 1階のNumPy変数作成\n",
    "r1_np = np.array([1, 2, 3, 4, 5])\n",
    "print(r1_np.shape)\n",
    "\n",
    "# NumPyからテンソルに変換\n",
    "r1 = torch.tensor(r1_np).float()\n",
    "\n",
    "# dtypeを調べる\n",
    "print(r1.dtype)\n",
    "\n",
    "# shapeを調べる\n",
    "print(r1.shape)\n",
    "\n",
    "# データを調べる\n",
    "print(r1.data)"
   ]
  },
  {
   "cell_type": "code",
   "execution_count": 9,
   "metadata": {
    "colab": {
     "base_uri": "https://localhost:8080/"
    },
    "id": "VamMmZJYNr_h",
    "outputId": "41c00e3a-3645-4fbe-8e09-8fd8da87697c"
   },
   "outputs": [
    {
     "name": "stdout",
     "output_type": "stream",
     "text": [
      "(2, 3)\n",
      "torch.Size([2, 3])\n",
      "tensor([[1., 5., 6.],\n",
      "        [4., 3., 2.]])\n"
     ]
    }
   ],
   "source": [
    "# 2階テンソル (行列)\n",
    "\n",
    "# 2階のNmPy変数作成\n",
    "r2_np = np.array([[1, 5, 6], [4, 3, 2]])\n",
    "print(r2_np.shape)\n",
    "\n",
    "# NumPyからテンソルに変換\n",
    "r2 = torch.tensor(r2_np).float()\n",
    "\n",
    "# shapeを調べる\n",
    "print(r2.shape)\n",
    "\n",
    "# データを調べる\n",
    "print(r2.data)"
   ]
  },
  {
   "cell_type": "code",
   "execution_count": 10,
   "metadata": {
    "colab": {
     "base_uri": "https://localhost:8080/"
    },
    "id": "2X7xX5adNr_h",
    "outputId": "68ec0918-5045-4467-d586-c9339355de78"
   },
   "outputs": [
    {
     "name": "stdout",
     "output_type": "stream",
     "text": [
      "torch.Size([3, 2, 2])\n",
      "tensor([[[-0.1115,  0.1204],\n",
      "         [-0.3696, -0.2404]],\n",
      "\n",
      "        [[-1.1969,  0.2093],\n",
      "         [-0.9724, -0.7550]],\n",
      "\n",
      "        [[ 0.3239, -0.1085],\n",
      "         [ 0.2103, -0.3908]]])\n"
     ]
    }
   ],
   "source": [
    "# ３階テンソル\n",
    "\n",
    "# 乱数seedの初期化\n",
    "torch.manual_seed(123)\n",
    "\n",
    "# shape=[3,2,2]の正規分布変数テンソルを作る\n",
    "r3 = torch.randn((3, 2, 2))\n",
    "\n",
    "# shapeを調べる\n",
    "print(r3.shape)\n",
    "\n",
    "# データを調べる\n",
    "print(r3.data)"
   ]
  },
  {
   "cell_type": "code",
   "execution_count": 11,
   "metadata": {
    "colab": {
     "base_uri": "https://localhost:8080/"
    },
    "id": "bUB69bIeNr_h",
    "outputId": "52b3b3d8-ffa1-4cac-cb31-bd7d0f1a2d87"
   },
   "outputs": [
    {
     "name": "stdout",
     "output_type": "stream",
     "text": [
      "torch.Size([2, 3, 2, 2])\n",
      "tensor([[[[1., 1.],\n",
      "          [1., 1.]],\n",
      "\n",
      "         [[1., 1.],\n",
      "          [1., 1.]],\n",
      "\n",
      "         [[1., 1.],\n",
      "          [1., 1.]]],\n",
      "\n",
      "\n",
      "        [[[1., 1.],\n",
      "          [1., 1.]],\n",
      "\n",
      "         [[1., 1.],\n",
      "          [1., 1.]],\n",
      "\n",
      "         [[1., 1.],\n",
      "          [1., 1.]]]])\n"
     ]
    }
   ],
   "source": [
    "# 4階テンソル\n",
    "\n",
    "# shape=[2,3,2,2]の要素がすべて1のテンソルを作る\n",
    "r4 = torch.ones((2, 3, 2, 2))\n",
    "\n",
    "# shapeを調べる\n",
    "print(r4.shape)\n",
    "\n",
    "# データを調べる\n",
    "print(r4.data)"
   ]
  },
  {
   "cell_type": "markdown",
   "metadata": {
    "id": "f9-sP0S1Nr_i"
   },
   "source": [
    "### 整数型テンソルを作る"
   ]
  },
  {
   "cell_type": "code",
   "execution_count": 12,
   "metadata": {
    "colab": {
     "base_uri": "https://localhost:8080/"
    },
    "id": "R-0ZFcwrNr_i",
    "outputId": "3fe47267-9f98-4e3e-fa8c-17954f343499"
   },
   "outputs": [
    {
     "name": "stdout",
     "output_type": "stream",
     "text": [
      "torch.int64\n",
      "tensor([1, 2, 3, 4, 5])\n"
     ]
    }
   ],
   "source": [
    "r5 = r1.long()\n",
    "\n",
    "# dtype　を確認\n",
    "print(r5.dtype)\n",
    "\n",
    "# 値を確認\n",
    "print(r5)"
   ]
  },
  {
   "cell_type": "markdown",
   "metadata": {
    "id": "xBG7lLjANr_i"
   },
   "source": [
    "### view関数"
   ]
  },
  {
   "cell_type": "code",
   "execution_count": 13,
   "metadata": {
    "colab": {
     "base_uri": "https://localhost:8080/"
    },
    "id": "LPPH3l5sNr_i",
    "outputId": "4799d411-01bb-415f-fa98-09d133528cc9"
   },
   "outputs": [
    {
     "name": "stdout",
     "output_type": "stream",
     "text": [
      "torch.Size([3, 4])\n",
      "tensor([[-0.1115,  0.1204, -0.3696, -0.2404],\n",
      "        [-1.1969,  0.2093, -0.9724, -0.7550],\n",
      "        [ 0.3239, -0.1085,  0.2103, -0.3908]])\n"
     ]
    }
   ],
   "source": [
    "# 2階化\n",
    "# 要素数に-1を指定すると、この数を自動調整する\n",
    "\n",
    "r6 = r3.view(3, -1)\n",
    "\n",
    "# shape確認\n",
    "print(r6.shape)\n",
    "\n",
    "# 値確認\n",
    "print(r6.data)"
   ]
  },
  {
   "cell_type": "code",
   "execution_count": 14,
   "metadata": {
    "colab": {
     "base_uri": "https://localhost:8080/"
    },
    "id": "BXeVtrWVNr_i",
    "outputId": "59b77509-c769-48cd-e0d7-9c6426861e12",
    "scrolled": false
   },
   "outputs": [
    {
     "name": "stdout",
     "output_type": "stream",
     "text": [
      "torch.Size([12])\n",
      "tensor([-0.1115,  0.1204, -0.3696, -0.2404, -1.1969,  0.2093, -0.9724, -0.7550,\n",
      "         0.3239, -0.1085,  0.2103, -0.3908])\n"
     ]
    }
   ],
   "source": [
    "# 1階化\n",
    "# 要素数に-1を指定すると、この数を自動調整する\n",
    "\n",
    "r7 = r3.view(-1)\n",
    "\n",
    "# shape確認\n",
    "print(r7.shape)\n",
    "\n",
    "# 値確認\n",
    "print(r7.data)"
   ]
  },
  {
   "cell_type": "markdown",
   "metadata": {
    "id": "Xv5pRJK1Nr_j"
   },
   "source": [
    "### それ以外の属性"
   ]
  },
  {
   "cell_type": "code",
   "execution_count": 15,
   "metadata": {
    "colab": {
     "base_uri": "https://localhost:8080/"
    },
    "id": "5ZYg-dcENr_j",
    "outputId": "c53b4fb0-cb91-4276-b24f-3e8cf3e773a8"
   },
   "outputs": [
    {
     "name": "stdout",
     "output_type": "stream",
     "text": [
      "requires_grad:  False\n",
      "device:  cpu\n"
     ]
    }
   ],
   "source": [
    "# requires_grad属性\n",
    "print('requires_grad: ', r1.requires_grad)\n",
    "\n",
    "# device属性\n",
    "print('device: ', r1.device)"
   ]
  },
  {
   "cell_type": "markdown",
   "metadata": {
    "id": "0g-6LRsnNr_j"
   },
   "source": [
    "### item関数"
   ]
  },
  {
   "cell_type": "code",
   "execution_count": 16,
   "metadata": {
    "colab": {
     "base_uri": "https://localhost:8080/"
    },
    "id": "Tu3wXoDFNr_j",
    "outputId": "9395d3c1-d7e3-4a6d-c2dd-a82e62b15152",
    "scrolled": false
   },
   "outputs": [
    {
     "name": "stdout",
     "output_type": "stream",
     "text": [
      "<class 'float'>\n",
      "1.0\n"
     ]
    }
   ],
   "source": [
    "# スカラーテンソル(0階テンソル)に対してはitem関数で値を取り出せる\n",
    "\n",
    "item = r0.item()\n",
    "\n",
    "print(type(item))\n",
    "print(item)"
   ]
  },
  {
   "cell_type": "code",
   "execution_count": 17,
   "metadata": {
    "colab": {
     "base_uri": "https://localhost:8080/",
     "height": 205
    },
    "id": "zwi8v5C0Nr_j",
    "outputId": "3a6adea5-bec9-477f-e9bc-9b6349b7a9d0"
   },
   "outputs": [
    {
     "ename": "ValueError",
     "evalue": "ignored",
     "output_type": "error",
     "traceback": [
      "\u001b[0;31m---------------------------------------------------------------------------\u001b[0m",
      "\u001b[0;31mValueError\u001b[0m                                Traceback (most recent call last)",
      "\u001b[0;32m<ipython-input-17-282dd4a13d66>\u001b[0m in \u001b[0;36m<module>\u001b[0;34m()\u001b[0m\n\u001b[1;32m      1\u001b[0m \u001b[0;31m# 0階以外のテンソルにitem関数は無効\u001b[0m\u001b[0;34m\u001b[0m\u001b[0;34m\u001b[0m\u001b[0;34m\u001b[0m\u001b[0m\n\u001b[1;32m      2\u001b[0m \u001b[0;34m\u001b[0m\u001b[0m\n\u001b[0;32m----> 3\u001b[0;31m \u001b[0mprint\u001b[0m\u001b[0;34m(\u001b[0m\u001b[0mr1\u001b[0m\u001b[0;34m.\u001b[0m\u001b[0mitem\u001b[0m\u001b[0;34m(\u001b[0m\u001b[0;34m)\u001b[0m\u001b[0;34m)\u001b[0m\u001b[0;34m\u001b[0m\u001b[0;34m\u001b[0m\u001b[0m\n\u001b[0m",
      "\u001b[0;31mValueError\u001b[0m: only one element tensors can be converted to Python scalars"
     ]
    }
   ],
   "source": [
    "# 0階以外のテンソルにitem関数は無効\n",
    "\n",
    "print(r1.item())"
   ]
  },
  {
   "cell_type": "code",
   "execution_count": 18,
   "metadata": {
    "colab": {
     "base_uri": "https://localhost:8080/"
    },
    "id": "dvE5Cy3iNr_k",
    "outputId": "740ab158-bb0e-47e2-f473-25b8ecd84ceb"
   },
   "outputs": [
    {
     "name": "stdout",
     "output_type": "stream",
     "text": [
      "torch.Size([1])\n",
      "1.0\n"
     ]
    }
   ],
   "source": [
    "# 要素数が1つだけの1階テンソルはOK\n",
    "# (2階以上でも同様)\n",
    "t1 = torch.ones(1)\n",
    "\n",
    "# shape確認\n",
    "print(t1.shape)\n",
    "\n",
    "# item関数呼び出し\n",
    "print(t1.item())"
   ]
  },
  {
   "cell_type": "markdown",
   "metadata": {
    "id": "JnrnIuI-Nr_k"
   },
   "source": [
    "### max関数"
   ]
  },
  {
   "cell_type": "code",
   "execution_count": 19,
   "metadata": {
    "colab": {
     "base_uri": "https://localhost:8080/"
    },
    "id": "bwyLGh_SNr_k",
    "outputId": "d9f8bb67-13e7-4002-cc87-0ab5458934b9"
   },
   "outputs": [
    {
     "name": "stdout",
     "output_type": "stream",
     "text": [
      "tensor([[1., 5., 6.],\n",
      "        [4., 3., 2.]])\n",
      "tensor(6.)\n"
     ]
    }
   ],
   "source": [
    "# 元テンソルr2の確認\n",
    "print(r2)\n",
    "\n",
    "# max関数を引数なしで呼び出すと、全体の最大値が取得できる\n",
    "print(r2.max())"
   ]
  },
  {
   "cell_type": "code",
   "execution_count": 20,
   "metadata": {
    "colab": {
     "base_uri": "https://localhost:8080/"
    },
    "id": "kLkNmIS9Nr_k",
    "outputId": "7392e5cd-b7fc-449f-d5f4-b9f39cedc138"
   },
   "outputs": [
    {
     "name": "stdout",
     "output_type": "stream",
     "text": [
      "torch.return_types.max(\n",
      "values=tensor([6., 4.]),\n",
      "indices=tensor([2, 0]))\n"
     ]
    }
   ],
   "source": [
    "# torch.max関数\n",
    "# 2つめの引数はどの軸で集約するかを意味する\n",
    "print(torch.max(r2, 1))"
   ]
  },
  {
   "cell_type": "code",
   "execution_count": 21,
   "metadata": {
    "colab": {
     "base_uri": "https://localhost:8080/"
    },
    "id": "lwiblU1vNr_l",
    "outputId": "e3fda810-f0f4-4387-a4b2-82bd1c07d7f4"
   },
   "outputs": [
    {
     "name": "stdout",
     "output_type": "stream",
     "text": [
      "tensor([2, 0])\n"
     ]
    }
   ],
   "source": [
    "# 何番目の要素が最大値をとるかは、indicesを調べればいい\n",
    "# 以下の計算は、多値分類で予測ラベルを求めるときによく利用されるパターン\n",
    "print(torch.max(r2, 1)[1])"
   ]
  },
  {
   "cell_type": "markdown",
   "metadata": {
    "id": "W-CE04b7Nr_l"
   },
   "source": [
    "### NumPy変数への変換"
   ]
  },
  {
   "cell_type": "code",
   "execution_count": 22,
   "metadata": {
    "colab": {
     "base_uri": "https://localhost:8080/"
    },
    "id": "WPimA-EMNr_l",
    "outputId": "cc3c37d3-47d0-4d3c-a60a-08bfe371e50f"
   },
   "outputs": [
    {
     "name": "stdout",
     "output_type": "stream",
     "text": [
      "<class 'numpy.ndarray'>\n",
      "[[1. 5. 6.]\n",
      " [4. 3. 2.]]\n"
     ]
    }
   ],
   "source": [
    "# NumPy化\n",
    "r2_np = r2.data.numpy()\n",
    "\n",
    "# type 確認\n",
    "print(type(r2_np))\n",
    "\n",
    "# 値確認\n",
    "print(r2_np)"
   ]
  },
  {
   "cell_type": "markdown",
   "metadata": {
    "id": "85on1hQ4Nr_l"
   },
   "source": [
    "## 2.4 ２次関数の勾配計算"
   ]
  },
  {
   "cell_type": "markdown",
   "metadata": {
    "id": "YiUz1baKNr_l"
   },
   "source": [
    " ### データ準備"
   ]
  },
  {
   "cell_type": "code",
   "execution_count": 23,
   "metadata": {
    "colab": {
     "base_uri": "https://localhost:8080/"
    },
    "id": "2K1rvdhiNr_l",
    "outputId": "729fea4e-e082-49d2-8c60-6ab856808990"
   },
   "outputs": [
    {
     "name": "stdout",
     "output_type": "stream",
     "text": [
      "[-2.   -1.75 -1.5  -1.25 -1.   -0.75 -0.5  -0.25  0.    0.25  0.5   0.75\n",
      "  1.    1.25  1.5   1.75  2.  ]\n"
     ]
    }
   ],
   "source": [
    "# xをnumpy配列で定義\n",
    "x_np = np.arange(-2, 2.1, 0.25)\n",
    "\n",
    "# xの値表示\n",
    "print(x_np)"
   ]
  },
  {
   "cell_type": "code",
   "execution_count": 24,
   "metadata": {
    "colab": {
     "base_uri": "https://localhost:8080/"
    },
    "id": "H_YBx-t9Nr_m",
    "outputId": "f7d92bbf-cd04-4f35-ed9c-1c889982a6f6"
   },
   "outputs": [
    {
     "name": "stdout",
     "output_type": "stream",
     "text": [
      "tensor([-2.0000, -1.7500, -1.5000, -1.2500, -1.0000, -0.7500, -0.5000, -0.2500,\n",
      "         0.0000,  0.2500,  0.5000,  0.7500,  1.0000,  1.2500,  1.5000,  1.7500,\n",
      "         2.0000], dtype=torch.float64, requires_grad=True)\n"
     ]
    }
   ],
   "source": [
    "# (1) 勾配計算用変数の定義\n",
    "\n",
    "# requires_grad = True とする\n",
    "x = torch.tensor(x_np, requires_grad=True)\n",
    "\n",
    "# 結果確認\n",
    "print(x)"
   ]
  },
  {
   "cell_type": "markdown",
   "metadata": {
    "id": "oos9Q69GNr_m"
   },
   "source": [
    "### ２次関数の計算"
   ]
  },
  {
   "cell_type": "code",
   "execution_count": 25,
   "metadata": {
    "id": "ky1X5hPHNr_m"
   },
   "outputs": [],
   "source": [
    "# 2次関数の計算\n",
    "# 裏で計算グラフが自動生成される\n",
    "\n",
    "y = 2 * x**2 + 2"
   ]
  },
  {
   "cell_type": "markdown",
   "metadata": {
    "id": "iiL8-98INr_m"
   },
   "source": [
    "$ y = 2x^2 + 2$ を意味する"
   ]
  },
  {
   "cell_type": "code",
   "execution_count": 26,
   "metadata": {
    "colab": {
     "base_uri": "https://localhost:8080/"
    },
    "id": "m0Pwm9jUNr_m",
    "outputId": "76f5e9f8-ca08-45e4-e151-037b4dca5101"
   },
   "outputs": [
    {
     "name": "stdout",
     "output_type": "stream",
     "text": [
      "tensor([10.0000,  8.1250,  6.5000,  5.1250,  4.0000,  3.1250,  2.5000,  2.1250,\n",
      "         2.0000,  2.1250,  2.5000,  3.1250,  4.0000,  5.1250,  6.5000,  8.1250,\n",
      "        10.0000], dtype=torch.float64, grad_fn=<AddBackward0>)\n"
     ]
    }
   ],
   "source": [
    "# yの計算結果確認\n",
    "\n",
    "print(y)"
   ]
  },
  {
   "cell_type": "code",
   "execution_count": 27,
   "metadata": {
    "colab": {
     "base_uri": "https://localhost:8080/",
     "height": 417
    },
    "id": "-ONyC7tSNr_m",
    "outputId": "aba402b4-896d-45da-efe4-3eb6adbf0340"
   },
   "outputs": [
    {
     "data": {
      "application/pdf": "[encoded data removed]",
      "image/png": "[encoded data removed]",
      "text/plain": [
       "<Figure size 432x432 with 1 Axes>"
      ]
     },
     "metadata": {
      "needs_background": "light",
      "tags": []
     },
     "output_type": "display_data"
    }
   ],
   "source": [
    "# グラフ(散布図)描画\n",
    "\n",
    "plt.plot(x.data, y.data)\n",
    "plt.xlabel('x')\n",
    "plt.ylabel('y')\n",
    "plt.title(r\"$y = 2x^2 + 2$\" + \"のグラフ\")\n",
    "plt.show()"
   ]
  },
  {
   "cell_type": "code",
   "execution_count": 28,
   "metadata": {
    "id": "L9S2STdKNr_n"
   },
   "outputs": [],
   "source": [
    "# 勾配計算のためには、最終値はスカラーの必要があるため、ダミーでsum関数をかける\n",
    "\n",
    "z = y.sum()"
   ]
  },
  {
   "cell_type": "code",
   "execution_count": 32,
   "metadata": {
    "colab": {
     "base_uri": "https://localhost:8080/",
     "height": 526
    },
    "id": "HcLI2RtkNr_n",
    "outputId": "ccbc0c42-d4b7-40b0-a58d-8b6cf69bbe92"
   },
   "outputs": [
    {
     "data": {
      "image/svg+xml": [
       "<?xml version=\"1.0\" encoding=\"UTF-8\" standalone=\"no\"?>\n",
       "<!DOCTYPE svg PUBLIC \"-//W3C//DTD SVG 1.1//EN\"\n",
       " \"http://www.w3.org/Graphics/SVG/1.1/DTD/svg11.dtd\">\n",
       "<!-- Generated by graphviz version 2.40.1 (20161225.0304)\n",
       " -->\n",
       "<!-- Title: %3 Pages: 1 -->\n",
       "<svg width=\"109pt\" height=\"380pt\"\n",
       " viewBox=\"0.00 0.00 109.00 380.00\" xmlns=\"http://www.w3.org/2000/svg\" xmlns:xlink=\"http://www.w3.org/1999/xlink\">\n",
       "<g id=\"graph0\" class=\"graph\" transform=\"scale(1 1) rotate(0) translate(4 376)\">\n",
       "<title>%3</title>\n",
       "<polygon fill=\"#ffffff\" stroke=\"transparent\" points=\"-4,4 -4,-376 105,-376 105,4 -4,4\"/>\n",
       "<!-- 140526703671968 -->\n",
       "<g id=\"node1\" class=\"node\">\n",
       "<title>140526703671968</title>\n",
       "<polygon fill=\"#caff70\" stroke=\"#000000\" points=\"77.5,-31 23.5,-31 23.5,0 77.5,0 77.5,-31\"/>\n",
       "<text text-anchor=\"middle\" x=\"50.5\" y=\"-7\" font-family=\"monospace\" font-size=\"10.00\" fill=\"#000000\"> ()</text>\n",
       "</g>\n",
       "<!-- 140526703254224 -->\n",
       "<g id=\"node2\" class=\"node\">\n",
       "<title>140526703254224</title>\n",
       "<polygon fill=\"#d3d3d3\" stroke=\"#000000\" points=\"95,-86 6,-86 6,-67 95,-67 95,-86\"/>\n",
       "<text text-anchor=\"middle\" x=\"50.5\" y=\"-74\" font-family=\"monospace\" font-size=\"10.00\" fill=\"#000000\">SumBackward0</text>\n",
       "</g>\n",
       "<!-- 140526703254224&#45;&gt;140526703671968 -->\n",
       "<g id=\"edge6\" class=\"edge\">\n",
       "<title>140526703254224&#45;&gt;140526703671968</title>\n",
       "<path fill=\"none\" stroke=\"#000000\" d=\"M50.5,-66.9688C50.5,-60.1289 50.5,-50.5621 50.5,-41.5298\"/>\n",
       "<polygon fill=\"#000000\" stroke=\"#000000\" points=\"54.0001,-41.3678 50.5,-31.3678 47.0001,-41.3678 54.0001,-41.3678\"/>\n",
       "</g>\n",
       "<!-- 140526703252304 -->\n",
       "<g id=\"node3\" class=\"node\">\n",
       "<title>140526703252304</title>\n",
       "<polygon fill=\"#d3d3d3\" stroke=\"#000000\" points=\"95,-141 6,-141 6,-122 95,-122 95,-141\"/>\n",
       "<text text-anchor=\"middle\" x=\"50.5\" y=\"-129\" font-family=\"monospace\" font-size=\"10.00\" fill=\"#000000\">AddBackward0</text>\n",
       "</g>\n",
       "<!-- 140526703252304&#45;&gt;140526703254224 -->\n",
       "<g id=\"edge1\" class=\"edge\">\n",
       "<title>140526703252304&#45;&gt;140526703254224</title>\n",
       "<path fill=\"none\" stroke=\"#000000\" d=\"M50.5,-121.9197C50.5,-114.9083 50.5,-105.1442 50.5,-96.4652\"/>\n",
       "<polygon fill=\"#000000\" stroke=\"#000000\" points=\"54.0001,-96.3408 50.5,-86.3408 47.0001,-96.3409 54.0001,-96.3408\"/>\n",
       "</g>\n",
       "<!-- 140526706731536 -->\n",
       "<g id=\"node4\" class=\"node\">\n",
       "<title>140526706731536</title>\n",
       "<polygon fill=\"#d3d3d3\" stroke=\"#000000\" points=\"95,-196 6,-196 6,-177 95,-177 95,-196\"/>\n",
       "<text text-anchor=\"middle\" x=\"50.5\" y=\"-184\" font-family=\"monospace\" font-size=\"10.00\" fill=\"#000000\">MulBackward0</text>\n",
       "</g>\n",
       "<!-- 140526706731536&#45;&gt;140526703252304 -->\n",
       "<g id=\"edge2\" class=\"edge\">\n",
       "<title>140526706731536&#45;&gt;140526703252304</title>\n",
       "<path fill=\"none\" stroke=\"#000000\" d=\"M50.5,-176.9197C50.5,-169.9083 50.5,-160.1442 50.5,-151.4652\"/>\n",
       "<polygon fill=\"#000000\" stroke=\"#000000\" points=\"54.0001,-151.3408 50.5,-141.3408 47.0001,-151.3409 54.0001,-151.3408\"/>\n",
       "</g>\n",
       "<!-- 140526706729296 -->\n",
       "<g id=\"node5\" class=\"node\">\n",
       "<title>140526706729296</title>\n",
       "<polygon fill=\"#d3d3d3\" stroke=\"#000000\" points=\"95,-251 6,-251 6,-232 95,-232 95,-251\"/>\n",
       "<text text-anchor=\"middle\" x=\"50.5\" y=\"-239\" font-family=\"monospace\" font-size=\"10.00\" fill=\"#000000\">PowBackward0</text>\n",
       "</g>\n",
       "<!-- 140526706729296&#45;&gt;140526706731536 -->\n",
       "<g id=\"edge3\" class=\"edge\">\n",
       "<title>140526706729296&#45;&gt;140526706731536</title>\n",
       "<path fill=\"none\" stroke=\"#000000\" d=\"M50.5,-231.9197C50.5,-224.9083 50.5,-215.1442 50.5,-206.4652\"/>\n",
       "<polygon fill=\"#000000\" stroke=\"#000000\" points=\"54.0001,-206.3408 50.5,-196.3408 47.0001,-206.3409 54.0001,-206.3408\"/>\n",
       "</g>\n",
       "<!-- 140526706729232 -->\n",
       "<g id=\"node6\" class=\"node\">\n",
       "<title>140526706729232</title>\n",
       "<polygon fill=\"#d3d3d3\" stroke=\"#000000\" points=\"101,-306 0,-306 0,-287 101,-287 101,-306\"/>\n",
       "<text text-anchor=\"middle\" x=\"50.5\" y=\"-294\" font-family=\"monospace\" font-size=\"10.00\" fill=\"#000000\">AccumulateGrad</text>\n",
       "</g>\n",
       "<!-- 140526706729232&#45;&gt;140526706729296 -->\n",
       "<g id=\"edge4\" class=\"edge\">\n",
       "<title>140526706729232&#45;&gt;140526706729296</title>\n",
       "<path fill=\"none\" stroke=\"#000000\" d=\"M50.5,-286.9197C50.5,-279.9083 50.5,-270.1442 50.5,-261.4652\"/>\n",
       "<polygon fill=\"#000000\" stroke=\"#000000\" points=\"54.0001,-261.3408 50.5,-251.3408 47.0001,-261.3409 54.0001,-261.3408\"/>\n",
       "</g>\n",
       "<!-- 140526712061136 -->\n",
       "<g id=\"node7\" class=\"node\">\n",
       "<title>140526712061136</title>\n",
       "<polygon fill=\"#add8e6\" stroke=\"#000000\" points=\"77.5,-372 23.5,-372 23.5,-342 77.5,-342 77.5,-372\"/>\n",
       "<text text-anchor=\"middle\" x=\"50.5\" y=\"-360\" font-family=\"monospace\" font-size=\"10.00\" fill=\"#000000\">x</text>\n",
       "<text text-anchor=\"middle\" x=\"50.5\" y=\"-349\" font-family=\"monospace\" font-size=\"10.00\" fill=\"#000000\"> (17)</text>\n",
       "</g>\n",
       "<!-- 140526712061136&#45;&gt;140526706729232 -->\n",
       "<g id=\"edge5\" class=\"edge\">\n",
       "<title>140526712061136&#45;&gt;140526706729232</title>\n",
       "<path fill=\"none\" stroke=\"#000000\" d=\"M50.5,-341.7333C50.5,-334.0322 50.5,-324.5977 50.5,-316.3414\"/>\n",
       "<polygon fill=\"#000000\" stroke=\"#000000\" points=\"54.0001,-316.0864 50.5,-306.0864 47.0001,-316.0864 54.0001,-316.0864\"/>\n",
       "</g>\n",
       "</g>\n",
       "</svg>\n"
      ],
      "text/plain": [
       "<graphviz.dot.Digraph at 0x7fceec3a9bd0>"
      ]
     },
     "metadata": {
      "tags": []
     },
     "output_type": "display_data"
    }
   ],
   "source": [
    "# (3) 計算グラフの可視化\n",
    "\n",
    "# 必要ライブラリのインポート\n",
    "from torchviz import make_dot\n",
    "\n",
    "# 可視化関数の呼び出し\n",
    "g= make_dot(z, params={'x': x})\n",
    "display(g)"
   ]
  },
  {
   "cell_type": "code",
   "execution_count": 30,
   "metadata": {
    "colab": {
     "base_uri": "https://localhost:8080/",
     "height": 35
    },
    "id": "xP0SqSt_Nr_n",
    "outputId": "2efdfa35-73d2-4473-bc2e-ec6f9070b90a"
   },
   "outputs": [
    {
     "name": "stdout",
     "output_type": "stream",
     "text": [
      "pdf-10-02\n"
     ]
    },
    {
     "data": {
      "application/javascript": [
       "\n",
       "    async function download(id, filename, size) {\n",
       "      if (!google.colab.kernel.accessAllowed) {\n",
       "        return;\n",
       "      }\n",
       "      const div = document.createElement('div');\n",
       "      const label = document.createElement('label');\n",
       "      label.textContent = `Downloading \"${filename}\": `;\n",
       "      div.appendChild(label);\n",
       "      const progress = document.createElement('progress');\n",
       "      progress.max = size;\n",
       "      div.appendChild(progress);\n",
       "      document.body.appendChild(div);\n",
       "\n",
       "      const buffers = [];\n",
       "      let downloaded = 0;\n",
       "\n",
       "      const channel = await google.colab.kernel.comms.open(id);\n",
       "      // Send a message to notify the kernel that we're ready.\n",
       "      channel.send({})\n",
       "\n",
       "      for await (const message of channel.messages) {\n",
       "        // Send a message to notify the kernel that we're ready.\n",
       "        channel.send({})\n",
       "        if (message.buffers) {\n",
       "          for (const buffer of message.buffers) {\n",
       "            buffers.push(buffer);\n",
       "            downloaded += buffer.byteLength;\n",
       "            progress.value = downloaded;\n",
       "          }\n",
       "        }\n",
       "      }\n",
       "      const blob = new Blob(buffers, {type: 'application/binary'});\n",
       "      const a = document.createElement('a');\n",
       "      a.href = window.URL.createObjectURL(blob);\n",
       "      a.download = filename;\n",
       "      div.appendChild(a);\n",
       "      a.click();\n",
       "      div.remove();\n",
       "    }\n",
       "  "
      ],
      "text/plain": [
       "<IPython.core.display.Javascript object>"
      ]
     },
     "metadata": {
      "tags": []
     },
     "output_type": "display_data"
    },
    {
     "data": {
      "application/javascript": [
       "download(\"download_3feeba77-7f5f-489c-8ea3-6ed63700c00c\", \"pdf-10-02.pdf\", 10261)"
      ],
      "text/plain": [
       "<IPython.core.display.Javascript object>"
      ]
     },
     "metadata": {
      "tags": []
     },
     "output_type": "display_data"
    }
   ],
   "source": [
    "graph_pdf(g)"
   ]
  },
  {
   "cell_type": "code",
   "execution_count": 33,
   "metadata": {
    "id": "Cugbjt5WNr_n"
   },
   "outputs": [],
   "source": [
    "# (4) 勾配計算\n",
    "\n",
    "z.backward()"
   ]
  },
  {
   "cell_type": "code",
   "execution_count": 35,
   "metadata": {
    "colab": {
     "base_uri": "https://localhost:8080/"
    },
    "id": "Po4-vTPPNr_n",
    "outputId": "724fd64c-9e5e-4edd-990f-d92cb969b0b5"
   },
   "outputs": [
    {
     "name": "stdout",
     "output_type": "stream",
     "text": [
      "tensor([-8., -7., -6., -5., -4., -3., -2., -1.,  0.,  1.,  2.,  3.,  4.,  5.,\n",
      "         6.,  7.,  8.], dtype=torch.float64)\n"
     ]
    }
   ],
   "source": [
    "# (5) 勾配値の取得\n",
    "\n",
    "print(x.grad)"
   ]
  },
  {
   "cell_type": "code",
   "execution_count": 38,
   "metadata": {
    "colab": {
     "base_uri": "https://localhost:8080/",
     "height": 377
    },
    "id": "ZaZ5KFSINr_o",
    "outputId": "7df428c9-a23b-4203-fec5-455d3be9d080"
   },
   "outputs": [
    {
     "data": {
      "application/pdf": "[encoded data removed]",
      "image/png": "[encoded data removed]",
      "text/plain": [
       "<Figure size 432x432 with 1 Axes>"
      ]
     },
     "metadata": {
      "needs_background": "light",
      "tags": []
     },
     "output_type": "display_data"
    }
   ],
   "source": [
    "# 元の関数と勾配のグラフ化\n",
    "\n",
    "plt.plot(x.data, y.data, c='b', label='y')\n",
    "plt.plot(x.data, x.grad.data, c='k', label='y.grad')\n",
    "plt.legend()\n",
    "plt.show()"
   ]
  },
  {
   "cell_type": "markdown",
   "metadata": {
    "id": "m5VKJUI0Nr_o"
   },
   "source": [
    "元の関数が2次関数なので、勾配計算の結果が直線になるのは、妥当な結果"
   ]
  },
  {
   "cell_type": "markdown",
   "metadata": {
    "id": "nrBbdRIvNr_o"
   },
   "source": [
    "ここでもう一度勾配計算をしてみる。"
   ]
  },
  {
   "cell_type": "code",
   "execution_count": 39,
   "metadata": {
    "colab": {
     "base_uri": "https://localhost:8080/"
    },
    "id": "dOHxzxi0Nr_o",
    "outputId": "b54e4dbd-c996-4d0a-aaea-782c4b6080a3"
   },
   "outputs": [
    {
     "name": "stdout",
     "output_type": "stream",
     "text": [
      "tensor([-16., -14., -12., -10.,  -8.,  -6.,  -4.,  -2.,   0.,   2.,   4.,   6.,\n",
      "          8.,  10.,  12.,  14.,  16.], dtype=torch.float64)\n"
     ]
    }
   ],
   "source": [
    "# 勾配の初期化せずに２度目の勾配計算\n",
    "\n",
    "y = 2 * x**2 + 2\n",
    "z = y.sum()\n",
    "z.backward()\n",
    "\n",
    "# xの勾配確認\n",
    "print(x.grad)"
   ]
  },
  {
   "cell_type": "markdown",
   "metadata": {
    "id": "MFsyjUPXNr_o"
   },
   "source": [
    "勾配値は、勾配計算の結果がどんどん加算されてしまう。そのため新しい値を計算したい場合、勾配値のリセットが必要。"
   ]
  },
  {
   "cell_type": "code",
   "execution_count": 40,
   "metadata": {
    "colab": {
     "base_uri": "https://localhost:8080/"
    },
    "id": "FURKt3aENr_p",
    "outputId": "cdf0d0e3-866b-4ec3-cd2f-1c98471a5dc0"
   },
   "outputs": [
    {
     "name": "stdout",
     "output_type": "stream",
     "text": [
      "tensor([0., 0., 0., 0., 0., 0., 0., 0., 0., 0., 0., 0., 0., 0., 0., 0., 0.],\n",
      "       dtype=torch.float64)\n"
     ]
    }
   ],
   "source": [
    "# (6) 勾配の初期化は関数 zero_()を使う\n",
    "\n",
    "x.grad.zero_()\n",
    "print(x.grad)"
   ]
  },
  {
   "cell_type": "markdown",
   "metadata": {
    "id": "F-TnTbjtNr_p"
   },
   "source": [
    "## 2.5 シグモイド関数の勾配計算"
   ]
  },
  {
   "cell_type": "markdown",
   "metadata": {
    "id": "rCQYN3jGNr_p"
   },
   "source": [
    "シグモイド関数は数式で表すと次の形になるが今回はPyTorchで提供されている関数を利用する  \n",
    "$ y = \\dfrac{1}{1 + \\exp{(-x)}} $"
   ]
  },
  {
   "cell_type": "code",
   "execution_count": 41,
   "metadata": {
    "id": "sl8mxsr7Nr_p"
   },
   "outputs": [],
   "source": [
    "# シグモイド関数の定義\n",
    "sigmoid = torch.nn.Sigmoid()"
   ]
  },
  {
   "cell_type": "code",
   "execution_count": 42,
   "metadata": {
    "id": "tT7wMVDuNr_p"
   },
   "outputs": [],
   "source": [
    "# (2) yの値の計算\n",
    "\n",
    "y = sigmoid(x)"
   ]
  },
  {
   "cell_type": "code",
   "execution_count": 43,
   "metadata": {
    "colab": {
     "base_uri": "https://localhost:8080/",
     "height": 412
    },
    "id": "ssP2qjhGNr_p",
    "outputId": "d8bffc97-70b5-4c79-f24b-5ca52e98ed11"
   },
   "outputs": [
    {
     "data": {
      "application/pdf": "[encoded data removed]",
      "image/png": "[encoded data removed]",
      "text/plain": [
       "<Figure size 432x432 with 1 Axes>"
      ]
     },
     "metadata": {
      "needs_background": "light",
      "tags": []
     },
     "output_type": "display_data"
    }
   ],
   "source": [
    "# グラフ(散布図)描画\n",
    "\n",
    "plt.plot(x.data, y.data)\n",
    "plt.xlabel('x')\n",
    "plt.ylabel('y')\n",
    "plt.title('シグモイド関数のグラフ')\n",
    "plt.show()"
   ]
  },
  {
   "cell_type": "code",
   "execution_count": 44,
   "metadata": {
    "id": "XMXYmt8WNr_q"
   },
   "outputs": [],
   "source": [
    "# 勾配計算のためには、最終値はスカラーの必要があるため、ダミーでsum関数をかける\n",
    "\n",
    "z = y.sum()"
   ]
  },
  {
   "cell_type": "code",
   "execution_count": 45,
   "metadata": {
    "colab": {
     "base_uri": "https://localhost:8080/",
     "height": 380
    },
    "id": "w3H-6V13Nr_q",
    "outputId": "22b7a98f-a7c8-4885-88bc-1c3f2611bfcf"
   },
   "outputs": [
    {
     "data": {
      "image/svg+xml": [
       "<?xml version=\"1.0\" encoding=\"UTF-8\" standalone=\"no\"?>\n",
       "<!DOCTYPE svg PUBLIC \"-//W3C//DTD SVG 1.1//EN\"\n",
       " \"http://www.w3.org/Graphics/SVG/1.1/DTD/svg11.dtd\">\n",
       "<!-- Generated by graphviz version 2.40.1 (20161225.0304)\n",
       " -->\n",
       "<!-- Title: %3 Pages: 1 -->\n",
       "<svg width=\"115pt\" height=\"270pt\"\n",
       " viewBox=\"0.00 0.00 115.00 270.00\" xmlns=\"http://www.w3.org/2000/svg\" xmlns:xlink=\"http://www.w3.org/1999/xlink\">\n",
       "<g id=\"graph0\" class=\"graph\" transform=\"scale(1 1) rotate(0) translate(4 266)\">\n",
       "<title>%3</title>\n",
       "<polygon fill=\"#ffffff\" stroke=\"transparent\" points=\"-4,4 -4,-266 111,-266 111,4 -4,4\"/>\n",
       "<!-- 140526703085760 -->\n",
       "<g id=\"node1\" class=\"node\">\n",
       "<title>140526703085760</title>\n",
       "<polygon fill=\"#caff70\" stroke=\"#000000\" points=\"80.5,-31 26.5,-31 26.5,0 80.5,0 80.5,-31\"/>\n",
       "<text text-anchor=\"middle\" x=\"53.5\" y=\"-7\" font-family=\"monospace\" font-size=\"10.00\" fill=\"#000000\"> ()</text>\n",
       "</g>\n",
       "<!-- 140526702653904 -->\n",
       "<g id=\"node2\" class=\"node\">\n",
       "<title>140526702653904</title>\n",
       "<polygon fill=\"#d3d3d3\" stroke=\"#000000\" points=\"98,-86 9,-86 9,-67 98,-67 98,-86\"/>\n",
       "<text text-anchor=\"middle\" x=\"53.5\" y=\"-74\" font-family=\"monospace\" font-size=\"10.00\" fill=\"#000000\">SumBackward0</text>\n",
       "</g>\n",
       "<!-- 140526702653904&#45;&gt;140526703085760 -->\n",
       "<g id=\"edge4\" class=\"edge\">\n",
       "<title>140526702653904&#45;&gt;140526703085760</title>\n",
       "<path fill=\"none\" stroke=\"#000000\" d=\"M53.5,-66.9688C53.5,-60.1289 53.5,-50.5621 53.5,-41.5298\"/>\n",
       "<polygon fill=\"#000000\" stroke=\"#000000\" points=\"57.0001,-41.3678 53.5,-31.3678 50.0001,-41.3678 57.0001,-41.3678\"/>\n",
       "</g>\n",
       "<!-- 140526702656656 -->\n",
       "<g id=\"node3\" class=\"node\">\n",
       "<title>140526702656656</title>\n",
       "<polygon fill=\"#d3d3d3\" stroke=\"#000000\" points=\"107,-141 0,-141 0,-122 107,-122 107,-141\"/>\n",
       "<text text-anchor=\"middle\" x=\"53.5\" y=\"-129\" font-family=\"monospace\" font-size=\"10.00\" fill=\"#000000\">SigmoidBackward</text>\n",
       "</g>\n",
       "<!-- 140526702656656&#45;&gt;140526702653904 -->\n",
       "<g id=\"edge1\" class=\"edge\">\n",
       "<title>140526702656656&#45;&gt;140526702653904</title>\n",
       "<path fill=\"none\" stroke=\"#000000\" d=\"M53.5,-121.9197C53.5,-114.9083 53.5,-105.1442 53.5,-96.4652\"/>\n",
       "<polygon fill=\"#000000\" stroke=\"#000000\" points=\"57.0001,-96.3408 53.5,-86.3408 50.0001,-96.3409 57.0001,-96.3408\"/>\n",
       "</g>\n",
       "<!-- 140526702653712 -->\n",
       "<g id=\"node4\" class=\"node\">\n",
       "<title>140526702653712</title>\n",
       "<polygon fill=\"#d3d3d3\" stroke=\"#000000\" points=\"104,-196 3,-196 3,-177 104,-177 104,-196\"/>\n",
       "<text text-anchor=\"middle\" x=\"53.5\" y=\"-184\" font-family=\"monospace\" font-size=\"10.00\" fill=\"#000000\">AccumulateGrad</text>\n",
       "</g>\n",
       "<!-- 140526702653712&#45;&gt;140526702656656 -->\n",
       "<g id=\"edge2\" class=\"edge\">\n",
       "<title>140526702653712&#45;&gt;140526702656656</title>\n",
       "<path fill=\"none\" stroke=\"#000000\" d=\"M53.5,-176.9197C53.5,-169.9083 53.5,-160.1442 53.5,-151.4652\"/>\n",
       "<polygon fill=\"#000000\" stroke=\"#000000\" points=\"57.0001,-151.3408 53.5,-141.3408 50.0001,-151.3409 57.0001,-151.3408\"/>\n",
       "</g>\n",
       "<!-- 140526712061136 -->\n",
       "<g id=\"node5\" class=\"node\">\n",
       "<title>140526712061136</title>\n",
       "<polygon fill=\"#add8e6\" stroke=\"#000000\" points=\"80.5,-262 26.5,-262 26.5,-232 80.5,-232 80.5,-262\"/>\n",
       "<text text-anchor=\"middle\" x=\"53.5\" y=\"-250\" font-family=\"monospace\" font-size=\"10.00\" fill=\"#000000\">x</text>\n",
       "<text text-anchor=\"middle\" x=\"53.5\" y=\"-239\" font-family=\"monospace\" font-size=\"10.00\" fill=\"#000000\"> (17)</text>\n",
       "</g>\n",
       "<!-- 140526712061136&#45;&gt;140526702653712 -->\n",
       "<g id=\"edge3\" class=\"edge\">\n",
       "<title>140526712061136&#45;&gt;140526702653712</title>\n",
       "<path fill=\"none\" stroke=\"#000000\" d=\"M53.5,-231.7333C53.5,-224.0322 53.5,-214.5977 53.5,-206.3414\"/>\n",
       "<polygon fill=\"#000000\" stroke=\"#000000\" points=\"57.0001,-206.0864 53.5,-196.0864 50.0001,-206.0864 57.0001,-206.0864\"/>\n",
       "</g>\n",
       "</g>\n",
       "</svg>\n"
      ],
      "text/plain": [
       "<graphviz.dot.Digraph at 0x7fceec317ed0>"
      ]
     },
     "metadata": {
      "tags": []
     },
     "output_type": "display_data"
    }
   ],
   "source": [
    "# (3) 計算グラフの可視化\n",
    "\n",
    "g = make_dot(z, params={'x': x})\n",
    "display(g)"
   ]
  },
  {
   "cell_type": "code",
   "execution_count": 46,
   "metadata": {
    "colab": {
     "base_uri": "https://localhost:8080/",
     "height": 35
    },
    "id": "tarEaIfnZgPq",
    "outputId": "a03ca0eb-db36-40bb-9823-a3b503c4aa3c"
   },
   "outputs": [
    {
     "name": "stdout",
     "output_type": "stream",
     "text": [
      "pdf-10-03\n"
     ]
    },
    {
     "data": {
      "application/javascript": [
       "\n",
       "    async function download(id, filename, size) {\n",
       "      if (!google.colab.kernel.accessAllowed) {\n",
       "        return;\n",
       "      }\n",
       "      const div = document.createElement('div');\n",
       "      const label = document.createElement('label');\n",
       "      label.textContent = `Downloading \"${filename}\": `;\n",
       "      div.appendChild(label);\n",
       "      const progress = document.createElement('progress');\n",
       "      progress.max = size;\n",
       "      div.appendChild(progress);\n",
       "      document.body.appendChild(div);\n",
       "\n",
       "      const buffers = [];\n",
       "      let downloaded = 0;\n",
       "\n",
       "      const channel = await google.colab.kernel.comms.open(id);\n",
       "      // Send a message to notify the kernel that we're ready.\n",
       "      channel.send({})\n",
       "\n",
       "      for await (const message of channel.messages) {\n",
       "        // Send a message to notify the kernel that we're ready.\n",
       "        channel.send({})\n",
       "        if (message.buffers) {\n",
       "          for (const buffer of message.buffers) {\n",
       "            buffers.push(buffer);\n",
       "            downloaded += buffer.byteLength;\n",
       "            progress.value = downloaded;\n",
       "          }\n",
       "        }\n",
       "      }\n",
       "      const blob = new Blob(buffers, {type: 'application/binary'});\n",
       "      const a = document.createElement('a');\n",
       "      a.href = window.URL.createObjectURL(blob);\n",
       "      a.download = filename;\n",
       "      div.appendChild(a);\n",
       "      a.click();\n",
       "      div.remove();\n",
       "    }\n",
       "  "
      ],
      "text/plain": [
       "<IPython.core.display.Javascript object>"
      ]
     },
     "metadata": {
      "tags": []
     },
     "output_type": "display_data"
    },
    {
     "data": {
      "application/javascript": [
       "download(\"download_111697b9-9d5a-408d-92f6-834bcb83221f\", \"pdf-10-03.pdf\", 10168)"
      ],
      "text/plain": [
       "<IPython.core.display.Javascript object>"
      ]
     },
     "metadata": {
      "tags": []
     },
     "output_type": "display_data"
    }
   ],
   "source": [
    "graph_pdf(g)"
   ]
  },
  {
   "cell_type": "code",
   "execution_count": null,
   "metadata": {
    "id": "zNpm70XeNr_q",
    "outputId": "3af4abf2-0a17-45ca-9681-b9b2e71dc69e"
   },
   "outputs": [
    {
     "name": "stdout",
     "output_type": "stream",
     "text": [
      "tensor([0.1050, 0.1261, 0.1491, 0.1731, 0.1966, 0.2179, 0.2350, 0.2461, 0.2500,\n",
      "        0.2461, 0.2350, 0.2179, 0.1966, 0.1731, 0.1491, 0.1261, 0.1050],\n",
      "       dtype=torch.float64)\n"
     ]
    }
   ],
   "source": [
    "# (4) 勾配計算\n",
    "z.backward()\n",
    "\n",
    "# (5) 勾配値の確認\n",
    "print(x.grad)"
   ]
  },
  {
   "cell_type": "code",
   "execution_count": null,
   "metadata": {
    "id": "cyt_foUvNr_q",
    "outputId": "06a8dae4-5b20-4117-fe48-9268fed7be40"
   },
   "outputs": [
    {
     "name": "stdout",
     "output_type": "stream",
     "text": [
      "pdf-02-04.pdf\n"
     ]
    },
    {
     "data": {
      "application/pdf": "[encoded data removed]",
      "image/png": "[encoded data removed]",
      "text/plain": [
       "<Figure size 432x432 with 1 Axes>"
      ]
     },
     "metadata": {
      "needs_background": "light",
      "tags": []
     },
     "output_type": "display_data"
    }
   ],
   "source": [
    "# 元の関数と勾配のグラフ化\n",
    "\n",
    "plt.plot(x.data, y.data, c='b', label='y')\n",
    "plt.plot(x.data, x.grad.data, c='k', label='y.grad')\n",
    "plt.legend()\n",
    "plt.show()"
   ]
  },
  {
   "cell_type": "markdown",
   "metadata": {
    "id": "0kLX9BV9Nr_q"
   },
   "source": [
    "シグモイド関数の勾配は、$y(1-y)$になる。  \n",
    "2次関数なので、$y=\\dfrac{1}{2}$の時(x=0の時)最大値$\\dfrac{1}{4}$を取る。  \n",
    "上のグラフは、この計算結果と一致している。  "
   ]
  },
  {
   "cell_type": "code",
   "execution_count": null,
   "metadata": {
    "id": "d6lbqTXUNr_q",
    "outputId": "29de5043-8b6c-43c7-f0b0-e99316fe5188"
   },
   "outputs": [
    {
     "name": "stdout",
     "output_type": "stream",
     "text": [
      "tensor([0., 0., 0., 0., 0., 0., 0., 0., 0., 0., 0., 0., 0., 0., 0., 0., 0.],\n",
      "       dtype=torch.float64)\n"
     ]
    }
   ],
   "source": [
    "# (6) 勾配の初期化は関数 zero_()を使う\n",
    "\n",
    "x.grad.zero_()\n",
    "print(x.grad)"
   ]
  },
  {
   "cell_type": "markdown",
   "metadata": {
    "id": "7tGBthh4Nr_r"
   },
   "source": [
    "### (参考)シグモイド関数を独自に実装した場合"
   ]
  },
  {
   "cell_type": "code",
   "execution_count": 47,
   "metadata": {
    "id": "Uofxv02YNr_r"
   },
   "outputs": [],
   "source": [
    "# シグモイド関数の定義\n",
    "\n",
    "def sigmoid(x):\n",
    "    return(1/(1 + torch.exp(-x)))"
   ]
  },
  {
   "cell_type": "code",
   "execution_count": 48,
   "metadata": {
    "id": "1A2ozRy4Nr_r"
   },
   "outputs": [],
   "source": [
    "# (2) yの値の計算\n",
    "\n",
    "y = sigmoid(x)"
   ]
  },
  {
   "cell_type": "code",
   "execution_count": 49,
   "metadata": {
    "colab": {
     "base_uri": "https://localhost:8080/",
     "height": 412
    },
    "id": "vaCaLvR5Nr_r",
    "outputId": "cfc2fd7d-2e16-4ca9-dded-e9cca73fd6cb"
   },
   "outputs": [
    {
     "data": {
      "application/pdf": "[encoded data removed]",
      "image/png": "[encoded data removed]",
      "text/plain": [
       "<Figure size 432x432 with 1 Axes>"
      ]
     },
     "metadata": {
      "needs_background": "light",
      "tags": []
     },
     "output_type": "display_data"
    }
   ],
   "source": [
    "# グラフ(散布図)描画\n",
    "\n",
    "plt.plot(x.data, y.data)\n",
    "plt.xlabel('x')\n",
    "plt.ylabel('y')\n",
    "plt.title('シグモイド関数のグラフ')\n",
    "plt.show()"
   ]
  },
  {
   "cell_type": "code",
   "execution_count": 50,
   "metadata": {
    "id": "8HAx2pNbNr_r"
   },
   "outputs": [],
   "source": [
    "# 勾配計算のためには、最終値はスカラーの必要があるため、ダミーでsum関数をかける\n",
    "\n",
    "z = y.sum()"
   ]
  },
  {
   "cell_type": "code",
   "execution_count": 51,
   "metadata": {
    "colab": {
     "base_uri": "https://localhost:8080/",
     "height": 672
    },
    "id": "m6FR7tA1Nr_r",
    "outputId": "bb372566-5913-48e4-ff79-e487bc5f6bef"
   },
   "outputs": [
    {
     "data": {
      "image/svg+xml": [
       "<?xml version=\"1.0\" encoding=\"UTF-8\" standalone=\"no\"?>\n",
       "<!DOCTYPE svg PUBLIC \"-//W3C//DTD SVG 1.1//EN\"\n",
       " \"http://www.w3.org/Graphics/SVG/1.1/DTD/svg11.dtd\">\n",
       "<!-- Generated by graphviz version 2.40.1 (20161225.0304)\n",
       " -->\n",
       "<!-- Title: %3 Pages: 1 -->\n",
       "<svg width=\"133pt\" height=\"490pt\"\n",
       " viewBox=\"0.00 0.00 133.00 490.00\" xmlns=\"http://www.w3.org/2000/svg\" xmlns:xlink=\"http://www.w3.org/1999/xlink\">\n",
       "<g id=\"graph0\" class=\"graph\" transform=\"scale(1 1) rotate(0) translate(4 486)\">\n",
       "<title>%3</title>\n",
       "<polygon fill=\"#ffffff\" stroke=\"transparent\" points=\"-4,4 -4,-486 129,-486 129,4 -4,4\"/>\n",
       "<!-- 140526702738560 -->\n",
       "<g id=\"node1\" class=\"node\">\n",
       "<title>140526702738560</title>\n",
       "<polygon fill=\"#caff70\" stroke=\"#000000\" points=\"89.5,-31 35.5,-31 35.5,0 89.5,0 89.5,-31\"/>\n",
       "<text text-anchor=\"middle\" x=\"62.5\" y=\"-7\" font-family=\"monospace\" font-size=\"10.00\" fill=\"#000000\"> ()</text>\n",
       "</g>\n",
       "<!-- 140526701688528 -->\n",
       "<g id=\"node2\" class=\"node\">\n",
       "<title>140526701688528</title>\n",
       "<polygon fill=\"#d3d3d3\" stroke=\"#000000\" points=\"107,-86 18,-86 18,-67 107,-67 107,-86\"/>\n",
       "<text text-anchor=\"middle\" x=\"62.5\" y=\"-74\" font-family=\"monospace\" font-size=\"10.00\" fill=\"#000000\">SumBackward0</text>\n",
       "</g>\n",
       "<!-- 140526701688528&#45;&gt;140526702738560 -->\n",
       "<g id=\"edge8\" class=\"edge\">\n",
       "<title>140526701688528&#45;&gt;140526702738560</title>\n",
       "<path fill=\"none\" stroke=\"#000000\" d=\"M62.5,-66.9688C62.5,-60.1289 62.5,-50.5621 62.5,-41.5298\"/>\n",
       "<polygon fill=\"#000000\" stroke=\"#000000\" points=\"66.0001,-41.3678 62.5,-31.3678 59.0001,-41.3678 66.0001,-41.3678\"/>\n",
       "</g>\n",
       "<!-- 140526701464272 -->\n",
       "<g id=\"node3\" class=\"node\">\n",
       "<title>140526701464272</title>\n",
       "<polygon fill=\"#d3d3d3\" stroke=\"#000000\" points=\"107,-141 18,-141 18,-122 107,-122 107,-141\"/>\n",
       "<text text-anchor=\"middle\" x=\"62.5\" y=\"-129\" font-family=\"monospace\" font-size=\"10.00\" fill=\"#000000\">MulBackward0</text>\n",
       "</g>\n",
       "<!-- 140526701464272&#45;&gt;140526701688528 -->\n",
       "<g id=\"edge1\" class=\"edge\">\n",
       "<title>140526701464272&#45;&gt;140526701688528</title>\n",
       "<path fill=\"none\" stroke=\"#000000\" d=\"M62.5,-121.9197C62.5,-114.9083 62.5,-105.1442 62.5,-96.4652\"/>\n",
       "<polygon fill=\"#000000\" stroke=\"#000000\" points=\"66.0001,-96.3408 62.5,-86.3408 59.0001,-96.3409 66.0001,-96.3408\"/>\n",
       "</g>\n",
       "<!-- 140526701463184 -->\n",
       "<g id=\"node4\" class=\"node\">\n",
       "<title>140526701463184</title>\n",
       "<polygon fill=\"#d3d3d3\" stroke=\"#000000\" points=\"125,-196 0,-196 0,-177 125,-177 125,-196\"/>\n",
       "<text text-anchor=\"middle\" x=\"62.5\" y=\"-184\" font-family=\"monospace\" font-size=\"10.00\" fill=\"#000000\">ReciprocalBackward</text>\n",
       "</g>\n",
       "<!-- 140526701463184&#45;&gt;140526701464272 -->\n",
       "<g id=\"edge2\" class=\"edge\">\n",
       "<title>140526701463184&#45;&gt;140526701464272</title>\n",
       "<path fill=\"none\" stroke=\"#000000\" d=\"M62.5,-176.9197C62.5,-169.9083 62.5,-160.1442 62.5,-151.4652\"/>\n",
       "<polygon fill=\"#000000\" stroke=\"#000000\" points=\"66.0001,-151.3408 62.5,-141.3408 59.0001,-151.3409 66.0001,-151.3408\"/>\n",
       "</g>\n",
       "<!-- 140526701463376 -->\n",
       "<g id=\"node5\" class=\"node\">\n",
       "<title>140526701463376</title>\n",
       "<polygon fill=\"#d3d3d3\" stroke=\"#000000\" points=\"107,-251 18,-251 18,-232 107,-232 107,-251\"/>\n",
       "<text text-anchor=\"middle\" x=\"62.5\" y=\"-239\" font-family=\"monospace\" font-size=\"10.00\" fill=\"#000000\">AddBackward0</text>\n",
       "</g>\n",
       "<!-- 140526701463376&#45;&gt;140526701463184 -->\n",
       "<g id=\"edge3\" class=\"edge\">\n",
       "<title>140526701463376&#45;&gt;140526701463184</title>\n",
       "<path fill=\"none\" stroke=\"#000000\" d=\"M62.5,-231.9197C62.5,-224.9083 62.5,-215.1442 62.5,-206.4652\"/>\n",
       "<polygon fill=\"#000000\" stroke=\"#000000\" points=\"66.0001,-206.3408 62.5,-196.3408 59.0001,-206.3409 66.0001,-206.3408\"/>\n",
       "</g>\n",
       "<!-- 140526701584592 -->\n",
       "<g id=\"node6\" class=\"node\">\n",
       "<title>140526701584592</title>\n",
       "<polygon fill=\"#d3d3d3\" stroke=\"#000000\" points=\"104,-306 21,-306 21,-287 104,-287 104,-306\"/>\n",
       "<text text-anchor=\"middle\" x=\"62.5\" y=\"-294\" font-family=\"monospace\" font-size=\"10.00\" fill=\"#000000\">ExpBackward</text>\n",
       "</g>\n",
       "<!-- 140526701584592&#45;&gt;140526701463376 -->\n",
       "<g id=\"edge4\" class=\"edge\">\n",
       "<title>140526701584592&#45;&gt;140526701463376</title>\n",
       "<path fill=\"none\" stroke=\"#000000\" d=\"M62.5,-286.9197C62.5,-279.9083 62.5,-270.1442 62.5,-261.4652\"/>\n",
       "<polygon fill=\"#000000\" stroke=\"#000000\" points=\"66.0001,-261.3408 62.5,-251.3408 59.0001,-261.3409 66.0001,-261.3408\"/>\n",
       "</g>\n",
       "<!-- 140526701584720 -->\n",
       "<g id=\"node7\" class=\"node\">\n",
       "<title>140526701584720</title>\n",
       "<polygon fill=\"#d3d3d3\" stroke=\"#000000\" points=\"104,-361 21,-361 21,-342 104,-342 104,-361\"/>\n",
       "<text text-anchor=\"middle\" x=\"62.5\" y=\"-349\" font-family=\"monospace\" font-size=\"10.00\" fill=\"#000000\">NegBackward</text>\n",
       "</g>\n",
       "<!-- 140526701584720&#45;&gt;140526701584592 -->\n",
       "<g id=\"edge5\" class=\"edge\">\n",
       "<title>140526701584720&#45;&gt;140526701584592</title>\n",
       "<path fill=\"none\" stroke=\"#000000\" d=\"M62.5,-341.9197C62.5,-334.9083 62.5,-325.1442 62.5,-316.4652\"/>\n",
       "<polygon fill=\"#000000\" stroke=\"#000000\" points=\"66.0001,-316.3408 62.5,-306.3408 59.0001,-316.3409 66.0001,-316.3408\"/>\n",
       "</g>\n",
       "<!-- 140526701584528 -->\n",
       "<g id=\"node8\" class=\"node\">\n",
       "<title>140526701584528</title>\n",
       "<polygon fill=\"#d3d3d3\" stroke=\"#000000\" points=\"113,-416 12,-416 12,-397 113,-397 113,-416\"/>\n",
       "<text text-anchor=\"middle\" x=\"62.5\" y=\"-404\" font-family=\"monospace\" font-size=\"10.00\" fill=\"#000000\">AccumulateGrad</text>\n",
       "</g>\n",
       "<!-- 140526701584528&#45;&gt;140526701584720 -->\n",
       "<g id=\"edge6\" class=\"edge\">\n",
       "<title>140526701584528&#45;&gt;140526701584720</title>\n",
       "<path fill=\"none\" stroke=\"#000000\" d=\"M62.5,-396.9197C62.5,-389.9083 62.5,-380.1442 62.5,-371.4652\"/>\n",
       "<polygon fill=\"#000000\" stroke=\"#000000\" points=\"66.0001,-371.3408 62.5,-361.3408 59.0001,-371.3409 66.0001,-371.3408\"/>\n",
       "</g>\n",
       "<!-- 140526712061136 -->\n",
       "<g id=\"node9\" class=\"node\">\n",
       "<title>140526712061136</title>\n",
       "<polygon fill=\"#add8e6\" stroke=\"#000000\" points=\"89.5,-482 35.5,-482 35.5,-452 89.5,-452 89.5,-482\"/>\n",
       "<text text-anchor=\"middle\" x=\"62.5\" y=\"-470\" font-family=\"monospace\" font-size=\"10.00\" fill=\"#000000\">x</text>\n",
       "<text text-anchor=\"middle\" x=\"62.5\" y=\"-459\" font-family=\"monospace\" font-size=\"10.00\" fill=\"#000000\"> (17)</text>\n",
       "</g>\n",
       "<!-- 140526712061136&#45;&gt;140526701584528 -->\n",
       "<g id=\"edge7\" class=\"edge\">\n",
       "<title>140526712061136&#45;&gt;140526701584528</title>\n",
       "<path fill=\"none\" stroke=\"#000000\" d=\"M62.5,-451.7333C62.5,-444.0322 62.5,-434.5977 62.5,-426.3414\"/>\n",
       "<polygon fill=\"#000000\" stroke=\"#000000\" points=\"66.0001,-426.0864 62.5,-416.0864 59.0001,-426.0864 66.0001,-426.0864\"/>\n",
       "</g>\n",
       "</g>\n",
       "</svg>\n"
      ],
      "text/plain": [
       "<graphviz.dot.Digraph at 0x7fceec1f6290>"
      ]
     },
     "metadata": {
      "tags": []
     },
     "output_type": "display_data"
    }
   ],
   "source": [
    "# (3) 計算グラフの可視化\n",
    "\n",
    "params = {'x': x}\n",
    "g = make_dot(z, params=params)\n",
    "display(g)"
   ]
  },
  {
   "cell_type": "code",
   "execution_count": null,
   "metadata": {
    "id": "9nHpZIC3Nr_s",
    "outputId": "2fd7dd45-c1f9-4788-8f4e-c97bc4fa8b36"
   },
   "outputs": [
    {
     "name": "stdout",
     "output_type": "stream",
     "text": [
      "tensor([0.1050, 0.1261, 0.1491, 0.1731, 0.1966, 0.2179, 0.2350, 0.2461, 0.2500,\n",
      "        0.2461, 0.2350, 0.2179, 0.1966, 0.1731, 0.1491, 0.1261, 0.1050],\n",
      "       dtype=torch.float64)\n"
     ]
    }
   ],
   "source": [
    "# (4) 勾配計算\n",
    "z.backward()\n",
    "\n",
    "# (5) 勾配値の確認\n",
    "print(x.grad)"
   ]
  },
  {
   "cell_type": "code",
   "execution_count": null,
   "metadata": {
    "id": "ip_6cFLmNr_s",
    "outputId": "0559d6f2-7ab3-4c75-cfd5-265a28bcdb90"
   },
   "outputs": [
    {
     "data": {
      "image/png": "[encoded data removed]",
      "text/plain": [
       "<Figure size 432x432 with 1 Axes>"
      ]
     },
     "metadata": {
      "needs_background": "light",
      "tags": []
     },
     "output_type": "display_data"
    }
   ],
   "source": [
    "# 元の関数と勾配のグラフ化\n",
    "\n",
    "plt.plot(x.data, y.data, c='b', label='y')\n",
    "plt.plot(x.data, x.grad.data, c='k', label='y.grad')\n",
    "plt.legend()\n",
    "plt.show()"
   ]
  },
  {
   "cell_type": "code",
   "execution_count": null,
   "metadata": {
    "id": "t-hoxTV7Nr_s"
   },
   "outputs": [],
   "source": []
  }
 ],
 "metadata": {
  "colab": {
   "collapsed_sections": [],
   "name": "ch02_pytorch.ipynb",
   "provenance": []
  },
  "kernelspec": {
   "display_name": "Python 3",
   "language": "python",
   "name": "python3"
  },
  "language_info": {
   "codemirror_mode": {
    "name": "ipython",
    "version": 3
   },
   "file_extension": ".py",
   "mimetype": "text/x-python",
   "name": "python",
   "nbconvert_exporter": "python",
   "pygments_lexer": "ipython3",
   "version": "3.8.5"
  }
 },
 "nbformat": 4,
 "nbformat_minor": 1
}
