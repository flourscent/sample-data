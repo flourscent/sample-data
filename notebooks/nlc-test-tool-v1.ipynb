{
 "cells": [
  {
   "cell_type": "markdown",
   "metadata": {},
   "source": [
    "#  NLCテストツール"
   ]
  },
  {
   "cell_type": "markdown",
   "metadata": {},
   "source": [
    "## 環境固有情報の設定\n",
    "以下の3つのセルは環境に応じて書き換えて利用します。\n",
    "\n",
    "* 変数定義\n",
    "* COS資格情報\n",
    "* NLC資格上場"
   ]
  },
  {
   "cell_type": "code",
   "execution_count": null,
   "metadata": {},
   "outputs": [],
   "source": [
    "#変数定義\n",
    "#\n",
    "\n",
    "# 入力EXCELファイル名\n",
    "infile = 'nlc-test-sample.xlsx'\n",
    "\n",
    "# 出力EXCELファイル名\n",
    "outfile = 'nlc-test-sample-output.xlsx'\n",
    "\n",
    "# 分類クラス数\n",
    "# 出力の分類クラス、確信度を1件あたり何クラス分取得するかの値\n",
    "n = 3\n",
    "\n",
    "# model id\n",
    "# 各自のトレーニング済みクラスのIDを指定します。\n",
    "model_id = 'xxxxx'\n"
   ]
  },
  {
   "cell_type": "code",
   "execution_count": null,
   "metadata": {},
   "outputs": [],
   "source": [
    "# COS資格情報\n",
    "# \n",
    "# 各自のCOS資格情報に置き換えます。\n",
    "# 資格情報のコピペでいいですが、最後の'File'のところはinfileに置き換えて下さい。\n",
    "\n",
    "cos_credentials = {\n",
    "    'IAM_SERVICE_ID': 'XXXX',\n",
    "    'IBM_API_KEY_ID': 'XXXX',\n",
    "    'ENDPOINT': 'XXXX',\n",
    "    'IBM_AUTH_ENDPOINT': 'https://iam.ng.bluemix.net/oidc/token',\n",
    "    'BUCKET': 'XXXX',\n",
    "    'FILE': infile\n",
    "}\n"
   ]
  },
  {
   "cell_type": "code",
   "execution_count": null,
   "metadata": {},
   "outputs": [],
   "source": [
    "# NLC資格情報\n",
    "# NLC資格情報をコピペで置き換えます。\n",
    "\n",
    "nlc_credentials = {\n",
    "  \"apikey\": \"XXXX\",\n",
    "  \"iam_apikey_description\": \"XXXX\",\n",
    "  \"iam_apikey_name\": \"wdp-writer\",\n",
    "  \"iam_role_crn\": \"XXXX\",\n",
    "  \"iam_serviceid_crn\": \"XXXX\",\n",
    "  \"url\": \"https://gateway.watsonplatform.net/natural-language-classifier/api\"\n",
    "}"
   ]
  },
  {
   "cell_type": "markdown",
   "metadata": {},
   "source": [
    "## COSからローカルにファイルコピー"
   ]
  },
  {
   "cell_type": "code",
   "execution_count": null,
   "metadata": {},
   "outputs": [],
   "source": [
    "# COSオブジェクトの生成\n",
    "# 資格情報が正しければ、cosオブジェクトが生成されます。\n",
    "\n",
    "from ibm_botocore.client import Config\n",
    "import ibm_boto3\n",
    "\n",
    "cos = ibm_boto3.client(service_name='s3',\n",
    "    ibm_api_key_id=cos_credentials['IBM_API_KEY_ID'],\n",
    "    ibm_service_instance_id=cos_credentials['IAM_SERVICE_ID'],\n",
    "    ibm_auth_endpoint=cos_credentials['IBM_AUTH_ENDPOINT'],\n",
    "    config=Config(signature_version='oauth'),\n",
    "    endpoint_url=cos_credentials['ENDPOINT'])"
   ]
  },
  {
   "cell_type": "code",
   "execution_count": null,
   "metadata": {},
   "outputs": [],
   "source": [
    "# EXCELファイルをNotebook 仮想OSの$HOMEにコピー\n",
    "\n",
    "filename = cos_credentials['FILE']\n",
    "cos.download_file(Bucket=cos_credentials['BUCKET'],Key=filename,Filename=filename)"
   ]
  },
  {
   "cell_type": "markdown",
   "metadata": {},
   "source": [
    " ## Excelをデータフレームに読み込み"
   ]
  },
  {
   "cell_type": "code",
   "execution_count": null,
   "metadata": {},
   "outputs": [],
   "source": [
    "# !pip install xlrd | tail -n 1\n",
    "# 現在のStudioでは導入済みなので不要"
   ]
  },
  {
   "cell_type": "code",
   "execution_count": null,
   "metadata": {},
   "outputs": [],
   "source": [
    "import pandas as pd\n",
    "import json\n",
    "import numpy as np\n",
    "from IPython.core.display import display"
   ]
  },
  {
   "cell_type": "code",
   "execution_count": null,
   "metadata": {},
   "outputs": [],
   "source": [
    "# Excel読込み\n",
    "\n",
    "df1 = pd.read_excel(infile)\n",
    "display(df1.head())"
   ]
  },
  {
   "cell_type": "markdown",
   "metadata": {},
   "source": [
    "## NLC 呼出し準備"
   ]
  },
  {
   "cell_type": "code",
   "execution_count": null,
   "metadata": {},
   "outputs": [],
   "source": [
    "!pip install ibm-watson | tail -n 1"
   ]
  },
  {
   "cell_type": "code",
   "execution_count": null,
   "metadata": {},
   "outputs": [],
   "source": [
    "# NLCインスタンス生成\n",
    "# 資格情報が正しければnlcインスタンスが生成されます。\n",
    "\n",
    "from ibm_watson import NaturalLanguageClassifierV1\n",
    "from ibm_cloud_sdk_core.authenticators import IAMAuthenticator\n",
    "\n",
    "apikey = nlc_credentials['apikey']\n",
    "url = nlc_credentials['url']\n",
    "authenticator = IAMAuthenticator(apikey)\n",
    "nlc = NaturalLanguageClassifierV1(\n",
    "    authenticator=authenticator\n",
    ")\n",
    "nlc.set_service_url(url)"
   ]
  },
  {
   "cell_type": "markdown",
   "metadata": {},
   "source": [
    "### 呼出しテスト"
   ]
  },
  {
   "cell_type": "code",
   "execution_count": null,
   "metadata": {},
   "outputs": [],
   "source": [
    "# 入力Excelのtext列最初のテキストを抽出\n",
    "text = df1['text'][0]\n",
    "\n",
    "# 結果確認\n",
    "print('【入力テキスト】')\n",
    "print(text)\n",
    "print('')\n",
    "\n",
    "# このテキストを使ってNLC呼出し\n",
    "ret = nlc.classify(model_id, text).get_result()\n",
    "\n",
    "# 結果確認\n",
    "print('【出力JSON】')\n",
    "print(json.dumps(ret, indent=2,ensure_ascii=False))"
   ]
  },
  {
   "cell_type": "markdown",
   "metadata": {},
   "source": [
    "## 全テストデータに対してAPI呼出し"
   ]
  },
  {
   "cell_type": "code",
   "execution_count": null,
   "metadata": {},
   "outputs": [],
   "source": [
    "# columns生成\n",
    "columns = []\n",
    "for i in range(n):\n",
    "    item = 'item%d' % i\n",
    "    conf = 'conf%d' % i\n",
    "    columns = columns + [item, conf]\n",
    "\n",
    "# values生成\n",
    "vv = []\n",
    "\n",
    "for i in range(len(df1)):\n",
    "    text = df1['text'][i]\n",
    "    ret = nlc.classify(model_id, text).get_result()\n",
    "\n",
    "    ret_values = ret['classes']\n",
    "    values = []\n",
    "    for i in range(n):\n",
    "        item = ret_values[i]\n",
    "        cls = item['class_name']\n",
    "        val = item['confidence']\n",
    "        values = values + [cls, val]\n",
    "    \n",
    "    vv = vv + [values]\n",
    "\n",
    "# DataFrame生成\n",
    "df_out = pd.DataFrame(vv, columns = columns)\n",
    "display(df_out)"
   ]
  },
  {
   "cell_type": "code",
   "execution_count": null,
   "metadata": {},
   "outputs": [],
   "source": [
    "# 元データと連結\n",
    "\n",
    "df_total = pd.concat([df1, df_out], axis=1)\n",
    "display(df_total)"
   ]
  },
  {
   "cell_type": "markdown",
   "metadata": {},
   "source": [
    "## Excelに書き出し"
   ]
  },
  {
   "cell_type": "code",
   "execution_count": null,
   "metadata": {},
   "outputs": [],
   "source": [
    "# Excelに書き出し\n",
    "df_total.to_excel(outfile, index=False)\n",
    "\n",
    "# COSに書き戻し\n",
    "cos.upload_file(Filename=outfile,Bucket=cos_credentials['BUCKET'],Key=outfile)"
   ]
  },
  {
   "cell_type": "markdown",
   "metadata": {},
   "source": [
    "## Confusion Matix(混同行列)の表示"
   ]
  },
  {
   "cell_type": "code",
   "execution_count": null,
   "metadata": {},
   "outputs": [],
   "source": [
    "# 正解データ\n",
    "classes_t = df_total['class'].values\n",
    "\n",
    "# 予測データ\n",
    "classes_p = df_total['item0'].values\n",
    "\n",
    "print(classes_t)\n",
    "print(classes_p)"
   ]
  },
  {
   "cell_type": "code",
   "execution_count": null,
   "metadata": {},
   "outputs": [],
   "source": [
    "# ラベルリストの作成\n",
    "\n",
    "labels = list(set(classes_t))\n",
    "print(labels)"
   ]
  },
  {
   "cell_type": "code",
   "execution_count": null,
   "metadata": {},
   "outputs": [],
   "source": [
    "# 混同行列の生成\n",
    "from sklearn.metrics import confusion_matrix\n",
    "cm = confusion_matrix(classes_t, classes_p, labels=labels)\n",
    "\n",
    "# データフレームに変換\n",
    "cm_labeled = pd.DataFrame(cm, columns=labels, index=labels)\n",
    "display(cm_labeled)"
   ]
  },
  {
   "cell_type": "code",
   "execution_count": null,
   "metadata": {},
   "outputs": [],
   "source": []
  }
 ],
 "metadata": {
  "kernelspec": {
   "display_name": "Python 3",
   "language": "python",
   "name": "python3"
  },
  "language_info": {
   "codemirror_mode": {
    "name": "ipython",
    "version": 3
   },
   "file_extension": ".py",
   "mimetype": "text/x-python",
   "name": "python",
   "nbconvert_exporter": "python",
   "pygments_lexer": "ipython3",
   "version": "3.7.3"
  }
 },
 "nbformat": 4,
 "nbformat_minor": 2
}
