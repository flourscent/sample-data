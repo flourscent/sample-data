{
 "cells": [
  {
   "cell_type": "markdown",
   "metadata": {
    "collapsed": true
   },
   "source": [
    "# 第2部 - パーティのためのMNISTを用いたWML Fedareted Learning"
   ]
  },
  {
   "cell_type": "markdown",
   "metadata": {},
   "source": [
    "### 学習目標\n",
    "\n",
    "パート2 - WML Federated Learning with MNIST for Partyを修了すると，以下のことができるようになります．\n",
    "\n",
    "- Federated Learning実験で使用するデータをロードする。\n",
    "- IBM Federated Learning ライブラリをインストールする。\n",
    "- データハンドラを定義する。データハンドラの詳細については、<a href = \"https://dataplatform.cloud.ibm.com/docs/content/wsj/analyze-data/fl-cus-dh.html?audience=wdp&context=cpdaas\" target=\"_blank\" rel=\"noopener no referrer\">データハンドラのカスタマイズ</a>を参照してください。\n",
    "- アグリゲータでデータを訓練するパーティを設定します。\n",
    "\n"
   ]
  },
  {
   "cell_type": "markdown",
   "metadata": {},
   "source": [
    "<div class=\"alert-block alert-info\">このノートは、Federated Learning実験の管理者または接続者が実行することを想定しています。\n",
    "</div>"
   ]
  },
  {
   "cell_type": "markdown",
   "metadata": {},
   "source": [
    "## 目次\n",
    "\n",
    "- [1. データを読み込む](#load)\n",
    "    - [1.1 MNIST 手書き数字データセットのダウンロード](#1.1)\n",
    "- [2. Fedarated Learingライブラリのインストール](#install)\n",
    "    - [2.1 FL付きIBM WML SDK をインストール](#2.1)\n",
    "    - [2.2 ライブラリのインストール](#2.2)\n",
    "    - [2.3 フレームワークのインストール](#2.3)\n",
    "    - [2.4 パーティのインポート](#2.4)\n",
    "- [3. データハンドラの定義](#data-handler)\n",
    "- [4. パーティの設定](#config)\n",
    "- [5. Fedarated Learningで学習する](#train)\n",
    "- [6. まとめ](#summary)"
   ]
  },
  {
   "cell_type": "markdown",
   "metadata": {},
   "source": [
    "<div class=\"alert-block alert-warning\">このノートブックを実行する前に、すでにPart 1 - WML Federated Learning with MNIST for Adminを実行している必要があります。実行していない場合は、ノートブックを開いて、まずそのノートブックを実行してください。\n",
    "</div> "
   ]
  },
  {
   "cell_type": "markdown",
   "metadata": {},
   "source": [
    "<a id = \"load\"></a>\n",
    "## 1. データを読み込む"
   ]
  },
  {
   "cell_type": "markdown",
   "metadata": {},
   "source": [
    "### Part 1 Notebookからの変数の貼り付け\n",
    "Part 1のNotebookの最後に取得したID認証情報を貼り付けます。Part 1を実行していない場合は、まずNotebookを開いて実行してください。"
   ]
  },
  {
   "cell_type": "code",
   "execution_count": null,
   "metadata": {},
   "outputs": [],
   "source": [
    "WML_SERVICES_HOST = 'us-south.ml.cloud.ibm.com'\n",
    "IAM_APIKEY = 'xxx'\n",
    "RTS_ID = 'xxx'\n",
    "TRAINING_ID = 'xxx'"
   ]
  },
  {
   "cell_type": "markdown",
   "metadata": {},
   "source": [
    "<a id = \"1.1\"></a>\n",
    "### 1.1 MNIST 手書き数字データセットのダウンロード"
   ]
  },
  {
   "cell_type": "markdown",
   "metadata": {},
   "source": [
    "Partyとして、統合学習モデルの学習に使用するデータセットを提供する必要があります。  \n",
    "このチュートリアルでは、デフォルトでMNISTの手書き数字データセットが提供されます。"
   ]
  },
  {
   "cell_type": "code",
   "execution_count": null,
   "metadata": {},
   "outputs": [],
   "source": [
    "import requests\n",
    "\n",
    "dataset_resp = requests.get(\"https://api.dataplatform.cloud.ibm.com/v2/gallery-assets/entries/903188bb984a30f38bb889102a1baae5/data\",\n",
    "                            allow_redirects=True)\n",
    "\n",
    "f = open('MNIST-pkl.zip', 'wb')\n",
    "f.write(dataset_resp.content)\n",
    "f.close()"
   ]
  },
  {
   "cell_type": "code",
   "execution_count": null,
   "metadata": {},
   "outputs": [],
   "source": [
    "import zipfile\n",
    "import os\n",
    "\n",
    "with zipfile.ZipFile(\"MNIST-pkl.zip\",\"r\") as file:\n",
    "    file.extractall()\n",
    "    \n",
    "!ls -lh"
   ]
  },
  {
   "cell_type": "markdown",
   "metadata": {},
   "source": [
    "<a id = \"install\"></a> </a>\n",
    "## 2. Federated Learning ライブラリのインストール\n",
    "ここでは、PythonクライアントでFederated Learningを呼び出すために必要なライブラリなどのパッケージをインストールしていきます。"
   ]
  },
  {
   "cell_type": "markdown",
   "metadata": {},
   "source": [
    "<a id = \"2.1\"></a> </a>\n",
    "### 2.1 FL付きIBM WML SDK をインストール\n",
    "IBM Watson Machine Learning CLI を、Federated Learningを含んだソフトウェア開発パッケージ全体と一緒にインストールします。"
   ]
  },
  {
   "cell_type": "code",
   "execution_count": null,
   "metadata": {},
   "outputs": [],
   "source": [
    "!pip install --upgrade ibm-watson-machine-learning | tail -n 1"
   ]
  },
  {
   "cell_type": "markdown",
   "metadata": {},
   "source": [
    "<a id = \"2.2\"></a> \n",
    "### 2.2 ライブラリのインストール"
   ]
  },
  {
   "cell_type": "code",
   "execution_count": null,
   "metadata": {},
   "outputs": [],
   "source": [
    "!pip install environs parse websockets jsonpickle pandas pytest pyYAML requests pathlib2 psutil setproctitle tabulate lz4 opencv-python gym ray==0.8.0 cloudpickle==1.3.0 image | tail -n 1"
   ]
  },
  {
   "cell_type": "markdown",
   "metadata": {},
   "source": [
    "<a id = \"2.3\"></a>\n",
    "### 2.3 フレームワークのインストール"
   ]
  },
  {
   "cell_type": "code",
   "execution_count": null,
   "metadata": {},
   "outputs": [],
   "source": [
    "!pip install tensorflow==2.1.0 scikit-learn==0.23.1 keras==2.2.4 numpy==1.17.4 scipy==1.4.1 | tail -n 1"
   ]
  },
  {
   "cell_type": "markdown",
   "metadata": {},
   "source": [
    "<a id = \"2.4\"></a>\n",
    "### 2.4 パーティのインポート\n",
    "以下のコードは、パーティ用のパッケージをインポートし、それがロードされることを確認します。"
   ]
  },
  {
   "cell_type": "code",
   "execution_count": null,
   "metadata": {},
   "outputs": [],
   "source": [
    "import ibmfl.party_env_validator\n",
    "from ibmfl.party.party import Party"
   ]
  },
  {
   "cell_type": "markdown",
   "metadata": {},
   "source": [
    "<a id = \"data-handler\"></a>\n",
    "## 3. データハンドラの定義\n",
    "パーティはデータセットが互換性のあるフォーマットで一貫性のあるものであることを保証するためにデータハンドラを実行する必要があります。このチュートリアルでは、MNISTデータセットのデータハンドラの例を示します。\n",
    "\n",
    "データハンドラの詳細については、<a href = \"https://dataplatform.cloud.ibm.com/docs/content/wsj/analyze-data/fl-cus-dh.html?audience=wdp&context=cpdaas\" target=\"_blank\" rel=\"noopener no referrer\">データハンドラのカスタマイズ</a>を参照してください。\n",
    "\n",
    "このデータハンドラは、このノートブックのローカル作業ディレクトリに書き込まれます。"
   ]
  },
  {
   "cell_type": "code",
   "execution_count": null,
   "metadata": {},
   "outputs": [],
   "source": [
    "%%writefile mnist_keras_data_handler.py\n",
    "from keras.preprocessing.image import ImageDataGenerator\n",
    "import logging\n",
    "\n",
    "import numpy as np\n",
    "from keras.utils import np_utils\n",
    "\n",
    "from ibmfl.data.data_handler import DataHandler\n",
    "from ibmfl.util.datasets import load_mnist\n",
    "\n",
    "logger = logging.getLogger(__name__)\n",
    "\n",
    "\n",
    "\n",
    "class MnistTFDataHandler(DataHandler):\n",
    "    \"\"\"\n",
    "       Data handler for MNIST dataset.\n",
    "       \"\"\"\n",
    "\n",
    "    def __init__(self, data_config=None, channels_first=False):\n",
    "        super().__init__()\n",
    "        self.file_name = None\n",
    "        if data_config is not None:\n",
    "            if 'train_file' in data_config:\n",
    "                self.train_file_name = data_config['train_file']\n",
    "            if 'test_file' in data_config:\n",
    "                self.test_file_name = data_config['test_file']\n",
    "\n",
    "    def get_data(self, nb_points=500):\n",
    "        \"\"\"\n",
    "        Gets pre-process mnist training and testing data. Because this method\n",
    "        is for testing it takes as input the number of datapoints, nb_points,\n",
    "        to be included in the training and testing set.\n",
    "\n",
    "        :param: nb_points: Number of data points to be included in each set\n",
    "        :type nb_points: `int`\n",
    "        :return: training data\n",
    "        :rtype: `tuple`\n",
    "        \"\"\"\n",
    "        if self.file_name is None:\n",
    "            (x_train, y_train), (x_test, y_test) = load_mnist()\n",
    "            # Reduce datapoints to make test faster\n",
    "            x_train = x_train[:nb_points]\n",
    "            y_train = y_train[:nb_points]\n",
    "            x_test = x_test[:nb_points]\n",
    "            y_test = y_test[:nb_points]\n",
    "        else:\n",
    "            try:\n",
    "                logger.info(\n",
    "                    'Loaded training data from ' + str(self.file_name))\n",
    "                data_train = np.load(self.file_name)\n",
    "                with open(\"MNIST-pkl/mnist-keras-train.pkl\", 'rb') as f:\n",
    "                    (x_train, y_train)= pickle.load(f)\n",
    "\n",
    "                with open(\"MNIST-pkl/mnist-keras-train.pkl\", 'rb') as f:\n",
    "                    (x_test, y_test)= pickle.load(f)\n",
    "                \n",
    "            except Exception:\n",
    "                raise IOError('Unable to load training data from path '\n",
    "                              'provided in config file: ' +\n",
    "                              self.file_name)\n",
    "\n",
    "        # Add a channels dimension\n",
    "        import tensorflow as tf\n",
    "        x_train = x_train[..., tf.newaxis]\n",
    "        x_test = x_test[..., tf.newaxis]\n",
    "\n",
    "        print('x_train shape:', x_train.shape)\n",
    "        print(x_train.shape[0], 'train samples')\n",
    "        print(x_test.shape[0], 'test samples')\n",
    "\n",
    "        return (x_train, y_train), (x_test, y_test)"
   ]
  },
  {
   "cell_type": "markdown",
   "metadata": {},
   "source": [
    "### データハンドラが存在することを確認する"
   ]
  },
  {
   "cell_type": "code",
   "execution_count": null,
   "metadata": {},
   "outputs": [],
   "source": [
    "!ls -lh"
   ]
  },
  {
   "cell_type": "markdown",
   "metadata": {},
   "source": [
    "<a id = \"config\"></a>\n",
    "## 4. パーティーを構成する\n",
    "\n",
    "各パーティは、アグリゲータに呼び出すために、パーティ設定ファイルを実行する必要があります。以下にパーティ構成の例を示します。\n",
    "\n",
    "このノートブックの前のセクションでトレーニングID、RTS ID、データハンドラを既に定義しており、ローカルトレーニングとプロトコルハンドラは全てSDKで定義されているので、データセットファイルの情報は`[\"data\"][\"info\"]`の下で定義するだけでよいでしょう。\n",
    "\n",
    "このチュートリアルでは、前のセクションで紹介した examplar MNIST データセットを読み込んでいるので、データパスはすでに定義されています。"
   ]
  },
  {
   "cell_type": "code",
   "execution_count": null,
   "metadata": {},
   "outputs": [],
   "source": [
    "from pathlib import Path\n",
    "working_dir = !pwd\n",
    "pwd = working_dir[0]\n",
    "\n",
    "party_config = {\n",
    "  \"aggregator\": {\n",
    "    \"ip\": WML_SERVICES_HOST + \"/ml/v4/trainings/\" + TRAINING_ID\n",
    "  },\n",
    "  \"connection\": {\n",
    "    \"info\": {\n",
    "      \"id\": RTS_ID,\n",
    "    }\n",
    "  },\n",
    "  \"data\": {\n",
    "    \"info\": {\n",
    "      \"train_file\": \"/mnist-keras-train.pkl\",\n",
    "      \"test_file\": \"/mnist-keras-test.pkl\"\n",
    "    },\n",
    "    \"name\": \"MnistTFDataHandler\",\n",
    "    \"path\": pwd + \"/mnist_keras_data_handler.py\"\n",
    "  },\n",
    "  \"local_training\": {\n",
    "    \"name\": \"LocalTrainingHandler\",\n",
    "    \"path\": \"ibmfl.party.training.local_training_handler\"\n",
    "  },\n",
    "  \"protocol_handler\": {\n",
    "    \"name\": \"PartyProtocolHandler\",\n",
    "    \"path\": \"ibmfl.party.party_protocol_handler\"\n",
    "  }\n",
    "}"
   ]
  },
  {
   "cell_type": "code",
   "execution_count": null,
   "metadata": {},
   "outputs": [],
   "source": [
    "print(party_config)"
   ]
  },
  {
   "cell_type": "markdown",
   "metadata": {},
   "source": [
    "<a id = \"train\"></a>\n",
    "## 5. フェデレーテッド・ラーニングに接続してトレーニングする\n",
    "\n",
    "ここでようやくアグリゲータに接続してトレーニングを始めることができます。"
   ]
  },
  {
   "cell_type": "markdown",
   "metadata": {},
   "source": [
    "#### クラウド認証トークンの取得"
   ]
  },
  {
   "cell_type": "code",
   "execution_count": null,
   "metadata": {},
   "outputs": [],
   "source": [
    "from ibm_watson_machine_learning import APIClient\n",
    "\n",
    "\n",
    "wml_credentials = {\n",
    "    \"apikey\": IAM_APIKEY,\n",
    "    \"url\": \"https://\" + WML_SERVICES_HOST\n",
    "}\n",
    "\n",
    "wml_client = APIClient(wml_credentials)\n",
    "IAMTOKEN = \"Bearer \" + wml_client.wml_token\n",
    "print(IAMTOKEN)"
   ]
  },
  {
   "cell_type": "markdown",
   "metadata": {},
   "source": [
    "### 5.1 アグリゲータへの接続を確立する"
   ]
  },
  {
   "cell_type": "code",
   "execution_count": null,
   "metadata": {},
   "outputs": [],
   "source": [
    "p = Party( config_dict = party_config, token = IAMTOKEN )"
   ]
  },
  {
   "cell_type": "markdown",
   "metadata": {},
   "source": [
    "``Received Heartbeat from Aggregator``というメッセージが表示されたら、パーティーの開始準備が整いました。"
   ]
  },
  {
   "cell_type": "markdown",
   "metadata": {},
   "source": [
    "### 5.2 トレーニングの開始"
   ]
  },
  {
   "cell_type": "code",
   "execution_count": null,
   "metadata": {},
   "outputs": [],
   "source": [
    "p.start()"
   ]
  },
  {
   "cell_type": "markdown",
   "metadata": {},
   "source": [
    "<a id = \"summary\"></a> \n",
    "## まとめ\n",
    "\n",
    "おめでとう！あなたは以下のことを学びました。\n",
    "\n",
    "1. Fedareted Learningの実験を開始する\n",
    "2. テンプレートモデルを読み込む\n",
    "3. RTSを作成し、実験ジョブを起動する\n",
    "4. 学習用のデータセットをロードする\n",
    "5. データハンドラの定義\n",
    "6. パーティーを設定する\n",
    "7. アグリゲータに接続する\n",
    "8. Federated Learningモデルをトレーニングする\n",
    "\n",
    "### もっと詳しく知りたい方はこちら\n",
    "\n",
    "- Federated Learningの設定、用語、UIからのFederated Learningの実行についての詳細は、<a href = \"https://dataplatform.cloud.ibm.com/docs/content/wsj/analyze-data/fed-lea.html?audience=wdp\" target=\"_blank\" rel=\"noopener no referrer\">Federated Learning documentation</a> for Cloudを参照してください。\n",
    "- Kerasのモデルテンプレートの詳細については、<a href = \"https://www.tensorflow.org/tutorials/quickstart/advanced\" target=\"_blank\" rel=\"noopener no referrer\">こちら</a>を参照してください。\n"
   ]
  }
 ],
 "metadata": {
  "kernelspec": {
   "display_name": "Python 3",
   "language": "python",
   "name": "python3"
  },
  "language_info": {
   "codemirror_mode": {
    "name": "ipython",
    "version": 3
   },
   "file_extension": ".py",
   "mimetype": "text/x-python",
   "name": "python",
   "nbconvert_exporter": "python",
   "pygments_lexer": "ipython3",
   "version": "3.7.6"
  }
 },
 "nbformat": 4,
 "nbformat_minor": 1
}
