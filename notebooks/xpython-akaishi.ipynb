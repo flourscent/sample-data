{
 "cells": [
  {
   "cell_type": "markdown",
   "metadata": {
    "colab_type": "text",
    "id": "D4Fh2MIgzP_l"
   },
   "source": [
    "# Pythonで理解するディープラーニング入門\n",
    "xPython講演サンプルnotebook"
   ]
  },
  {
   "cell_type": "code",
   "execution_count": 1,
   "metadata": {
    "colab": {},
    "colab_type": "code",
    "id": "kzEKKjsKz2qo"
   },
   "outputs": [],
   "source": [
    "# 必要ライブラリの宣言\n",
    "%matplotlib inline\n",
    "import numpy as np\n",
    "import matplotlib.pyplot as plt"
   ]
  },
  {
   "cell_type": "code",
   "execution_count": 2,
   "metadata": {
    "colab": {
     "base_uri": "https://localhost:8080/",
     "height": 102
    },
    "colab_type": "code",
    "id": "ijasSU2NzBWZ",
    "outputId": "d7dcdf50-3287-44c2-a5ee-38cee1363450"
   },
   "outputs": [
    {
     "name": "stdout",
     "output_type": "stream",
     "text": [
      "[[166.   58.7]\n",
      " [176.   75.7]\n",
      " [171.   62.1]\n",
      " [173.   70.4]\n",
      " [169.   60.1]]\n"
     ]
    }
   ],
   "source": [
    "# 学習データの設定 (numpy二次元配列)\n",
    "data = np.array([[166,58.7], [176,75.7], \n",
    "  [171,62.1], [173,70.4], [169,60.1]])\n",
    "\n",
    "# データの確認\n",
    "print(data)"
   ]
  },
  {
   "cell_type": "code",
   "execution_count": 3,
   "metadata": {
    "colab": {
     "base_uri": "https://localhost:8080/",
     "height": 269
    },
    "colab_type": "code",
    "id": "GRK7SMWqzJfP",
    "outputId": "6abc42a7-3412-4a36-8c21-e2b9d9c68af9"
   },
   "outputs": [
    {
     "data": {
      "image/png": "[encoded data removed]",
      "text/plain": [
       "<Figure size 432x288 with 1 Axes>"
      ]
     },
     "metadata": {
      "needs_background": "light"
     },
     "output_type": "display_data"
    }
   ],
   "source": [
    "# 散布図で表示 (図)\n",
    "plt.scatter(data[:,0], data[:,1], s=40, c='b')\n",
    "plt.grid()\n",
    "plt.show()"
   ]
  },
  {
   "cell_type": "code",
   "execution_count": 4,
   "metadata": {
    "colab": {
     "base_uri": "https://localhost:8080/",
     "height": 34
    },
    "colab_type": "code",
    "id": "os0_j874zRB8",
    "outputId": "3ce12d07-47ae-4dc4-dc84-063c0946ddfc"
   },
   "outputs": [
    {
     "name": "stdout",
     "output_type": "stream",
     "text": [
      "[171.   65.4]\n"
     ]
    }
   ],
   "source": [
    "# 身長、体重の平均値の計算\n",
    "mean = data.mean(axis=0)\n",
    "print(mean)"
   ]
  },
  {
   "cell_type": "code",
   "execution_count": 5,
   "metadata": {
    "colab": {
     "base_uri": "https://localhost:8080/",
     "height": 34
    },
    "colab_type": "code",
    "id": "viUcmEgC4Ham",
    "outputId": "9f5b4d90-b838-46c1-e804-7e9b3296fe1c"
   },
   "outputs": [
    {
     "name": "stdout",
     "output_type": "stream",
     "text": [
      "[112.35 125.85 116.55 121.7  114.55]\n"
     ]
    }
   ],
   "source": [
    "mean2 = data.mean(axis=1)\n",
    "print(mean2)"
   ]
  },
  {
   "cell_type": "code",
   "execution_count": 6,
   "metadata": {
    "colab": {
     "base_uri": "https://localhost:8080/",
     "height": 102
    },
    "colab_type": "code",
    "id": "Z9DX99oo7IMY",
    "outputId": "14b5b539-45dc-4a37-e0a1-ae008d7ce7b0"
   },
   "outputs": [
    {
     "name": "stdout",
     "output_type": "stream",
     "text": [
      "[[-5.  -6.7]\n",
      " [ 5.  10.3]\n",
      " [ 0.  -3.3]\n",
      " [ 2.   5. ]\n",
      " [-2.  -5.3]]\n"
     ]
    }
   ],
   "source": [
    "# 元データの平行移動\n",
    "data1 = data - mean\n",
    "print(data1)"
   ]
  },
  {
   "cell_type": "code",
   "execution_count": 7,
   "metadata": {
    "colab": {
     "base_uri": "https://localhost:8080/",
     "height": 269
    },
    "colab_type": "code",
    "id": "db5fwgUo7LDu",
    "outputId": "48c7f47b-6d6e-4c22-ef9c-a137acb8a883"
   },
   "outputs": [
    {
     "data": {
      "image/png": "[encoded data removed]",
      "text/plain": [
       "<Figure size 432x288 with 1 Axes>"
      ]
     },
     "metadata": {
      "needs_background": "light"
     },
     "output_type": "display_data"
    }
   ],
   "source": [
    "# 平行移動後の散布図表示 (図1-8)\n",
    "plt.scatter(data1[:,0], data1[:,1], s=40, c='b')\n",
    "plt.plot([-6,6],[0,0], lw=2, c='k')\n",
    "plt.plot([0,0],[-8,12],lw=2,c='k')\n",
    "plt.xlim(-6,6)\n",
    "plt.ylim(-8,12)\n",
    "plt.grid()\n",
    "plt.show()"
   ]
  },
  {
   "cell_type": "code",
   "execution_count": 8,
   "metadata": {
    "colab": {
     "base_uri": "https://localhost:8080/",
     "height": 119
    },
    "colab_type": "code",
    "id": "bhPdJbKk78sJ",
    "outputId": "3f69ace8-708b-4395-e914-4c720f253c84"
   },
   "outputs": [
    {
     "name": "stdout",
     "output_type": "stream",
     "text": [
      "[[-5.]\n",
      " [ 5.]\n",
      " [ 0.]\n",
      " [ 2.]\n",
      " [-2.]]\n",
      "(5, 1)\n"
     ]
    }
   ],
   "source": [
    "# 入力データの抽出\n",
    "# ダミー変数追加のため、\n",
    "# 1次元でなく5x1の2次元データにします。\n",
    "x1 = data1[:,0:1]\n",
    "print(x1)\n",
    "print(x1.shape)"
   ]
  },
  {
   "cell_type": "code",
   "execution_count": 9,
   "metadata": {
    "colab": {
     "base_uri": "https://localhost:8080/",
     "height": 136
    },
    "colab_type": "code",
    "id": "0CnwLwFzIg8z",
    "outputId": "d668998e-b7bb-444f-aa4a-0d688476e925"
   },
   "outputs": [
    {
     "name": "stdout",
     "output_type": "stream",
     "text": [
      "ダミー変数追加後\n",
      "[[ 1. -5.]\n",
      " [ 1.  5.]\n",
      " [ 1.  0.]\n",
      " [ 1.  2.]\n",
      " [ 1. -2.]]\n",
      "(5, 2)\n"
     ]
    }
   ],
   "source": [
    "# ダミー変数を追加\n",
    "x = np.insert(x1, 0, 1.0, axis=1)\n",
    "print('ダミー変数追加後')\n",
    "print(x)\n",
    "print(x.shape)"
   ]
  },
  {
   "cell_type": "code",
   "execution_count": 10,
   "metadata": {
    "colab": {
     "base_uri": "https://localhost:8080/",
     "height": 34
    },
    "colab_type": "code",
    "id": "f8qqF1fRItvK",
    "outputId": "53ab3654-ae49-41b4-e96b-ddfe9c6b60ef"
   },
   "outputs": [
    {
     "name": "stdout",
     "output_type": "stream",
     "text": [
      "[-6.7 10.3 -3.3  5.  -5.3]\n"
     ]
    }
   ],
   "source": [
    "# 正解データ\n",
    "yt = data1[:,1]\n",
    "print(yt)"
   ]
  },
  {
   "cell_type": "code",
   "execution_count": 11,
   "metadata": {
    "colab": {},
    "colab_type": "code",
    "id": "xHEVzqUEMGXw"
   },
   "outputs": [],
   "source": [
    "# 予測関数 (1, x)の値から予測値ypを計算する\n",
    "def pred(x, w):\n",
    "    return(x @ w)"
   ]
  },
  {
   "cell_type": "code",
   "execution_count": 12,
   "metadata": {
    "colab": {
     "base_uri": "https://localhost:8080/",
     "height": 34
    },
    "colab_type": "code",
    "id": "9U3f3OUaNIgN",
    "outputId": "1abf77f6-c937-4e4c-811b-ae51ab73e877"
   },
   "outputs": [
    {
     "name": "stdout",
     "output_type": "stream",
     "text": [
      "[ 7. -3.  2.  0.  4.]\n"
     ]
    }
   ],
   "source": [
    "# 重みベクトルの初期値 (勝手な値を設定)\n",
    "w = np.array([2, -1])\n",
    "yp = pred(x, w)\n",
    "print(yp)"
   ]
  },
  {
   "cell_type": "code",
   "execution_count": 13,
   "metadata": {
    "colab": {
     "base_uri": "https://localhost:8080/",
     "height": 34
    },
    "colab_type": "code",
    "id": "--LEMemmNUaF",
    "outputId": "85bc0636-40a4-41f6-994d-24b3df3bf4a2"
   },
   "outputs": [
    {
     "name": "stdout",
     "output_type": "stream",
     "text": [
      "50.41600000000001\n"
     ]
    }
   ],
   "source": [
    "# 損失関数の計算\n",
    "yd = yp - yt\n",
    "L = np.mean(yd ** 2) / 2\n",
    "print(L)"
   ]
  },
  {
   "cell_type": "code",
   "execution_count": 14,
   "metadata": {
    "colab": {},
    "colab_type": "code",
    "id": "2TTjapr5WYl1"
   },
   "outputs": [],
   "source": [
    "# 初期化処理\n",
    "\n",
    "# データ系列総数 (=5)\n",
    "M  = x.shape[0]\n",
    "\n",
    "# 入力データ次元数(ダミー変数を含む) (=2)\n",
    "D = x.shape[1]\n",
    "\n",
    "# 繰り返し回数\n",
    "iters = 200\n",
    "\n",
    "# 学習率\n",
    "alpha = 0.01\n",
    "\n",
    "# 重みベクトルの初期値 (勝手な値を設定)\n",
    "w = np.array([2, -1])\n",
    "\n",
    "# 評価結果記録用 (損失関数値, w0, w1を記録)\n",
    "history = np.zeros((0,4))"
   ]
  },
  {
   "cell_type": "code",
   "execution_count": 15,
   "metadata": {
    "colab": {
     "base_uri": "https://localhost:8080/",
     "height": 1000
    },
    "colab_type": "code",
    "id": "rdQzAOeokft5",
    "outputId": "013f386b-80a0-4c5c-acfe-ccbca5ec3251"
   },
   "outputs": [
    {
     "name": "stdout",
     "output_type": "stream",
     "text": [
      "iter = 0  L = 50.416000 w0 = 1.980000 w1 = -0.672800\n",
      "iter = 1  L = 40.291163 w0 = 1.960200 w1 = -0.383555\n",
      "iter = 2  L = 32.371142 w0 = 1.940598 w1 = -0.127863\n",
      "iter = 3  L = 26.174246 w0 = 1.921192 w1 = 0.098169\n",
      "iter = 4  L = 21.324050 w0 = 1.901980 w1 = 0.297982\n",
      "iter = 5  L = 17.526391 w0 = 1.882960 w1 = 0.474616\n",
      "iter = 6  L = 14.551393 w0 = 1.864131 w1 = 0.630760\n",
      "iter = 7  L = 12.219413 w0 = 1.845489 w1 = 0.768792\n",
      "iter = 8  L = 10.390065 w0 = 1.827034 w1 = 0.890812\n",
      "iter = 9  L = 8.953642 w0 = 1.808764 w1 = 0.998678\n",
      "iter = 10  L = 7.824409 w0 = 1.790677 w1 = 1.094031\n",
      "iter = 11  L = 6.935365 w0 = 1.772770 w1 = 1.178324\n",
      "iter = 12  L = 6.234151 w0 = 1.755042 w1 = 1.252838\n",
      "iter = 13  L = 5.679844 w0 = 1.737492 w1 = 1.318709\n",
      "iter = 14  L = 5.240467 w0 = 1.720117 w1 = 1.376939\n",
      "iter = 15  L = 4.891024 w0 = 1.702916 w1 = 1.428414\n",
      "iter = 16  L = 4.611984 w0 = 1.685886 w1 = 1.473918\n",
      "iter = 17  L = 4.388078 w0 = 1.669028 w1 = 1.514143\n",
      "iter = 18  L = 4.207373 w0 = 1.652337 w1 = 1.549703\n",
      "iter = 19  L = 4.060543 w0 = 1.635814 w1 = 1.581137\n",
      "iter = 20  L = 3.940296 w0 = 1.619456 w1 = 1.608925\n",
      "iter = 21  L = 3.840932 w0 = 1.603261 w1 = 1.633490\n",
      "iter = 22  L = 3.757994 w0 = 1.587229 w1 = 1.655205\n",
      "iter = 23  L = 3.687998 w0 = 1.571356 w1 = 1.674401\n",
      "iter = 24  L = 3.628219 w0 = 1.555643 w1 = 1.691371\n",
      "iter = 25  L = 3.576525 w0 = 1.540086 w1 = 1.706372\n",
      "iter = 26  L = 3.531248 w0 = 1.524685 w1 = 1.719633\n",
      "iter = 27  L = 3.491083 w0 = 1.509439 w1 = 1.731355\n",
      "iter = 28  L = 3.455007 w0 = 1.494344 w1 = 1.741718\n",
      "iter = 29  L = 3.422221 w0 = 1.479401 w1 = 1.750879\n",
      "iter = 30  L = 3.392097 w0 = 1.464607 w1 = 1.758977\n",
      "iter = 31  L = 3.364143 w0 = 1.449961 w1 = 1.766136\n",
      "iter = 32  L = 3.337972 w0 = 1.435461 w1 = 1.772464\n",
      "iter = 33  L = 3.313281 w0 = 1.421106 w1 = 1.778058\n",
      "iter = 34  L = 3.289830 w0 = 1.406895 w1 = 1.783003\n",
      "iter = 35  L = 3.267432 w0 = 1.392826 w1 = 1.787375\n",
      "iter = 36  L = 3.245937 w0 = 1.378898 w1 = 1.791239\n",
      "iter = 37  L = 3.225228 w0 = 1.365109 w1 = 1.794656\n",
      "iter = 38  L = 3.205210 w0 = 1.351458 w1 = 1.797676\n",
      "iter = 39  L = 3.185809 w0 = 1.337944 w1 = 1.800345\n",
      "iter = 40  L = 3.166964 w0 = 1.324564 w1 = 1.802705\n",
      "iter = 41  L = 3.148628 w0 = 1.311318 w1 = 1.804791\n",
      "iter = 42  L = 3.130761 w0 = 1.298205 w1 = 1.806636\n",
      "iter = 43  L = 3.113331 w0 = 1.285223 w1 = 1.808266\n",
      "iter = 44  L = 3.096312 w0 = 1.272371 w1 = 1.809707\n",
      "iter = 45  L = 3.079681 w0 = 1.259647 w1 = 1.810981\n",
      "iter = 46  L = 3.063420 w0 = 1.247051 w1 = 1.812107\n",
      "iter = 47  L = 3.047512 w0 = 1.234580 w1 = 1.813103\n",
      "iter = 48  L = 3.031945 w0 = 1.222234 w1 = 1.813983\n",
      "iter = 49  L = 3.016707 w0 = 1.210012 w1 = 1.814761\n",
      "iter = 50  L = 3.001786 w0 = 1.197912 w1 = 1.815449\n",
      "iter = 51  L = 2.987173 w0 = 1.185933 w1 = 1.816057\n",
      "iter = 52  L = 2.972860 w0 = 1.174074 w1 = 1.816594\n",
      "iter = 53  L = 2.958839 w0 = 1.162333 w1 = 1.817069\n",
      "iter = 54  L = 2.945102 w0 = 1.150709 w1 = 1.817489\n",
      "iter = 55  L = 2.931643 w0 = 1.139202 w1 = 1.817860\n",
      "iter = 56  L = 2.918455 w0 = 1.127810 w1 = 1.818189\n",
      "iter = 57  L = 2.905532 w0 = 1.116532 w1 = 1.818479\n",
      "iter = 58  L = 2.892868 w0 = 1.105367 w1 = 1.818735\n",
      "iter = 59  L = 2.880457 w0 = 1.094313 w1 = 1.818962\n",
      "iter = 60  L = 2.868295 w0 = 1.083370 w1 = 1.819162\n",
      "iter = 61  L = 2.856376 w0 = 1.072536 w1 = 1.819339\n",
      "iter = 62  L = 2.844695 w0 = 1.061811 w1 = 1.819496\n",
      "iter = 63  L = 2.833247 w0 = 1.051193 w1 = 1.819635\n",
      "iter = 64  L = 2.822027 w0 = 1.040681 w1 = 1.819757\n",
      "iter = 65  L = 2.811031 w0 = 1.030274 w1 = 1.819865\n",
      "iter = 66  L = 2.800254 w0 = 1.019971 w1 = 1.819961\n",
      "iter = 67  L = 2.789691 w0 = 1.009772 w1 = 1.820045\n",
      "iter = 68  L = 2.779339 w0 = 0.999674 w1 = 1.820120\n",
      "iter = 69  L = 2.769193 w0 = 0.989677 w1 = 1.820186\n",
      "iter = 70  L = 2.759249 w0 = 0.979781 w1 = 1.820245\n",
      "iter = 71  L = 2.749503 w0 = 0.969983 w1 = 1.820296\n",
      "iter = 72  L = 2.739951 w0 = 0.960283 w1 = 1.820342\n",
      "iter = 73  L = 2.730590 w0 = 0.950680 w1 = 1.820382\n",
      "iter = 74  L = 2.721414 w0 = 0.941173 w1 = 1.820418\n",
      "iter = 75  L = 2.712421 w0 = 0.931762 w1 = 1.820449\n",
      "iter = 76  L = 2.703607 w0 = 0.922444 w1 = 1.820477\n",
      "iter = 77  L = 2.694969 w0 = 0.913219 w1 = 1.820502\n",
      "iter = 78  L = 2.686502 w0 = 0.904087 w1 = 1.820524\n",
      "iter = 79  L = 2.678204 w0 = 0.895046 w1 = 1.820543\n",
      "iter = 80  L = 2.670071 w0 = 0.886096 w1 = 1.820560\n",
      "iter = 81  L = 2.662100 w0 = 0.877235 w1 = 1.820575\n",
      "iter = 82  L = 2.654288 w0 = 0.868463 w1 = 1.820588\n",
      "iter = 83  L = 2.646631 w0 = 0.859778 w1 = 1.820600\n",
      "iter = 84  L = 2.639126 w0 = 0.851180 w1 = 1.820610\n",
      "iter = 85  L = 2.631771 w0 = 0.842668 w1 = 1.820620\n",
      "iter = 86  L = 2.624562 w0 = 0.834242 w1 = 1.820628\n",
      "iter = 87  L = 2.617497 w0 = 0.825899 w1 = 1.820635\n",
      "iter = 88  L = 2.610572 w0 = 0.817640 w1 = 1.820641\n",
      "iter = 89  L = 2.603785 w0 = 0.809464 w1 = 1.820647\n",
      "iter = 90  L = 2.597133 w0 = 0.801369 w1 = 1.820652\n",
      "iter = 91  L = 2.590614 w0 = 0.793356 w1 = 1.820656\n",
      "iter = 92  L = 2.584224 w0 = 0.785422 w1 = 1.820660\n",
      "iter = 93  L = 2.577961 w0 = 0.777568 w1 = 1.820664\n",
      "iter = 94  L = 2.571823 w0 = 0.769792 w1 = 1.820667\n",
      "iter = 95  L = 2.565807 w0 = 0.762094 w1 = 1.820669\n",
      "iter = 96  L = 2.559911 w0 = 0.754473 w1 = 1.820672\n",
      "iter = 97  L = 2.554132 w0 = 0.746929 w1 = 1.820674\n",
      "iter = 98  L = 2.548468 w0 = 0.739459 w1 = 1.820676\n",
      "iter = 99  L = 2.542917 w0 = 0.732065 w1 = 1.820677\n",
      "iter = 100  L = 2.537477 w0 = 0.724744 w1 = 1.820679\n",
      "iter = 101  L = 2.532144 w0 = 0.717497 w1 = 1.820680\n",
      "iter = 102  L = 2.526918 w0 = 0.710322 w1 = 1.820681\n",
      "iter = 103  L = 2.521796 w0 = 0.703218 w1 = 1.820682\n",
      "iter = 104  L = 2.516775 w0 = 0.696186 w1 = 1.820683\n",
      "iter = 105  L = 2.511855 w0 = 0.689224 w1 = 1.820684\n",
      "iter = 106  L = 2.507032 w0 = 0.682332 w1 = 1.820684\n",
      "iter = 107  L = 2.502306 w0 = 0.675509 w1 = 1.820685\n",
      "iter = 108  L = 2.497673 w0 = 0.668754 w1 = 1.820686\n",
      "iter = 109  L = 2.493133 w0 = 0.662066 w1 = 1.820686\n",
      "iter = 110  L = 2.488683 w0 = 0.655446 w1 = 1.820686\n",
      "iter = 111  L = 2.484322 w0 = 0.648891 w1 = 1.820687\n",
      "iter = 112  L = 2.480047 w0 = 0.642402 w1 = 1.820687\n",
      "iter = 113  L = 2.475858 w0 = 0.635978 w1 = 1.820687\n",
      "iter = 114  L = 2.471751 w0 = 0.629618 w1 = 1.820688\n",
      "iter = 115  L = 2.467727 w0 = 0.623322 w1 = 1.820688\n",
      "iter = 116  L = 2.463783 w0 = 0.617089 w1 = 1.820688\n",
      "iter = 117  L = 2.459917 w0 = 0.610918 w1 = 1.820688\n",
      "iter = 118  L = 2.456128 w0 = 0.604809 w1 = 1.820688\n",
      "iter = 119  L = 2.452414 w0 = 0.598761 w1 = 1.820689\n",
      "iter = 120  L = 2.448774 w0 = 0.592773 w1 = 1.820689\n",
      "iter = 121  L = 2.445207 w0 = 0.586845 w1 = 1.820689\n",
      "iter = 122  L = 2.441711 w0 = 0.580977 w1 = 1.820689\n",
      "iter = 123  L = 2.438284 w0 = 0.575167 w1 = 1.820689\n",
      "iter = 124  L = 2.434926 w0 = 0.569416 w1 = 1.820689\n",
      "iter = 125  L = 2.431634 w0 = 0.563721 w1 = 1.820689\n",
      "iter = 126  L = 2.428408 w0 = 0.558084 w1 = 1.820689\n",
      "iter = 127  L = 2.425246 w0 = 0.552503 w1 = 1.820689\n",
      "iter = 128  L = 2.422147 w0 = 0.546978 w1 = 1.820689\n",
      "iter = 129  L = 2.419110 w0 = 0.541509 w1 = 1.820689\n",
      "iter = 130  L = 2.416133 w0 = 0.536093 w1 = 1.820689\n",
      "iter = 131  L = 2.413215 w0 = 0.530732 w1 = 1.820689\n",
      "iter = 132  L = 2.410356 w0 = 0.525425 w1 = 1.820689\n",
      "iter = 133  L = 2.407553 w0 = 0.520171 w1 = 1.820689\n",
      "iter = 134  L = 2.404806 w0 = 0.514969 w1 = 1.820689\n",
      "iter = 135  L = 2.402114 w0 = 0.509820 w1 = 1.820690\n",
      "iter = 136  L = 2.399475 w0 = 0.504721 w1 = 1.820690\n",
      "iter = 137  L = 2.396889 w0 = 0.499674 w1 = 1.820690\n",
      "iter = 138  L = 2.394354 w0 = 0.494677 w1 = 1.820690\n",
      "iter = 139  L = 2.391870 w0 = 0.489731 w1 = 1.820690\n",
      "iter = 140  L = 2.389435 w0 = 0.484833 w1 = 1.820690\n",
      "iter = 141  L = 2.387049 w0 = 0.479985 w1 = 1.820690\n",
      "iter = 142  L = 2.384710 w0 = 0.475185 w1 = 1.820690\n",
      "iter = 143  L = 2.382418 w0 = 0.470433 w1 = 1.820690\n",
      "iter = 144  L = 2.380171 w0 = 0.465729 w1 = 1.820690\n",
      "iter = 145  L = 2.377969 w0 = 0.461072 w1 = 1.820690\n",
      "iter = 146  L = 2.375811 w0 = 0.456461 w1 = 1.820690\n",
      "iter = 147  L = 2.373696 w0 = 0.451896 w1 = 1.820690\n",
      "iter = 148  L = 2.371622 w0 = 0.447377 w1 = 1.820690\n",
      "iter = 149  L = 2.369590 w0 = 0.442904 w1 = 1.820690\n",
      "iter = 150  L = 2.367599 w0 = 0.438475 w1 = 1.820690\n",
      "iter = 151  L = 2.365647 w0 = 0.434090 w1 = 1.820690\n",
      "iter = 152  L = 2.363734 w0 = 0.429749 w1 = 1.820690\n",
      "iter = 153  L = 2.361859 w0 = 0.425451 w1 = 1.820690\n",
      "iter = 154  L = 2.360022 w0 = 0.421197 w1 = 1.820690\n",
      "iter = 155  L = 2.358221 w0 = 0.416985 w1 = 1.820690\n",
      "iter = 156  L = 2.356455 w0 = 0.412815 w1 = 1.820690\n",
      "iter = 157  L = 2.354725 w0 = 0.408687 w1 = 1.820690\n",
      "iter = 158  L = 2.353030 w0 = 0.404600 w1 = 1.820690\n",
      "iter = 159  L = 2.351368 w0 = 0.400554 w1 = 1.820690\n",
      "iter = 160  L = 2.349739 w0 = 0.396549 w1 = 1.820690\n",
      "iter = 161  L = 2.348143 w0 = 0.392583 w1 = 1.820690\n",
      "iter = 162  L = 2.346578 w0 = 0.388657 w1 = 1.820690\n",
      "iter = 163  L = 2.345044 w0 = 0.384771 w1 = 1.820690\n",
      "iter = 164  L = 2.343541 w0 = 0.380923 w1 = 1.820690\n",
      "iter = 165  L = 2.342068 w0 = 0.377114 w1 = 1.820690\n",
      "iter = 166  L = 2.340625 w0 = 0.373343 w1 = 1.820690\n",
      "iter = 167  L = 2.339210 w0 = 0.369609 w1 = 1.820690\n",
      "iter = 168  L = 2.337823 w0 = 0.365913 w1 = 1.820690\n",
      "iter = 169  L = 2.336463 w0 = 0.362254 w1 = 1.820690\n",
      "iter = 170  L = 2.335131 w0 = 0.358631 w1 = 1.820690\n",
      "iter = 171  L = 2.333825 w0 = 0.355045 w1 = 1.820690\n",
      "iter = 172  L = 2.332546 w0 = 0.351495 w1 = 1.820690\n",
      "iter = 173  L = 2.331291 w0 = 0.347980 w1 = 1.820690\n",
      "iter = 174  L = 2.330062 w0 = 0.344500 w1 = 1.820690\n",
      "iter = 175  L = 2.328857 w0 = 0.341055 w1 = 1.820690\n",
      "iter = 176  L = 2.327676 w0 = 0.337644 w1 = 1.820690\n",
      "iter = 177  L = 2.326519 w0 = 0.334268 w1 = 1.820690\n",
      "iter = 178  L = 2.325385 w0 = 0.330925 w1 = 1.820690\n",
      "iter = 179  L = 2.324273 w0 = 0.327616 w1 = 1.820690\n",
      "iter = 180  L = 2.323183 w0 = 0.324340 w1 = 1.820690\n",
      "iter = 181  L = 2.322115 w0 = 0.321096 w1 = 1.820690\n",
      "iter = 182  L = 2.321069 w0 = 0.317885 w1 = 1.820690\n",
      "iter = 183  L = 2.320043 w0 = 0.314707 w1 = 1.820690\n",
      "iter = 184  L = 2.319037 w0 = 0.311559 w1 = 1.820690\n",
      "iter = 185  L = 2.318052 w0 = 0.308444 w1 = 1.820690\n",
      "iter = 186  L = 2.317086 w0 = 0.305359 w1 = 1.820690\n",
      "iter = 187  L = 2.316139 w0 = 0.302306 w1 = 1.820690\n",
      "iter = 188  L = 2.315212 w0 = 0.299283 w1 = 1.820690\n",
      "iter = 189  L = 2.314302 w0 = 0.296290 w1 = 1.820690\n",
      "iter = 190  L = 2.313411 w0 = 0.293327 w1 = 1.820690\n",
      "iter = 191  L = 2.312538 w0 = 0.290394 w1 = 1.820690\n",
      "iter = 192  L = 2.311682 w0 = 0.287490 w1 = 1.820690\n",
      "iter = 193  L = 2.310842 w0 = 0.284615 w1 = 1.820690\n",
      "iter = 194  L = 2.310020 w0 = 0.281769 w1 = 1.820690\n",
      "iter = 195  L = 2.309214 w0 = 0.278951 w1 = 1.820690\n"
     ]
    },
    {
     "name": "stdout",
     "output_type": "stream",
     "text": [
      "iter = 196  L = 2.308424 w0 = 0.276162 w1 = 1.820690\n",
      "iter = 197  L = 2.307650 w0 = 0.273400 w1 = 1.820690\n",
      "iter = 198  L = 2.306891 w0 = 0.270666 w1 = 1.820690\n",
      "iter = 199  L = 2.306147 w0 = 0.267959 w1 = 1.820690\n"
     ]
    }
   ],
   "source": [
    "# 繰り返しループ\n",
    "for k in range(iters):\n",
    "    \n",
    "    # 予測値の計算\n",
    "    yp = pred(x, w)\n",
    "    \n",
    "    # 誤差の計算\n",
    "    yd = yp - yt\n",
    "    \n",
    "    # 勾配降下法の実装\n",
    "    w = w - alpha * (x.T @ yd) / M\n",
    "    \n",
    "    # 学習曲線描画用データの計算、保存\n",
    "\n",
    "    # 重みベクトル値の取得\n",
    "    w0 = float(w[0])\n",
    "    w1 = float(w[1])\n",
    "\n",
    "    # 損失関数値の計算\n",
    "    L = np.mean(yd ** 2) / 2\n",
    "    \n",
    "    # 計算結果の記録\n",
    "    line = np.array([k, L, w0, w1])\n",
    "    history = np.vstack((history, line))\n",
    "    \n",
    "    # 画面表示\n",
    "    print( \"iter = %d  L = %f w0 = %f w1 = %f\" \n",
    "          % (k, L, w0, w1))"
   ]
  },
  {
   "cell_type": "code",
   "execution_count": 16,
   "metadata": {
    "colab": {
     "base_uri": "https://localhost:8080/",
     "height": 85
    },
    "colab_type": "code",
    "id": "rVF7XDAXksTo",
    "outputId": "c7691053-1b37-43d0-acbc-b0ac45eab50d"
   },
   "outputs": [
    {
     "name": "stdout",
     "output_type": "stream",
     "text": [
      "最終的な予測値\n",
      "[-8.835  9.371  0.268  3.909 -3.373]\n",
      "正解値\n",
      "[-6.7 10.3 -3.3  5.  -5.3]\n"
     ]
    }
   ],
   "source": [
    "np.set_printoptions(precision=3)\n",
    "yp = pred(x, w)\n",
    "print('最終的な予測値')\n",
    "print(yp)\n",
    "print('正解値')\n",
    "print(yt)"
   ]
  },
  {
   "cell_type": "code",
   "execution_count": 17,
   "metadata": {
    "colab": {
     "base_uri": "https://localhost:8080/",
     "height": 269
    },
    "colab_type": "code",
    "id": "zqsnN8rjk1-5",
    "outputId": "d0d946c6-81d5-42d6-df10-3665e4704fd0"
   },
   "outputs": [
    {
     "data": {
      "image/png": "[encoded data removed]",
      "text/plain": [
       "<Figure size 432x288 with 1 Axes>"
      ]
     },
     "metadata": {
      "needs_background": "light"
     },
     "output_type": "display_data"
    }
   ],
   "source": [
    "# 学習曲線の表示\n",
    "plt.plot(history[:,0], history[:,1])\n",
    "plt.grid()\n",
    "plt.show()"
   ]
  },
  {
   "cell_type": "code",
   "execution_count": 18,
   "metadata": {
    "colab": {
     "base_uri": "https://localhost:8080/",
     "height": 269
    },
    "colab_type": "code",
    "id": "AzvN9CcXsgM6",
    "outputId": "f8fefa67-e603-43ac-bce3-c7ff972458f5"
   },
   "outputs": [
    {
     "data": {
      "image/png": "[encoded data removed]",
      "text/plain": [
       "<Figure size 432x288 with 1 Axes>"
      ]
     },
     "metadata": {
      "needs_background": "light"
     },
     "output_type": "display_data"
    }
   ],
   "source": [
    "# 散布図と回帰直線を同時表示\n",
    "\n",
    "X = np.array([[1, -6],[1, 6]])\n",
    "Y = pred(X, w)\n",
    "\n",
    "plt.scatter(data1[:,0], data1[:,1], s=40, c='b')\n",
    "plt.plot([-6, 6], Y, lw=2, c='k')\n",
    "plt.plot([-6,6],[0,0], lw=1, c='k')\n",
    "plt.plot([0,0],[-8,12],lw=1,c='k')\n",
    "plt.xlim(-6,6)\n",
    "plt.ylim(-8,12)\n",
    "plt.grid()\n",
    "plt.show()"
   ]
  },
  {
   "cell_type": "code",
   "execution_count": 19,
   "metadata": {
    "colab": {
     "base_uri": "https://localhost:8080/",
     "height": 68
    },
    "colab_type": "code",
    "id": "9JQ6KvEr0mjW",
    "outputId": "55ad0f2f-7190-455f-e6d2-acc6bb232f53"
   },
   "outputs": [
    {
     "name": "stdout",
     "output_type": "stream",
     "text": [
      "パラメータ値比較\n",
      "実習で求めた結果 w0 =   0.27 w1 =   1.82\n",
      "ライブラリの結果 w0 =  -0.00 w1 =   1.82\n"
     ]
    }
   ],
   "source": [
    "# Scikit-learnのライブラリを使って線形回帰モデルを作成\n",
    "\n",
    "from sklearn import linear_model\n",
    "clf = linear_model.LinearRegression()\n",
    "\n",
    "# 予測モデルを作成\n",
    "clf.fit(x1, yt)\n",
    "\n",
    "# 切片と傾きの取得\n",
    "W0 = clf.intercept_\n",
    "W1 = clf.coef_\n",
    "print('パラメータ値比較')\n",
    "print('実習で求めた結果 w0 = %6.2f w1 = %6.2f' % (w0, w1))\n",
    "print('ライブラリの結果 w0 = %6.2f w1 = %6.2f' % (W0, W1))"
   ]
  },
  {
   "cell_type": "code",
   "execution_count": null,
   "metadata": {
    "colab": {},
    "colab_type": "code",
    "id": "eI3SkeWh6DZ_"
   },
   "outputs": [],
   "source": []
  }
 ],
 "metadata": {
  "colab": {
   "collapsed_sections": [],
   "name": "nikkei-soft-dl-math.ipynb",
   "provenance": []
  },
  "kernelspec": {
   "display_name": "Python 3",
   "language": "python",
   "name": "python3"
  },
  "language_info": {
   "codemirror_mode": {
    "name": "ipython",
    "version": 3
   },
   "file_extension": ".py",
   "mimetype": "text/x-python",
   "name": "python",
   "nbconvert_exporter": "python",
   "pygments_lexer": "ipython3",
   "version": "3.7.3"
  }
 },
 "nbformat": 4,
 "nbformat_minor": 1
}
