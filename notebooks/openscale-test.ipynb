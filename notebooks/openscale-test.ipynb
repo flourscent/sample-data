{
 "cells": [
  {
   "cell_type": "markdown",
   "metadata": {},
   "source": [
    "# OpenScaleのテスト"
   ]
  },
  {
   "cell_type": "code",
   "execution_count": null,
   "metadata": {},
   "outputs": [],
   "source": [
    "# 必要ライブラリの導入\n",
    "\n",
    "!pip install --upgrade ibm-ai-openscale --no-cache | tail -n 1"
   ]
  },
  {
   "cell_type": "code",
   "execution_count": null,
   "metadata": {},
   "outputs": [],
   "source": [
    "# OpenScale API呼出し用認証情報\n",
    "\n",
    "AIOS_CREDENTIALS = {\n",
    "    #\"instance_guid\": \"xxxx\",\n",
    "    #\"apikey\": \"xxxx\", \n",
    "    \"url\": \"https://api.aiopenscale.cloud.ibm.com\"\n",
    "}"
   ]
  },
  {
   "cell_type": "code",
   "execution_count": null,
   "metadata": {},
   "outputs": [],
   "source": [
    "# OpenScale 管理用インスタンスの生成\n",
    "\n",
    "from ibm_ai_openscale import APIClient\n",
    "from ibm_ai_openscale.engines import WatsonMachineLearningAsset\n",
    "\n",
    "aios_client = APIClient(AIOS_CREDENTIALS)\n",
    "aios_client.version"
   ]
  },
  {
   "cell_type": "code",
   "execution_count": null,
   "metadata": {},
   "outputs": [],
   "source": [
    "# サブスクリプション(管理対象モデル)の一覧表示\n",
    "\n",
    "from ibm_ai_openscale.supporting_classes import *\n",
    "aios_client.data_mart.subscriptions.list()"
   ]
  },
  {
   "cell_type": "code",
   "execution_count": null,
   "metadata": {},
   "outputs": [],
   "source": [
    "# サブスクリプションIDの取得\n",
    "\n",
    "subscription_uid = aios_client.data_mart.subscriptions.get_uids()[0]\n",
    "print('subscription_uid = ', subscription_uid)\n",
    "\n",
    "# サブスクリプションオブジェクトの取得 (いろいろな操作が可能になる)\n",
    "\n",
    "subscription = aios_client.data_mart.subscriptions.get(subscription_uid)\n",
    "\n",
    "# 対象サブスクリプションの先頭トランザクションIDの取得\n",
    "\n",
    "transaction_id = subscription.payload_logging.get_table_content().scoring_id[0]\n",
    "print('transaction_id = ', transaction_id)"
   ]
  },
  {
   "cell_type": "code",
   "execution_count": null,
   "metadata": {},
   "outputs": [],
   "source": [
    "# 説明性の要求\n",
    "\n",
    "explanation = subscription.explainability.run(transaction_id, background_mode=False)"
   ]
  },
  {
   "cell_type": "code",
   "execution_count": null,
   "metadata": {},
   "outputs": [],
   "source": [
    "# 該当サブスクリプションに対してpayload loggingの表示\n",
    "\n",
    "subscription.payload_logging.get_table_content(limit=5)"
   ]
  },
  {
   "cell_type": "code",
   "execution_count": null,
   "metadata": {},
   "outputs": [],
   "source": [
    "# 該当サブスクリプションに対してパフォーマンスモニタテーブルの表示\n",
    "\n",
    "subscription.performance_monitoring.get_table_content(limit=5)"
   ]
  },
  {
   "cell_type": "code",
   "execution_count": null,
   "metadata": {},
   "outputs": [],
   "source": [
    "# 該当サブスクリプションに対して説明性テーブルの表示\n",
    "\n",
    "subscription.explainability.get_table_content(limit=5)"
   ]
  },
  {
   "cell_type": "code",
   "execution_count": null,
   "metadata": {},
   "outputs": [],
   "source": [
    "# 説明性の最初の行の詳細表示\n",
    "\n",
    "subscription.explainability.get_table_content()['explanation'][0]"
   ]
  },
  {
   "cell_type": "code",
   "execution_count": null,
   "metadata": {},
   "outputs": [],
   "source": []
  }
 ],
 "metadata": {
  "kernelspec": {
   "display_name": "Python 3",
   "language": "python",
   "name": "python3"
  },
  "language_info": {
   "codemirror_mode": {
    "name": "ipython",
    "version": 3
   },
   "file_extension": ".py",
   "mimetype": "text/x-python",
   "name": "python",
   "nbconvert_exporter": "python",
   "pygments_lexer": "ipython3",
   "version": "3.7.3"
  }
 },
 "nbformat": 4,
 "nbformat_minor": 2
}
