{
 "cells": [
  {
   "cell_type": "code",
   "execution_count": null,
   "metadata": {},
   "outputs": [],
   "source": [
    "# @hidden_cell\n",
    "# The project token is an authorization token that is used to access project resources like data sources, connections, and used by platform APIs.\n",
    "from project_lib import Project\n",
    "project = Project(project_id='xxxx', project_access_token='xxxx')\n",
    "pc = project.project_context"
   ]
  },
  {
   "cell_type": "markdown",
   "metadata": {},
   "source": [
    "(備考)　上のセルは自動生成されたもの"
   ]
  },
  {
   "cell_type": "markdown",
   "metadata": {
    "collapsed": true
   },
   "source": [
    "# PyTorchのモデルをWatson MLにデプロイする"
   ]
  },
  {
   "cell_type": "markdown",
   "metadata": {},
   "source": [
    "## アップロード用モデルの作り方\n",
    "\n",
    "Google Colabで下記リンク先のNotebookを実行   \n",
    "\n",
    "https://github.com/makaishi2/sample-data/blob/master/notebooks/cifar10_pytorch.ipynb\n",
    "\n",
    "その後、次のコードをセルに追加して実行\n",
    "\n",
    "```py3\n",
    "# ダミーデータの作成\n",
    "dummy_input = torch.randn((1, 3, 32, 32)).to(device)\n",
    "\n",
    "# onyx形式でexport\n",
    "# keep_initializers_as_inputsのオプションが重要でこれがないとエラーになる\n",
    "torch.onnx.export(net, dummy_input, \"cifar10-pytorch-sample.onnx\", \n",
    "                  keep_initializers_as_inputs=True, verbose=True)\n",
    "\n",
    "# gz形式に圧縮\n",
    "!tar czvf cifar10-pytorch-sample.gz cifar10-pytorch-sample.onnx\n",
    "\n",
    "# 結果をPCにダウンロード\n",
    "fn = 'cifar10-pytorch-sample.gz'\n",
    "from google.colab import files\n",
    "files.download(fn) \n",
    "```\n"
   ]
  },
  {
   "cell_type": "code",
   "execution_count": null,
   "metadata": {},
   "outputs": [],
   "source": [
    "# project-libを使ってデータアセットのファイルをローカルにコピーする\n",
    "\n",
    "fn = 'cifar10-pytorch-sample.gz'\n",
    "infile = project.get_file(fn)\n",
    "with open(fn, 'wb') as local_file:\n",
    "    local_file.write(infile.read())"
   ]
  },
  {
   "cell_type": "code",
   "execution_count": null,
   "metadata": {},
   "outputs": [],
   "source": [
    "!ls -l"
   ]
  },
  {
   "cell_type": "markdown",
   "metadata": {},
   "source": [
    "# 1. モデルの保存"
   ]
  },
  {
   "cell_type": "markdown",
   "metadata": {},
   "source": [
    "## 1.1 必要ライブラリの導入"
   ]
  },
  {
   "cell_type": "code",
   "execution_count": null,
   "metadata": {},
   "outputs": [],
   "source": [
    "# 必要ライブラリの導入\n",
    "!pip install -U ibm-watson-machine-learning | tail -n 1"
   ]
  },
  {
   "cell_type": "markdown",
   "metadata": {},
   "source": [
    "## 1.2 APIClient インスタンスの生成とデプロイメントスペースの関連付"
   ]
  },
  {
   "cell_type": "code",
   "execution_count": null,
   "metadata": {},
   "outputs": [],
   "source": [
    "#  ロケーションの指定\n",
    "# ロケーションは下記のコマンドの結果得られたものを使う\n",
    "#\n",
    "# $ ibmcloud resource service-instance\n",
    "\n",
    "location = 'us-south'  # Dallas\n",
    "#location = 'jp-tok'    # Tokyo\n",
    "#location = 'au-syd'  # Sydney\n",
    "\n",
    "# APIKeyの指定\n",
    "# API key は次のリンク先から生成する\n",
    "#\n",
    "# https://cloud.ibm.com/iam/apikeys\n",
    "\n",
    "apikey = \"xxxx\"\n",
    "\n",
    "wml_credentials = {\n",
    "    \"apikey\": apikey,\n",
    "    \"url\": 'https://' + location + '.ml.cloud.ibm.com'\n",
    "}"
   ]
  },
  {
   "cell_type": "code",
   "execution_count": null,
   "metadata": {},
   "outputs": [],
   "source": [
    "# API Clientインスタンスの生成\n",
    "\n",
    "from ibm_watson_machine_learning import APIClient\n",
    "client = APIClient(wml_credentials)"
   ]
  },
  {
   "cell_type": "code",
   "execution_count": null,
   "metadata": {},
   "outputs": [],
   "source": [
    "# space_idの取得\n",
    "client.spaces.list()"
   ]
  },
  {
   "cell_type": "code",
   "execution_count": null,
   "metadata": {},
   "outputs": [],
   "source": [
    "# 上の結果を基に手で設定する\n",
    "space_id = '9336c80e-574d-442c-a031-90765b925770'"
   ]
  },
  {
   "cell_type": "code",
   "execution_count": null,
   "metadata": {},
   "outputs": [],
   "source": [
    "# デプロイメントスペースIDの設定\n",
    "client.set.default_space(space_id)"
   ]
  },
  {
   "cell_type": "markdown",
   "metadata": {},
   "source": [
    "## 1.3 Software Specification ID の取得"
   ]
  },
  {
   "cell_type": "code",
   "execution_count": null,
   "metadata": {},
   "outputs": [],
   "source": [
    "sofware_spec_uid = client.software_specifications.get_id_by_name(\"default_py3.7\")"
   ]
  },
  {
   "cell_type": "markdown",
   "metadata": {},
   "source": [
    "## 1.4 モデルの保存"
   ]
  },
  {
   "cell_type": "code",
   "execution_count": null,
   "metadata": {},
   "outputs": [],
   "source": [
    "model_path = fn"
   ]
  },
  {
   "cell_type": "code",
   "execution_count": null,
   "metadata": {},
   "outputs": [],
   "source": [
    "metadata = {\n",
    "            client.repository.ModelMetaNames.NAME: 'External pytorch model',\n",
    "            client.repository.ModelMetaNames.TYPE: 'pytorch-onnx_1.3',\n",
    "            client.repository.ModelMetaNames.SOFTWARE_SPEC_UID: sofware_spec_uid\n",
    "}"
   ]
  },
  {
   "cell_type": "code",
   "execution_count": null,
   "metadata": {},
   "outputs": [],
   "source": [
    "published_model = client.repository.store_model(\n",
    "    model=model_path,\n",
    "    meta_props=metadata)"
   ]
  },
  {
   "cell_type": "markdown",
   "metadata": {},
   "source": [
    "## 1.5 モデルの詳細確認"
   ]
  },
  {
   "cell_type": "code",
   "execution_count": null,
   "metadata": {},
   "outputs": [],
   "source": [
    "import json\n",
    "\n",
    "published_model_uid = client.repository.get_model_uid(published_model)\n",
    "model_details = client.repository.get_details(published_model_uid)\n",
    "print(json.dumps(model_details, indent=2))"
   ]
  },
  {
   "cell_type": "code",
   "execution_count": null,
   "metadata": {},
   "outputs": [],
   "source": [
    "models_details = client.repository.list_models()"
   ]
  },
  {
   "cell_type": "markdown",
   "metadata": {},
   "source": [
    "# 2. モデルのデプロイ"
   ]
  },
  {
   "cell_type": "markdown",
   "metadata": {},
   "source": [
    "## 2.1 モデルのデプロイ"
   ]
  },
  {
   "cell_type": "code",
   "execution_count": null,
   "metadata": {},
   "outputs": [],
   "source": [
    "metadata = {\n",
    "    client.deployments.ConfigurationMetaNames.NAME: \"Deployment of external pytorch model\",\n",
    "    client.deployments.ConfigurationMetaNames.ONLINE: {}\n",
    "}\n",
    "\n",
    "created_deployment = client.deployments.create(published_model_uid, meta_props=metadata)"
   ]
  },
  {
   "cell_type": "code",
   "execution_count": null,
   "metadata": {},
   "outputs": [],
   "source": [
    "# デプロイメントの一覧表示\n",
    "\n",
    "client.deployments.list()"
   ]
  },
  {
   "cell_type": "code",
   "execution_count": null,
   "metadata": {},
   "outputs": [],
   "source": [
    "# depolyment_uid 取得\n",
    "\n",
    "deployment_uid = client.deployments.get_uid(created_deployment)\n",
    "\n",
    "# すでにデプロイ済みの場合、下記コメントをはずして手動でdeployment_uidを設定する\n",
    "\n",
    "# deployment_uid = \"e3e5d8e9-e768-42f4-9c94-beb9beb61150\"\n",
    "\n",
    "# deployment_uidの確認\n",
    "print(deployment_uid)"
   ]
  },
  {
   "cell_type": "markdown",
   "metadata": {},
   "source": [
    "## 2.2 デプロイメントの詳細確認"
   ]
  },
  {
   "cell_type": "code",
   "execution_count": null,
   "metadata": {},
   "outputs": [],
   "source": [
    "client.deployments.get_details(deployment_uid)"
   ]
  },
  {
   "cell_type": "markdown",
   "metadata": {},
   "source": [
    "# 3. 予測 (Watson MLライブラリを利用)"
   ]
  },
  {
   "cell_type": "markdown",
   "metadata": {},
   "source": [
    "## 3.1 検証用データの取得"
   ]
  },
  {
   "cell_type": "code",
   "execution_count": null,
   "metadata": {},
   "outputs": [],
   "source": [
    "!pip install torchvision==0.8.1 | tail -n 1"
   ]
  },
  {
   "cell_type": "code",
   "execution_count": null,
   "metadata": {},
   "outputs": [],
   "source": [
    "import torch\n",
    "import torchvision\n",
    "import torchvision.transforms as transforms"
   ]
  },
  {
   "cell_type": "code",
   "execution_count": null,
   "metadata": {},
   "outputs": [],
   "source": [
    "print(torch.__version__)\n",
    "print(torchvision.__version__)"
   ]
  },
  {
   "cell_type": "code",
   "execution_count": null,
   "metadata": {},
   "outputs": [],
   "source": [
    "# 分類先クラス名\n",
    "classes = ['plane', 'car', 'bird', 'cat',\n",
    "           'deer', 'dog', 'frog', 'horse', 'ship', 'truck']\n",
    "\n",
    "# 分類クラス数\n",
    "num_classes = len(classes)\n",
    "\n",
    "# 1回の学習で何枚の画像を使うか\n",
    "batch_size = 128"
   ]
  },
  {
   "cell_type": "code",
   "execution_count": null,
   "metadata": {},
   "outputs": [],
   "source": [
    "transform = transforms.Compose(\n",
    "    [transforms.ToTensor(),\n",
    "     transforms.Normalize((0.5, 0.5, 0.5), (0.5, 0.5, 0.5))])\n",
    "\n",
    "trainset = torchvision.datasets.CIFAR10(root='./data', train=True,\n",
    "                                        download=True, transform=transform)\n",
    "train_loader = torch.utils.data.DataLoader(trainset, batch_size=batch_size, shuffle=True, num_workers=2)\n",
    "\n",
    "testset = torchvision.datasets.CIFAR10(root='./data', train=False,download=True, transform=transform)\n",
    "test_loader = torch.utils.data.DataLoader(testset, batch_size=batch_size, shuffle=False, num_workers=2)"
   ]
  },
  {
   "cell_type": "markdown",
   "metadata": {},
   "source": [
    "## 3.2 検証用データの組み立てと、イメージ表示"
   ]
  },
  {
   "cell_type": "code",
   "execution_count": null,
   "metadata": {},
   "outputs": [],
   "source": [
    "N = 100\n",
    "\n",
    "values = []\n",
    "labels = []\n",
    "\n",
    "plt.figure(figsize=(15, 15))\n",
    "\n",
    "for i in range(N):\n",
    "    # テスト用データの組み立て\n",
    "    image, label = testset[i]\n",
    "    labels.append(label)\n",
    "    xdata = image.numpy().tolist()\n",
    "    values .append(xdata)\n",
    "    \n",
    "    # データの画面表示\n",
    "    ax = plt.subplot(10, 10, i + 1)\n",
    "    img = np.transpose(image.numpy(), (1, 2, 0))\n",
    "    img2 = (img + 1)/2 \n",
    "    plt.imshow(img2)\n",
    "    ax.set_title(classes[label], fontsize=10)\n",
    "    ax.get_xaxis().set_visible(False)\n",
    "    ax.get_yaxis().set_visible(False)\n",
    "\n",
    "plt.show()"
   ]
  },
  {
   "cell_type": "code",
   "execution_count": null,
   "metadata": {},
   "outputs": [],
   "source": [
    "scoring_payload = {\"input_data\": [{\"values\": values}]}"
   ]
  },
  {
   "cell_type": "markdown",
   "metadata": {},
   "source": [
    "## 3.3 予測APIの呼び出し"
   ]
  },
  {
   "cell_type": "code",
   "execution_count": null,
   "metadata": {},
   "outputs": [],
   "source": [
    "predictions = client.deployments.score(deployment_uid, scoring_payload)"
   ]
  },
  {
   "cell_type": "code",
   "execution_count": null,
   "metadata": {},
   "outputs": [],
   "source": [
    "w1 = predictions['predictions'][0]['values']\n",
    "w2 = np.array([np.argmax(x) for x in w1])\n",
    "print('予測: ',w2)\n",
    "print('正解: ', labels)"
   ]
  },
  {
   "cell_type": "code",
   "execution_count": null,
   "metadata": {},
   "outputs": [],
   "source": [
    "# 混同行列の計算\n",
    "\n",
    "# 必要ライブラリの取込み\n",
    "from sklearn.metrics import confusion_matrix\n",
    "\n",
    "# 混同行列の生成\n",
    "#   y_test: 検証データの正解データ\n",
    "#   y_pred: 検証データの予測結果\n",
    "matrix = confusion_matrix(labels, w2)"
   ]
  },
  {
   "cell_type": "code",
   "execution_count": null,
   "metadata": {},
   "outputs": [],
   "source": [
    "# 混同行列表示用関数\n",
    "import pandas\n",
    "\n",
    "def make_cm(matrix, columns):\n",
    "    # matrix numpy配列\n",
    "    \n",
    "    # columns 項目名リスト\n",
    "    n = len(columns)\n",
    "    \n",
    "    # '正解データ'をn回繰り返すリスト生成\n",
    "    act = ['正解データ'] * n\n",
    "    pred = ['予測結果'] * n\n",
    "    \n",
    "    #データフレーム生成\n",
    "    cm = pd.DataFrame(matrix, \n",
    "        columns=[pred, columns], index=[act, columns])\n",
    "    return cm"
   ]
  },
  {
   "cell_type": "code",
   "execution_count": null,
   "metadata": {},
   "outputs": [],
   "source": [
    "from IPython.display import display\n",
    "\n",
    "# make_cmを使った混同行列標示\n",
    "cm = make_cm(matrix, classes)\n",
    "display(cm)"
   ]
  },
  {
   "cell_type": "code",
   "execution_count": null,
   "metadata": {},
   "outputs": [],
   "source": []
  }
 ],
 "metadata": {
  "kernelspec": {
   "display_name": "Python 3",
   "language": "python",
   "name": "python3"
  },
  "language_info": {
   "codemirror_mode": {
    "name": "ipython",
    "version": 3
   },
   "file_extension": ".py",
   "mimetype": "text/x-python",
   "name": "python",
   "nbconvert_exporter": "python",
   "pygments_lexer": "ipython3",
   "version": "3.7.6"
  }
 },
 "nbformat": 4,
 "nbformat_minor": 1
}
