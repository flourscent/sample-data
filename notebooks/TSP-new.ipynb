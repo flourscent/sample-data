{
 "cells": [
  {
   "cell_type": "markdown",
   "metadata": {},
   "source": [
    "# 循環セールスマン問題　オリジナル対応版"
   ]
  },
  {
   "cell_type": "markdown",
   "metadata": {},
   "source": [
    "## 問題データのロード"
   ]
  },
  {
   "cell_type": "code",
   "execution_count": null,
   "metadata": {},
   "outputs": [],
   "source": [
    "# ライブラリのロード\n",
    "\n",
    "import numpy as np\n",
    "import pandas as pd\n",
    "import matplotlib.pyplot as plt\n",
    "from IPython.display import display"
   ]
  },
  {
   "cell_type": "code",
   "execution_count": null,
   "metadata": {},
   "outputs": [],
   "source": [
    "# データのロード\n",
    "# 48件は巡回セールスマン問題のオリジナルデータです\n",
    "\n",
    "url = 'https://raw.githubusercontent.com/makaishi2/sample-data/master/data/att48.csv'\n",
    "df = pd.read_csv(url)\n",
    "display(df.head())\n",
    "print('size = ', df.values.shape)"
   ]
  },
  {
   "cell_type": "code",
   "execution_count": null,
   "metadata": {},
   "outputs": [],
   "source": [
    "# 対象項目数\n",
    "# N = 25 は10秒程度で解決\n",
    "# N = 25\n",
    "\n",
    "# N=30 は4分弱かかる\n",
    "N = 30\n",
    "\n",
    "# これ以上の値での結果は未確認"
   ]
  },
  {
   "cell_type": "code",
   "execution_count": null,
   "metadata": {},
   "outputs": [],
   "source": [
    "# 絞り込んだデータを使って、初期化と散布図表示\n",
    "\n",
    "data = df[:N]\n",
    "data_np = np.array(data)\n",
    "plt.figure(figsize=(6,6))\n",
    "plt.scatter(data_np[:,0], data_np[:,1])\n",
    "plt.grid()\n",
    "plt.show()"
   ]
  },
  {
   "cell_type": "code",
   "execution_count": null,
   "metadata": {},
   "outputs": [],
   "source": [
    "# 距離関数の定義\n",
    "# 便宜上ユークリッド距離にしています\n",
    "\n",
    "def distance(i, j):\n",
    "    return np.sqrt(np.sum((data_np[i,:] - data_np[j,:])** 2))"
   ]
  },
  {
   "cell_type": "code",
   "execution_count": null,
   "metadata": {},
   "outputs": [],
   "source": [
    "# コスト配列の定義\n",
    "c = np.zeros((N,N))\n",
    "\n",
    "for i in range(N):\n",
    "    for j in range(N):\n",
    "        c[i, j] = distance(i, j)"
   ]
  },
  {
   "cell_type": "markdown",
   "metadata": {},
   "source": [
    "## CPLEXによる問題定義"
   ]
  },
  {
   "cell_type": "code",
   "execution_count": null,
   "metadata": {},
   "outputs": [],
   "source": [
    "# CPLEX環境の確認\n",
    "\n",
    "from docplex.mp.environment import Environment\n",
    "env = Environment()\n",
    "env.print_information()"
   ]
  },
  {
   "cell_type": "markdown",
   "metadata": {},
   "source": [
    "### モデルの宣言"
   ]
  },
  {
   "cell_type": "code",
   "execution_count": null,
   "metadata": {},
   "outputs": [],
   "source": [
    "# モデルの宣言\n",
    "\n",
    "from docplex.mp.model import Model\n",
    "mdl = Model(name=\"TSP\")"
   ]
  },
  {
   "cell_type": "markdown",
   "metadata": {},
   "source": [
    "### 決定変数の宣言"
   ]
  },
  {
   "cell_type": "code",
   "execution_count": null,
   "metadata": {},
   "outputs": [],
   "source": [
    "# 決定変数の宣言\n",
    "\n",
    "# x : 移動matrix\n",
    "# i番目のノードからj番目のノードに移動する時 x_ij = 1\n",
    "# それ以外の場合 x_ij = 0\n",
    "x = mdl.integer_var_matrix(N, N)\n",
    "\n",
    "# u: 順序変数\n",
    "# 0番目のノードの次に移動するノードがiの場合\n",
    "# u[i] = 1\n",
    "# その次に移動するノードがiの場合\n",
    "# u[j] = 2\n",
    "# .. のように定義する\n",
    "u = mdl.integer_var_list(N)"
   ]
  },
  {
   "cell_type": "markdown",
   "metadata": {},
   "source": [
    "### 制約の定義"
   ]
  },
  {
   "cell_type": "code",
   "execution_count": null,
   "metadata": {},
   "outputs": [],
   "source": [
    "# u(順序変数)の制約\n",
    "# 最初のノードは0番目 : u[0] = 0\n",
    "# それ以外の順序変数は1以上 N-1以下\n",
    "\n",
    "mdl.add_constraint(u[0] == 0)\n",
    "for i in range(1, N):\n",
    "    mdl.add_constraint(u[i] >= 1)\n",
    "    mdl.add_constraint(u[i] <= N-1)"
   ]
  },
  {
   "cell_type": "code",
   "execution_count": null,
   "metadata": {},
   "outputs": [],
   "source": [
    "# x(移動matrix)の制約\n",
    "# 自分から自分への移動はないので、u_ii = 0\n",
    "# それ以外の場合は u_ij は0か1\n",
    "\n",
    "for i in range(N):\n",
    "    for j in range(N):\n",
    "        if i == j:\n",
    "            mdl.add_constraint(x[i, j] == 0)\n",
    "        else:\n",
    "            mdl.add_constraint(x[i, j] >= 0)\n",
    "            mdl.add_constraint(x[i, j] <= 1)"
   ]
  },
  {
   "cell_type": "code",
   "execution_count": null,
   "metadata": {},
   "outputs": [],
   "source": [
    "# x(移動matirx)に関する縦の制約\n",
    "\n",
    "for i in range(N):\n",
    "    mdl.add_constraint(mdl.sum(x[i, j] for j in range(N)) == 1)"
   ]
  },
  {
   "cell_type": "code",
   "execution_count": null,
   "metadata": {},
   "outputs": [],
   "source": [
    "# x(移動matirx)に関する横の制約\n",
    "\n",
    "for j in range(N):\n",
    "    mdl.add_constraint(mdl.sum(x[i, j] for i in range(N)) == 1)"
   ]
  },
  {
   "cell_type": "code",
   "execution_count": null,
   "metadata": {},
   "outputs": [],
   "source": [
    "# 部分路制約\n",
    "# ループが全体で1つであるための条件\n",
    "# 参考リンク http://satemochi.blog.fc2.com/blog-entry-24.html\n",
    "\n",
    "for i in range(1, N):\n",
    "    for j in range(1, N):\n",
    "        mdl.add_constraint(u[i] - u[j] + N * x[i,j] <= N -1)"
   ]
  },
  {
   "cell_type": "markdown",
   "metadata": {},
   "source": [
    "### 最適化関数の定義"
   ]
  },
  {
   "cell_type": "code",
   "execution_count": null,
   "metadata": {},
   "outputs": [],
   "source": [
    "# 総移動コスト\n",
    "\n",
    "total_cost = mdl.sum(c[i, j] * x[i, j] for i in range(N) for j in range(N))"
   ]
  },
  {
   "cell_type": "code",
   "execution_count": null,
   "metadata": {},
   "outputs": [],
   "source": [
    "# 最適化の定義\n",
    "\n",
    "mdl.minimize(total_cost)"
   ]
  },
  {
   "cell_type": "markdown",
   "metadata": {},
   "source": [
    "### 制約設定の確認"
   ]
  },
  {
   "cell_type": "code",
   "execution_count": null,
   "metadata": {},
   "outputs": [],
   "source": [
    "# 制約設定の確認\n",
    "\n",
    "mdl.print_information()"
   ]
  },
  {
   "cell_type": "markdown",
   "metadata": {},
   "source": [
    "## 問題を解く"
   ]
  },
  {
   "cell_type": "code",
   "execution_count": null,
   "metadata": {
    "scrolled": false
   },
   "outputs": [],
   "source": [
    "# 問題を解く\n",
    "# ログ出力をONにして、詳細情報も表示します\n",
    "\n",
    "mdl.solve(log_output = True)\n",
    "mdl.report()"
   ]
  },
  {
   "cell_type": "code",
   "execution_count": null,
   "metadata": {},
   "outputs": [],
   "source": [
    "# 詳細情報の表示\n",
    "\n",
    "print(mdl.get_solve_details())"
   ]
  },
  {
   "cell_type": "code",
   "execution_count": null,
   "metadata": {},
   "outputs": [],
   "source": [
    "# 結果の取得\n",
    "\n",
    "indexes = [u[i].solution_value for i in range(N)]\n",
    "matrix = [[x[i, j].solution_value for j in range(N)] for i in range(N)]\n",
    "ar = np.array(matrix)"
   ]
  },
  {
   "cell_type": "code",
   "execution_count": null,
   "metadata": {},
   "outputs": [],
   "source": [
    "# オリジナル散布図の再表示\n",
    "\n",
    "plt.figure(figsize=(6,6))\n",
    "plt.scatter(data_np[:,0], data_np[:,1])\n",
    "plt.grid()\n",
    "plt.show()"
   ]
  },
  {
   "cell_type": "code",
   "execution_count": null,
   "metadata": {},
   "outputs": [],
   "source": [
    "# 結果の散布図上での表示\n",
    "\n",
    "data_np = np.array(data)\n",
    "plt.figure(figsize=(6,6))\n",
    "plt.scatter(data_np[:,0], data_np[:,1])\n",
    "for i in range(N):\n",
    "    for j in range(N):\n",
    "        if ar[i, j] == 1:\n",
    "            plt.plot(data_np[[i,j],0], data_np[[i,j],1], c='b')\n",
    "plt.grid()            \n",
    "plt.show()"
   ]
  },
  {
   "cell_type": "code",
   "execution_count": null,
   "metadata": {},
   "outputs": [],
   "source": []
  }
 ],
 "metadata": {
  "kernelspec": {
   "display_name": "Python 3.6",
   "language": "python",
   "name": "python3"
  },
  "language_info": {
   "codemirror_mode": {
    "name": "ipython",
    "version": 3
   },
   "file_extension": ".py",
   "mimetype": "text/x-python",
   "name": "python",
   "nbconvert_exporter": "python",
   "pygments_lexer": "ipython3",
   "version": "3.6.8"
  }
 },
 "nbformat": 4,
 "nbformat_minor": 1
}
