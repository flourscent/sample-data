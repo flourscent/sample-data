{
    "cells": [
        {
            "cell_type": "markdown",
            "metadata": {
                "collapsed": true
            },
            "source": "# AutoAI\u3067\u751f\u6210\u3057\u305f\u30e2\u30c7\u30eb\u306e\u30c6\u30b9\u30c8"
        },
        {
            "cell_type": "code",
            "execution_count": 1,
            "metadata": {},
            "outputs": [],
            "source": "# wml_credentials\u306e\u8a2d\u5b9a"
        },
        {
            "cell_type": "code",
            "execution_count": 2,
            "metadata": {},
            "outputs": [],
            "source": "# The code was removed by Watson Studio for sharing."
        },
        {
            "cell_type": "code",
            "execution_count": 3,
            "metadata": {},
            "outputs": [],
            "source": "# scoring URL\u306e\u8a2d\u5b9a\nscoring_url = \"https://us-south.ml.cloud.ibm.com/v4/deployments/07e86931-e8cf-4c31-b2f4-792c4dc56eb1/predictions\""
        },
        {
            "cell_type": "code",
            "execution_count": 4,
            "metadata": {},
            "outputs": [],
            "source": "%matplotlib inline\nimport urllib3, requests, json\nimport urllib.request\nimport numpy as np\nimport pandas as pd\nfrom IPython.display import display\nimport matplotlib.pyplot as plt"
        },
        {
            "cell_type": "code",
            "execution_count": null,
            "metadata": {},
            "outputs": [],
            "source": "# \u30c8\u30fc\u30af\u30f3\u53d6\u5f97\napikey = wml_credentials[\"apikey\"]\n\n# Get an IAM token from IBM Cloud\nurl     = \"https://iam.bluemix.net/oidc/token\"\nheaders = { \"Content-Type\" : \"application/x-www-form-urlencoded\" }\ndata    = \"apikey=\" + apikey + \"&grant_type=urn:ibm:params:oauth:grant-type:apikey\"\nIBM_cloud_IAM_uid = \"bx\"\nIBM_cloud_IAM_pwd = \"bx\"\nresponse  = requests.post( url, headers=headers, data=data, \n        auth=( IBM_cloud_IAM_uid, IBM_cloud_IAM_pwd ) )\niam_token = response.json()[\"access_token\"]\n\nprint('iam_token = ', iam_token)"
        },
        {
            "cell_type": "code",
            "execution_count": 6,
            "metadata": {},
            "outputs": [],
            "source": "# Header \u306e\u7d44\u7acb\u3066\nheader_token = {'Content-Type': 'application/json', 'Authorization': 'Bearer ' + iam_token}\nml_instance_id = wml_credentials[\"instance_id\"]\nheader = {'Content-Type': 'application/json', 'Authorization': 'Bearer ' + iam_token, 'ML-Instance-ID': ml_instance_id}"
        },
        {
            "cell_type": "code",
            "execution_count": 7,
            "metadata": {},
            "outputs": [
                {
                    "data": {
                        "text/html": "<div>\n<style scoped>\n    .dataframe tbody tr th:only-of-type {\n        vertical-align: middle;\n    }\n\n    .dataframe tbody tr th {\n        vertical-align: top;\n    }\n\n    .dataframe thead th {\n        text-align: right;\n    }\n</style>\n<table border=\"1\" class=\"dataframe\">\n  <thead>\n    <tr style=\"text-align: right;\">\n      <th></th>\n      <th>DATE</th>\n      <th>Y</th>\n      <th>X1</th>\n      <th>X2</th>\n      <th>X3</th>\n      <th>X4</th>\n      <th>X5</th>\n      <th>X6</th>\n      <th>X7</th>\n      <th>X8</th>\n      <th>X9</th>\n      <th>X10</th>\n      <th>X11</th>\n      <th>X12</th>\n      <th>X13</th>\n      <th>X14</th>\n    </tr>\n  </thead>\n  <tbody>\n    <tr>\n      <th>0</th>\n      <td>Wed Mar 08 00:00:00 UTC 2017</td>\n      <td>85281</td>\n      <td>32.7</td>\n      <td>2.7</td>\n      <td>6.2</td>\n      <td>21.1</td>\n      <td>11.0</td>\n      <td>14.2</td>\n      <td>4771252.43</td>\n      <td>100126.56</td>\n      <td>30</td>\n      <td>13</td>\n      <td>0</td>\n      <td>65</td>\n      <td>2</td>\n      <td>91</td>\n    </tr>\n    <tr>\n      <th>1</th>\n      <td>Thu Mar 09 00:00:00 UTC 2017</td>\n      <td>85573</td>\n      <td>41.9</td>\n      <td>6.5</td>\n      <td>9.0</td>\n      <td>29.5</td>\n      <td>11.8</td>\n      <td>21.7</td>\n      <td>4769423.10</td>\n      <td>99787.45</td>\n      <td>21</td>\n      <td>22</td>\n      <td>7</td>\n      <td>54</td>\n      <td>2</td>\n      <td>91</td>\n    </tr>\n    <tr>\n      <th>2</th>\n      <td>Fri Mar 10 00:00:00 UTC 2017</td>\n      <td>86730</td>\n      <td>30.0</td>\n      <td>6.5</td>\n      <td>5.6</td>\n      <td>17.8</td>\n      <td>11.0</td>\n      <td>19.9</td>\n      <td>4807670.28</td>\n      <td>105127.16</td>\n      <td>32</td>\n      <td>15</td>\n      <td>6</td>\n      <td>30</td>\n      <td>2</td>\n      <td>91</td>\n    </tr>\n    <tr>\n      <th>3</th>\n      <td>Sat Mar 11 00:00:00 UTC 2017</td>\n      <td>96306</td>\n      <td>30.2</td>\n      <td>7.6</td>\n      <td>11.2</td>\n      <td>12.9</td>\n      <td>15.1</td>\n      <td>17.3</td>\n      <td>5081779.16</td>\n      <td>124681.71</td>\n      <td>40</td>\n      <td>15</td>\n      <td>7</td>\n      <td>15</td>\n      <td>2</td>\n      <td>91</td>\n    </tr>\n    <tr>\n      <th>4</th>\n      <td>Sun Mar 12 00:00:00 UTC 2017</td>\n      <td>103809</td>\n      <td>50.6</td>\n      <td>7.5</td>\n      <td>18.8</td>\n      <td>28.9</td>\n      <td>16.9</td>\n      <td>27.8</td>\n      <td>4926851.40</td>\n      <td>116052.82</td>\n      <td>44</td>\n      <td>15</td>\n      <td>9</td>\n      <td>39</td>\n      <td>2</td>\n      <td>92</td>\n    </tr>\n  </tbody>\n</table>\n</div>",
                        "text/plain": "                           DATE       Y    X1   X2    X3    X4    X5    X6  \\\n0  Wed Mar 08 00:00:00 UTC 2017   85281  32.7  2.7   6.2  21.1  11.0  14.2   \n1  Thu Mar 09 00:00:00 UTC 2017   85573  41.9  6.5   9.0  29.5  11.8  21.7   \n2  Fri Mar 10 00:00:00 UTC 2017   86730  30.0  6.5   5.6  17.8  11.0  19.9   \n3  Sat Mar 11 00:00:00 UTC 2017   96306  30.2  7.6  11.2  12.9  15.1  17.3   \n4  Sun Mar 12 00:00:00 UTC 2017  103809  50.6  7.5  18.8  28.9  16.9  27.8   \n\n           X7         X8  X9  X10  X11  X12  X13  X14  \n0  4771252.43  100126.56  30   13    0   65    2   91  \n1  4769423.10   99787.45  21   22    7   54    2   91  \n2  4807670.28  105127.16  32   15    6   30    2   91  \n3  5081779.16  124681.71  40   15    7   15    2   91  \n4  4926851.40  116052.82  44   15    9   39    2   92  "
                    },
                    "metadata": {},
                    "output_type": "display_data"
                }
            ],
            "source": "# The code was removed by Watson Studio for sharing."
        },
        {
            "cell_type": "code",
            "execution_count": 8,
            "metadata": {},
            "outputs": [
                {
                    "name": "stdout",
                    "output_type": "stream",
                    "text": "0     85281\n1     85573\n2     86730\n3     96306\n4    103809\nName: Y, dtype: int64\n"
                }
            ],
            "source": "# \u6b63\u89e3\u5024\u306e\u53d6\u5f97\nYt = df['Y']\nprint(Yt[:5])"
        },
        {
            "cell_type": "code",
            "execution_count": 9,
            "metadata": {},
            "outputs": [
                {
                    "data": {
                        "text/html": "<div>\n<style scoped>\n    .dataframe tbody tr th:only-of-type {\n        vertical-align: middle;\n    }\n\n    .dataframe tbody tr th {\n        vertical-align: top;\n    }\n\n    .dataframe thead th {\n        text-align: right;\n    }\n</style>\n<table border=\"1\" class=\"dataframe\">\n  <thead>\n    <tr style=\"text-align: right;\">\n      <th></th>\n      <th>DATE</th>\n      <th>X1</th>\n      <th>X2</th>\n      <th>X3</th>\n      <th>X4</th>\n      <th>X5</th>\n      <th>X6</th>\n      <th>X7</th>\n      <th>X8</th>\n      <th>X9</th>\n      <th>X10</th>\n      <th>X11</th>\n      <th>X12</th>\n      <th>X13</th>\n      <th>X14</th>\n    </tr>\n  </thead>\n  <tbody>\n    <tr>\n      <th>0</th>\n      <td>Wed Mar 08 00:00:00 UTC 2017</td>\n      <td>32.7</td>\n      <td>2.7</td>\n      <td>6.2</td>\n      <td>21.1</td>\n      <td>11.0</td>\n      <td>14.2</td>\n      <td>4771252.43</td>\n      <td>100126.56</td>\n      <td>30</td>\n      <td>13</td>\n      <td>0</td>\n      <td>65</td>\n      <td>2</td>\n      <td>91</td>\n    </tr>\n    <tr>\n      <th>1</th>\n      <td>Thu Mar 09 00:00:00 UTC 2017</td>\n      <td>41.9</td>\n      <td>6.5</td>\n      <td>9.0</td>\n      <td>29.5</td>\n      <td>11.8</td>\n      <td>21.7</td>\n      <td>4769423.10</td>\n      <td>99787.45</td>\n      <td>21</td>\n      <td>22</td>\n      <td>7</td>\n      <td>54</td>\n      <td>2</td>\n      <td>91</td>\n    </tr>\n    <tr>\n      <th>2</th>\n      <td>Fri Mar 10 00:00:00 UTC 2017</td>\n      <td>30.0</td>\n      <td>6.5</td>\n      <td>5.6</td>\n      <td>17.8</td>\n      <td>11.0</td>\n      <td>19.9</td>\n      <td>4807670.28</td>\n      <td>105127.16</td>\n      <td>32</td>\n      <td>15</td>\n      <td>6</td>\n      <td>30</td>\n      <td>2</td>\n      <td>91</td>\n    </tr>\n    <tr>\n      <th>3</th>\n      <td>Sat Mar 11 00:00:00 UTC 2017</td>\n      <td>30.2</td>\n      <td>7.6</td>\n      <td>11.2</td>\n      <td>12.9</td>\n      <td>15.1</td>\n      <td>17.3</td>\n      <td>5081779.16</td>\n      <td>124681.71</td>\n      <td>40</td>\n      <td>15</td>\n      <td>7</td>\n      <td>15</td>\n      <td>2</td>\n      <td>91</td>\n    </tr>\n    <tr>\n      <th>4</th>\n      <td>Sun Mar 12 00:00:00 UTC 2017</td>\n      <td>50.6</td>\n      <td>7.5</td>\n      <td>18.8</td>\n      <td>28.9</td>\n      <td>16.9</td>\n      <td>27.8</td>\n      <td>4926851.40</td>\n      <td>116052.82</td>\n      <td>44</td>\n      <td>15</td>\n      <td>9</td>\n      <td>39</td>\n      <td>2</td>\n      <td>92</td>\n    </tr>\n  </tbody>\n</table>\n</div>",
                        "text/plain": "                           DATE    X1   X2    X3    X4    X5    X6  \\\n0  Wed Mar 08 00:00:00 UTC 2017  32.7  2.7   6.2  21.1  11.0  14.2   \n1  Thu Mar 09 00:00:00 UTC 2017  41.9  6.5   9.0  29.5  11.8  21.7   \n2  Fri Mar 10 00:00:00 UTC 2017  30.0  6.5   5.6  17.8  11.0  19.9   \n3  Sat Mar 11 00:00:00 UTC 2017  30.2  7.6  11.2  12.9  15.1  17.3   \n4  Sun Mar 12 00:00:00 UTC 2017  50.6  7.5  18.8  28.9  16.9  27.8   \n\n           X7         X8  X9  X10  X11  X12  X13  X14  \n0  4771252.43  100126.56  30   13    0   65    2   91  \n1  4769423.10   99787.45  21   22    7   54    2   91  \n2  4807670.28  105127.16  32   15    6   30    2   91  \n3  5081779.16  124681.71  40   15    7   15    2   91  \n4  4926851.40  116052.82  44   15    9   39    2   92  "
                    },
                    "metadata": {},
                    "output_type": "display_data"
                }
            ],
            "source": "df1 = df.drop(['Y'], axis=1)\ndisplay(df1.head())"
        },
        {
            "cell_type": "code",
            "execution_count": 10,
            "metadata": {},
            "outputs": [
                {
                    "name": "stdout",
                    "output_type": "stream",
                    "text": "['DATE', 'X1', 'X2', 'X3', 'X4', 'X5', 'X6', 'X7', 'X8', 'X9', 'X10', 'X11', 'X12', 'X13', 'X14']\n"
                }
            ],
            "source": "# DataFrame\u304b\u3089\u9805\u76ee\u540dList\u306e\u751f\u6210\nfields = df1.columns.tolist()\nprint(fields)"
        },
        {
            "cell_type": "code",
            "execution_count": 11,
            "metadata": {},
            "outputs": [
                {
                    "name": "stdout",
                    "output_type": "stream",
                    "text": "[['Wed Mar 08 00:00:00 UTC 2017', 32.7, 2.7, 6.199999999999998, 21.1, 11.0, 14.2, 4771252.43, 100126.56, 30, 13, 0, 65, 2, 91], ['Thu Mar 09 00:00:00 UTC 2017', 41.90000000000001, 6.5, 9.0, 29.5, 11.8, 21.7, 4769423.1, 99787.45, 21, 22, 7, 54, 2, 91]]\n"
                }
            ],
            "source": "# DataFrame\u304b\u3089\u5165\u529b\u7528List\u306e\u751f\u6210\nvalues = df1.values.tolist()\n# \u30c6\u30b9\u30c8\u7528\n#values = df1.head(2).values.tolist()\nprint(values[:2])"
        },
        {
            "cell_type": "code",
            "execution_count": 12,
            "metadata": {},
            "outputs": [],
            "source": "# payload\u5909\u6570\u306e\u7d44\u7acb\u3066\npayload_scoring = {\"input_data\": [{\n    \"fields\": fields, \n    \"values\": values\n}]}"
        },
        {
            "cell_type": "code",
            "execution_count": 13,
            "metadata": {},
            "outputs": [],
            "source": "# API\u306e\u547c\u51fa\u3057\nresponse_scoring = requests.post(scoring_url,  json=payload_scoring, headers=header)"
        },
        {
            "cell_type": "code",
            "execution_count": 14,
            "metadata": {},
            "outputs": [],
            "source": "# \u623b\u308a\u5024\u306eparse\nres = json.loads(response_scoring.text)\n\npred = res['predictions'][0]\npred_values = pred['values']\npred_values0 = [v[0][0] for v in pred_values]\npred_fields = pred['fields']\ndf_res = pd.DataFrame(pred_values0, columns = pred_fields)"
        },
        {
            "cell_type": "code",
            "execution_count": 15,
            "metadata": {},
            "outputs": [
                {
                    "data": {
                        "text/html": "<div>\n<style scoped>\n    .dataframe tbody tr th:only-of-type {\n        vertical-align: middle;\n    }\n\n    .dataframe tbody tr th {\n        vertical-align: top;\n    }\n\n    .dataframe thead th {\n        text-align: right;\n    }\n</style>\n<table border=\"1\" class=\"dataframe\">\n  <thead>\n    <tr style=\"text-align: right;\">\n      <th></th>\n      <th>prediction</th>\n    </tr>\n  </thead>\n  <tbody>\n    <tr>\n      <th>0</th>\n      <td>84624.406250</td>\n    </tr>\n    <tr>\n      <th>1</th>\n      <td>89949.171875</td>\n    </tr>\n    <tr>\n      <th>2</th>\n      <td>88986.390625</td>\n    </tr>\n    <tr>\n      <th>3</th>\n      <td>94686.203125</td>\n    </tr>\n    <tr>\n      <th>4</th>\n      <td>95471.203125</td>\n    </tr>\n  </tbody>\n</table>\n</div>",
                        "text/plain": "     prediction\n0  84624.406250\n1  89949.171875\n2  88986.390625\n3  94686.203125\n4  95471.203125"
                    },
                    "metadata": {},
                    "output_type": "display_data"
                }
            ],
            "source": "display(df_res.head())"
        },
        {
            "cell_type": "code",
            "execution_count": 16,
            "metadata": {},
            "outputs": [],
            "source": "df_res['Yt'] = Yt"
        },
        {
            "cell_type": "code",
            "execution_count": 17,
            "metadata": {},
            "outputs": [
                {
                    "data": {
                        "text/html": "<div>\n<style scoped>\n    .dataframe tbody tr th:only-of-type {\n        vertical-align: middle;\n    }\n\n    .dataframe tbody tr th {\n        vertical-align: top;\n    }\n\n    .dataframe thead th {\n        text-align: right;\n    }\n</style>\n<table border=\"1\" class=\"dataframe\">\n  <thead>\n    <tr style=\"text-align: right;\">\n      <th></th>\n      <th>prediction</th>\n      <th>Yt</th>\n    </tr>\n  </thead>\n  <tbody>\n    <tr>\n      <th>0</th>\n      <td>84624.406250</td>\n      <td>85281</td>\n    </tr>\n    <tr>\n      <th>1</th>\n      <td>89949.171875</td>\n      <td>85573</td>\n    </tr>\n    <tr>\n      <th>2</th>\n      <td>88986.390625</td>\n      <td>86730</td>\n    </tr>\n    <tr>\n      <th>3</th>\n      <td>94686.203125</td>\n      <td>96306</td>\n    </tr>\n    <tr>\n      <th>4</th>\n      <td>95471.203125</td>\n      <td>103809</td>\n    </tr>\n  </tbody>\n</table>\n</div>",
                        "text/plain": "     prediction      Yt\n0  84624.406250   85281\n1  89949.171875   85573\n2  88986.390625   86730\n3  94686.203125   96306\n4  95471.203125  103809"
                    },
                    "metadata": {},
                    "output_type": "display_data"
                }
            ],
            "source": "display(df_res.head())"
        },
        {
            "cell_type": "code",
            "execution_count": 18,
            "metadata": {},
            "outputs": [
                {
                    "name": "stdout",
                    "output_type": "stream",
                    "text": "[83500, 136697]\n"
                }
            ],
            "source": "yr = [Yt.min(), Yt.max()]\nprint(yr)"
        },
        {
            "cell_type": "code",
            "execution_count": 19,
            "metadata": {},
            "outputs": [
                {
                    "data": {
                        "image/png": "[encoded data removed]",
                        "text/plain": "<Figure size 432x432 with 1 Axes>"
                    },
                    "metadata": {
                        "needs_background": "light"
                    },
                    "output_type": "display_data"
                }
            ],
            "source": "plt.figure(figsize=(6,6))\nplt.scatter(df_res['Yt'], df_res['prediction'])\nplt.xlabel('Actual')\nplt.ylabel('Prdict')\nplt.plot(yr, yr)\nplt.grid()\nplt.show()"
        },
        {
            "cell_type": "code",
            "execution_count": null,
            "metadata": {},
            "outputs": [],
            "source": ""
        }
    ],
    "metadata": {
        "kernelspec": {
            "display_name": "Python 3.6",
            "language": "python",
            "name": "python3"
        },
        "language_info": {
            "codemirror_mode": {
                "name": "ipython",
                "version": 3
            },
            "file_extension": ".py",
            "mimetype": "text/x-python",
            "name": "python",
            "nbconvert_exporter": "python",
            "pygments_lexer": "ipython3",
            "version": "3.6.8"
        }
    },
    "nbformat": 4,
    "nbformat_minor": 1
}